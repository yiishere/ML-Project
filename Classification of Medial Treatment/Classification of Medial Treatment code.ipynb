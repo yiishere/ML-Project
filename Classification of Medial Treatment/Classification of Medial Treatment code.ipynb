{
 "cells": [
  {
   "cell_type": "code",
   "execution_count": 6,
   "metadata": {},
   "outputs": [],
   "source": [
    "#Import Data and Libraries\n",
    "import numpy as np\n",
    "import pandas as pd \n",
    "import matplotlib.pyplot as plt\n",
    "import seaborn as sns\n",
    "\n",
    "df = pd.read_csv('/Users/Ellina/Desktop/DS552/HW/HW2/ps2_public.csv')"
   ]
  },
  {
   "cell_type": "code",
   "execution_count": 7,
   "metadata": {
    "scrolled": true
   },
   "outputs": [
    {
     "data": {
      "text/html": [
       "<div>\n",
       "<style scoped>\n",
       "    .dataframe tbody tr th:only-of-type {\n",
       "        vertical-align: middle;\n",
       "    }\n",
       "\n",
       "    .dataframe tbody tr th {\n",
       "        vertical-align: top;\n",
       "    }\n",
       "\n",
       "    .dataframe thead th {\n",
       "        text-align: right;\n",
       "    }\n",
       "</style>\n",
       "<table border=\"1\" class=\"dataframe\">\n",
       "  <thead>\n",
       "    <tr style=\"text-align: right;\">\n",
       "      <th></th>\n",
       "      <th>treatment</th>\n",
       "      <th>age</th>\n",
       "      <th>blood_pressure</th>\n",
       "      <th>gender</th>\n",
       "      <th>blood_test</th>\n",
       "      <th>family_history</th>\n",
       "      <th>TestA</th>\n",
       "      <th>TestB</th>\n",
       "      <th>GeneC</th>\n",
       "      <th>GeneD</th>\n",
       "      <th>GeneE</th>\n",
       "      <th>GeneF</th>\n",
       "    </tr>\n",
       "  </thead>\n",
       "  <tbody>\n",
       "    <tr>\n",
       "      <th>0</th>\n",
       "      <td>0</td>\n",
       "      <td>64</td>\n",
       "      <td>103.820809</td>\n",
       "      <td>non-female</td>\n",
       "      <td>negative</td>\n",
       "      <td>False</td>\n",
       "      <td>4.334376</td>\n",
       "      <td>0.324374</td>\n",
       "      <td>not active</td>\n",
       "      <td>1</td>\n",
       "      <td>1</td>\n",
       "      <td>0</td>\n",
       "    </tr>\n",
       "    <tr>\n",
       "      <th>1</th>\n",
       "      <td>0</td>\n",
       "      <td>52</td>\n",
       "      <td>107.071369</td>\n",
       "      <td>female</td>\n",
       "      <td>negative</td>\n",
       "      <td>False</td>\n",
       "      <td>0.361847</td>\n",
       "      <td>-0.213014</td>\n",
       "      <td>active</td>\n",
       "      <td>1</td>\n",
       "      <td>0</td>\n",
       "      <td>0</td>\n",
       "    </tr>\n",
       "    <tr>\n",
       "      <th>2</th>\n",
       "      <td>1</td>\n",
       "      <td>55</td>\n",
       "      <td>113.116130</td>\n",
       "      <td>female</td>\n",
       "      <td>positive</td>\n",
       "      <td>False</td>\n",
       "      <td>3.611842</td>\n",
       "      <td>-0.071740</td>\n",
       "      <td>not active</td>\n",
       "      <td>0</td>\n",
       "      <td>0</td>\n",
       "      <td>1</td>\n",
       "    </tr>\n",
       "    <tr>\n",
       "      <th>3</th>\n",
       "      <td>0</td>\n",
       "      <td>45</td>\n",
       "      <td>83.760932</td>\n",
       "      <td>female</td>\n",
       "      <td>negative</td>\n",
       "      <td>NaN</td>\n",
       "      <td>-5.282537</td>\n",
       "      <td>-0.237121</td>\n",
       "      <td>active</td>\n",
       "      <td>0</td>\n",
       "      <td>0</td>\n",
       "      <td>0</td>\n",
       "    </tr>\n",
       "    <tr>\n",
       "      <th>4</th>\n",
       "      <td>0</td>\n",
       "      <td>58</td>\n",
       "      <td>131.135933</td>\n",
       "      <td>female</td>\n",
       "      <td>negative</td>\n",
       "      <td>False</td>\n",
       "      <td>2.787207</td>\n",
       "      <td>0.195470</td>\n",
       "      <td>not active</td>\n",
       "      <td>0</td>\n",
       "      <td>1</td>\n",
       "      <td>1</td>\n",
       "    </tr>\n",
       "    <tr>\n",
       "      <th>5</th>\n",
       "      <td>0</td>\n",
       "      <td>73</td>\n",
       "      <td>89.559418</td>\n",
       "      <td>female</td>\n",
       "      <td>negative</td>\n",
       "      <td>False</td>\n",
       "      <td>9.377399</td>\n",
       "      <td>0.026624</td>\n",
       "      <td>not active</td>\n",
       "      <td>1</td>\n",
       "      <td>1</td>\n",
       "      <td>1</td>\n",
       "    </tr>\n",
       "    <tr>\n",
       "      <th>6</th>\n",
       "      <td>0</td>\n",
       "      <td>58</td>\n",
       "      <td>102.094300</td>\n",
       "      <td>non-female</td>\n",
       "      <td>negative</td>\n",
       "      <td>False</td>\n",
       "      <td>3.283889</td>\n",
       "      <td>-0.203806</td>\n",
       "      <td>not active</td>\n",
       "      <td>1</td>\n",
       "      <td>0</td>\n",
       "      <td>1</td>\n",
       "    </tr>\n",
       "    <tr>\n",
       "      <th>7</th>\n",
       "      <td>1</td>\n",
       "      <td>61</td>\n",
       "      <td>98.796022</td>\n",
       "      <td>non-female</td>\n",
       "      <td>negative</td>\n",
       "      <td>NaN</td>\n",
       "      <td>5.237440</td>\n",
       "      <td>0.047754</td>\n",
       "      <td>active</td>\n",
       "      <td>0</td>\n",
       "      <td>0</td>\n",
       "      <td>1</td>\n",
       "    </tr>\n",
       "    <tr>\n",
       "      <th>8</th>\n",
       "      <td>1</td>\n",
       "      <td>55</td>\n",
       "      <td>101.069962</td>\n",
       "      <td>non-female</td>\n",
       "      <td>negative</td>\n",
       "      <td>False</td>\n",
       "      <td>-0.538130</td>\n",
       "      <td>0.110359</td>\n",
       "      <td>not active</td>\n",
       "      <td>1</td>\n",
       "      <td>0</td>\n",
       "      <td>1</td>\n",
       "    </tr>\n",
       "    <tr>\n",
       "      <th>9</th>\n",
       "      <td>1</td>\n",
       "      <td>51</td>\n",
       "      <td>95.959398</td>\n",
       "      <td>non-female</td>\n",
       "      <td>negative</td>\n",
       "      <td>False</td>\n",
       "      <td>-0.752222</td>\n",
       "      <td>0.011585</td>\n",
       "      <td>active</td>\n",
       "      <td>1</td>\n",
       "      <td>0</td>\n",
       "      <td>1</td>\n",
       "    </tr>\n",
       "  </tbody>\n",
       "</table>\n",
       "</div>"
      ],
      "text/plain": [
       "   treatment  age  blood_pressure      gender blood_test family_history  \\\n",
       "0          0   64      103.820809  non-female   negative          False   \n",
       "1          0   52      107.071369      female   negative          False   \n",
       "2          1   55      113.116130      female   positive          False   \n",
       "3          0   45       83.760932      female   negative            NaN   \n",
       "4          0   58      131.135933      female   negative          False   \n",
       "5          0   73       89.559418      female   negative          False   \n",
       "6          0   58      102.094300  non-female   negative          False   \n",
       "7          1   61       98.796022  non-female   negative            NaN   \n",
       "8          1   55      101.069962  non-female   negative          False   \n",
       "9          1   51       95.959398  non-female   negative          False   \n",
       "\n",
       "      TestA     TestB       GeneC  GeneD  GeneE  GeneF  \n",
       "0  4.334376  0.324374  not active      1      1      0  \n",
       "1  0.361847 -0.213014      active      1      0      0  \n",
       "2  3.611842 -0.071740  not active      0      0      1  \n",
       "3 -5.282537 -0.237121      active      0      0      0  \n",
       "4  2.787207  0.195470  not active      0      1      1  \n",
       "5  9.377399  0.026624  not active      1      1      1  \n",
       "6  3.283889 -0.203806  not active      1      0      1  \n",
       "7  5.237440  0.047754      active      0      0      1  \n",
       "8 -0.538130  0.110359  not active      1      0      1  \n",
       "9 -0.752222  0.011585      active      1      0      1  "
      ]
     },
     "execution_count": 7,
     "metadata": {},
     "output_type": "execute_result"
    }
   ],
   "source": [
    "df.head(10)"
   ]
  },
  {
   "cell_type": "code",
   "execution_count": 8,
   "metadata": {
    "scrolled": true
   },
   "outputs": [
    {
     "data": {
      "text/html": [
       "<div>\n",
       "<style scoped>\n",
       "    .dataframe tbody tr th:only-of-type {\n",
       "        vertical-align: middle;\n",
       "    }\n",
       "\n",
       "    .dataframe tbody tr th {\n",
       "        vertical-align: top;\n",
       "    }\n",
       "\n",
       "    .dataframe thead th {\n",
       "        text-align: right;\n",
       "    }\n",
       "</style>\n",
       "<table border=\"1\" class=\"dataframe\">\n",
       "  <thead>\n",
       "    <tr style=\"text-align: right;\">\n",
       "      <th></th>\n",
       "      <th>treatment</th>\n",
       "      <th>age</th>\n",
       "      <th>blood_pressure</th>\n",
       "      <th>TestA</th>\n",
       "      <th>TestB</th>\n",
       "      <th>GeneD</th>\n",
       "      <th>GeneE</th>\n",
       "      <th>GeneF</th>\n",
       "    </tr>\n",
       "  </thead>\n",
       "  <tbody>\n",
       "    <tr>\n",
       "      <th>count</th>\n",
       "      <td>7500.000000</td>\n",
       "      <td>7500.000000</td>\n",
       "      <td>7500.000000</td>\n",
       "      <td>7500.000000</td>\n",
       "      <td>7500.000000</td>\n",
       "      <td>7500.000000</td>\n",
       "      <td>7500.000000</td>\n",
       "      <td>7500.000000</td>\n",
       "    </tr>\n",
       "    <tr>\n",
       "      <th>mean</th>\n",
       "      <td>0.552533</td>\n",
       "      <td>59.978000</td>\n",
       "      <td>101.023910</td>\n",
       "      <td>3.983448</td>\n",
       "      <td>-0.000590</td>\n",
       "      <td>0.549467</td>\n",
       "      <td>0.550667</td>\n",
       "      <td>0.551200</td>\n",
       "    </tr>\n",
       "    <tr>\n",
       "      <th>std</th>\n",
       "      <td>0.497266</td>\n",
       "      <td>8.100115</td>\n",
       "      <td>36.128945</td>\n",
       "      <td>4.162343</td>\n",
       "      <td>0.171500</td>\n",
       "      <td>0.497580</td>\n",
       "      <td>0.497459</td>\n",
       "      <td>0.497405</td>\n",
       "    </tr>\n",
       "    <tr>\n",
       "      <th>min</th>\n",
       "      <td>0.000000</td>\n",
       "      <td>29.000000</td>\n",
       "      <td>-999.000000</td>\n",
       "      <td>-11.699344</td>\n",
       "      <td>-0.288422</td>\n",
       "      <td>0.000000</td>\n",
       "      <td>0.000000</td>\n",
       "      <td>0.000000</td>\n",
       "    </tr>\n",
       "    <tr>\n",
       "      <th>25%</th>\n",
       "      <td>0.000000</td>\n",
       "      <td>54.000000</td>\n",
       "      <td>91.802997</td>\n",
       "      <td>1.117443</td>\n",
       "      <td>-0.134452</td>\n",
       "      <td>0.000000</td>\n",
       "      <td>0.000000</td>\n",
       "      <td>0.000000</td>\n",
       "    </tr>\n",
       "    <tr>\n",
       "      <th>50%</th>\n",
       "      <td>1.000000</td>\n",
       "      <td>60.000000</td>\n",
       "      <td>99.814330</td>\n",
       "      <td>3.991237</td>\n",
       "      <td>-0.027296</td>\n",
       "      <td>1.000000</td>\n",
       "      <td>1.000000</td>\n",
       "      <td>1.000000</td>\n",
       "    </tr>\n",
       "    <tr>\n",
       "      <th>75%</th>\n",
       "      <td>1.000000</td>\n",
       "      <td>65.000000</td>\n",
       "      <td>110.095869</td>\n",
       "      <td>6.784449</td>\n",
       "      <td>0.101578</td>\n",
       "      <td>1.000000</td>\n",
       "      <td>1.000000</td>\n",
       "      <td>1.000000</td>\n",
       "    </tr>\n",
       "    <tr>\n",
       "      <th>max</th>\n",
       "      <td>1.000000</td>\n",
       "      <td>93.000000</td>\n",
       "      <td>157.471226</td>\n",
       "      <td>21.386412</td>\n",
       "      <td>0.740719</td>\n",
       "      <td>1.000000</td>\n",
       "      <td>1.000000</td>\n",
       "      <td>1.000000</td>\n",
       "    </tr>\n",
       "  </tbody>\n",
       "</table>\n",
       "</div>"
      ],
      "text/plain": [
       "         treatment          age  blood_pressure        TestA        TestB  \\\n",
       "count  7500.000000  7500.000000     7500.000000  7500.000000  7500.000000   \n",
       "mean      0.552533    59.978000      101.023910     3.983448    -0.000590   \n",
       "std       0.497266     8.100115       36.128945     4.162343     0.171500   \n",
       "min       0.000000    29.000000     -999.000000   -11.699344    -0.288422   \n",
       "25%       0.000000    54.000000       91.802997     1.117443    -0.134452   \n",
       "50%       1.000000    60.000000       99.814330     3.991237    -0.027296   \n",
       "75%       1.000000    65.000000      110.095869     6.784449     0.101578   \n",
       "max       1.000000    93.000000      157.471226    21.386412     0.740719   \n",
       "\n",
       "             GeneD        GeneE        GeneF  \n",
       "count  7500.000000  7500.000000  7500.000000  \n",
       "mean      0.549467     0.550667     0.551200  \n",
       "std       0.497580     0.497459     0.497405  \n",
       "min       0.000000     0.000000     0.000000  \n",
       "25%       0.000000     0.000000     0.000000  \n",
       "50%       1.000000     1.000000     1.000000  \n",
       "75%       1.000000     1.000000     1.000000  \n",
       "max       1.000000     1.000000     1.000000  "
      ]
     },
     "execution_count": 8,
     "metadata": {},
     "output_type": "execute_result"
    }
   ],
   "source": [
    "df.describe()"
   ]
  },
  {
   "cell_type": "code",
   "execution_count": 9,
   "metadata": {},
   "outputs": [
    {
     "name": "stdout",
     "output_type": "stream",
     "text": [
      "(7500, 12)\n",
      "Index(['treatment', 'age', 'blood_pressure', 'gender', 'blood_test',\n",
      "       'family_history', 'TestA', 'TestB', 'GeneC', 'GeneD', 'GeneE', 'GeneF'],\n",
      "      dtype='object')\n"
     ]
    }
   ],
   "source": [
    "#Understand the dataset, Look through the data shape and what featues in the dataset.\n",
    "print(df.shape)\n",
    "print(df.columns)"
   ]
  },
  {
   "cell_type": "code",
   "execution_count": null,
   "metadata": {},
   "outputs": [],
   "source": []
  },
  {
   "cell_type": "markdown",
   "metadata": {},
   "source": [
    "# 1. Data Cleaning\n"
   ]
  },
  {
   "cell_type": "markdown",
   "metadata": {},
   "source": [
    "## 1.1 Outlier"
   ]
  },
  {
   "cell_type": "markdown",
   "metadata": {},
   "source": [
    "### 1.1.1 Age"
   ]
  },
  {
   "cell_type": "code",
   "execution_count": 10,
   "metadata": {},
   "outputs": [
    {
     "data": {
      "image/png": "[encoded data removed]",
      "text/plain": [
       "<Figure size 216x432 with 1 Axes>"
      ]
     },
     "metadata": {
      "needs_background": "light"
     },
     "output_type": "display_data"
    }
   ],
   "source": [
    "#Visualized the age via boxplot\n",
    "plt.figure(figsize=(3,6))\n",
    "sns.boxplot(y='age', data=df);"
   ]
  },
  {
   "cell_type": "code",
   "execution_count": 11,
   "metadata": {},
   "outputs": [
    {
     "name": "stdout",
     "output_type": "stream",
     "text": [
      "50.0 70.0\n"
     ]
    }
   ],
   "source": [
    "y = sorted(df['age'])\n",
    "quantile1, quantile3 = np.percentile(y, [10,90])\n",
    "print(quantile1, quantile3)"
   ]
  },
  {
   "cell_type": "code",
   "execution_count": 12,
   "metadata": {},
   "outputs": [
    {
     "data": {
      "text/plain": [
       "(6037, 12)"
      ]
     },
     "execution_count": 12,
     "metadata": {},
     "output_type": "execute_result"
    }
   ],
   "source": [
    "df = df[(df.age <= 70) & (df.age >= 50)]\n",
    "df.shape"
   ]
  },
  {
   "cell_type": "code",
   "execution_count": 13,
   "metadata": {},
   "outputs": [
    {
     "data": {
      "image/png": "[encoded data removed]",
      "text/plain": [
       "<Figure size 216x432 with 1 Axes>"
      ]
     },
     "metadata": {
      "needs_background": "light"
     },
     "output_type": "display_data"
    }
   ],
   "source": [
    "#Visualized the age via boxplot again\n",
    "plt.figure(figsize=(3,6))\n",
    "sns.boxplot(y='age', data=df);"
   ]
  },
  {
   "cell_type": "code",
   "execution_count": 14,
   "metadata": {},
   "outputs": [
    {
     "data": {
      "text/plain": [
       "<matplotlib.axes._subplots.AxesSubplot at 0x1041893a0>"
      ]
     },
     "execution_count": 14,
     "metadata": {},
     "output_type": "execute_result"
    },
    {
     "data": {
      "image/png": "[encoded data removed]",
      "text/plain": [
       "<Figure size 432x288 with 1 Axes>"
      ]
     },
     "metadata": {
      "needs_background": "light"
     },
     "output_type": "display_data"
    }
   ],
   "source": [
    "sns.countplot(x='age', data=df)"
   ]
  },
  {
   "cell_type": "code",
   "execution_count": null,
   "metadata": {},
   "outputs": [],
   "source": []
  },
  {
   "cell_type": "markdown",
   "metadata": {},
   "source": [
    "### 1.1.2 Blood_Pressure"
   ]
  },
  {
   "cell_type": "code",
   "execution_count": 15,
   "metadata": {},
   "outputs": [
    {
     "data": {
      "text/plain": [
       "<seaborn.axisgrid.FacetGrid at 0x104e55d00>"
      ]
     },
     "execution_count": 15,
     "metadata": {},
     "output_type": "execute_result"
    },
    {
     "data": {
      "image/png": "[encoded data removed]",
      "text/plain": [
       "<Figure size 360x360 with 1 Axes>"
      ]
     },
     "metadata": {
      "needs_background": "light"
     },
     "output_type": "display_data"
    }
   ],
   "source": [
    "sns.displot(x='blood_pressure', data=df)"
   ]
  },
  {
   "cell_type": "markdown",
   "metadata": {},
   "source": [
    "- It is not possible for blood_pressure with negative value\n",
    "- Drop value of blood_pressure less than 0"
   ]
  },
  {
   "cell_type": "code",
   "execution_count": 16,
   "metadata": {},
   "outputs": [
    {
     "data": {
      "text/plain": [
       "(6031, 12)"
      ]
     },
     "execution_count": 16,
     "metadata": {},
     "output_type": "execute_result"
    }
   ],
   "source": [
    "df = df[df.blood_pressure >= 0 ]\n",
    "df.shape"
   ]
  },
  {
   "cell_type": "code",
   "execution_count": 17,
   "metadata": {},
   "outputs": [
    {
     "data": {
      "text/plain": [
       "<seaborn.axisgrid.FacetGrid at 0x120842e80>"
      ]
     },
     "execution_count": 17,
     "metadata": {},
     "output_type": "execute_result"
    },
    {
     "data": {
      "image/png": "[encoded data removed]",
      "text/plain": [
       "<Figure size 360x360 with 1 Axes>"
      ]
     },
     "metadata": {
      "needs_background": "light"
     },
     "output_type": "display_data"
    }
   ],
   "source": [
    "sns.displot(x='blood_pressure', data=df)"
   ]
  },
  {
   "cell_type": "markdown",
   "metadata": {},
   "source": [
    "## 1.2 Missing Values "
   ]
  },
  {
   "cell_type": "code",
   "execution_count": 18,
   "metadata": {},
   "outputs": [
    {
     "name": "stdout",
     "output_type": "stream",
     "text": [
      "treatment            0\n",
      "age                  0\n",
      "blood_pressure       0\n",
      "gender               0\n",
      "blood_test           0\n",
      "family_history    2095\n",
      "TestA                0\n",
      "TestB                0\n",
      "GeneC                0\n",
      "GeneD                0\n",
      "GeneE                0\n",
      "GeneF                0\n",
      "dtype: int64\n"
     ]
    }
   ],
   "source": [
    "#To see the number of Missing value\n",
    "Missing_values = df.isnull().sum()\n",
    "print(Missing_values)"
   ]
  },
  {
   "cell_type": "markdown",
   "metadata": {},
   "source": [
    "#### - fill missing values according to frequency"
   ]
  },
  {
   "cell_type": "markdown",
   "metadata": {},
   "source": [
    "- Check with value_counts + np.random.choice\n",
    "\n",
    "- Reference: https://stackoverflow.com/questions/63548053/python-fill-missing-values-according-to-frequency"
   ]
  },
  {
   "cell_type": "code",
   "execution_count": 19,
   "metadata": {},
   "outputs": [
    {
     "name": "stdout",
     "output_type": "stream",
     "text": [
      "False    0.985772\n",
      "True     0.014228\n",
      "Name: family_history, dtype: float64\n"
     ]
    }
   ],
   "source": [
    "#A generic answer: more than 2 valid values in the column is to find the distribution and fill based on that. \n",
    "dist = df.family_history.value_counts(normalize=True)\n",
    "print(dist)\n"
   ]
  },
  {
   "cell_type": "code",
   "execution_count": 20,
   "metadata": {},
   "outputs": [],
   "source": [
    "#get the rows with missing values\n",
    "nan_rows = df['family_history'].isnull()"
   ]
  },
  {
   "cell_type": "code",
   "execution_count": 21,
   "metadata": {},
   "outputs": [],
   "source": [
    "#fill the those rows with randomly selected values based on the above distribution\n",
    "df.loc[nan_rows,'family_history'] = np.random.choice(dist.index, size=len(df[nan_rows]),p=dist.values)\n"
   ]
  },
  {
   "cell_type": "code",
   "execution_count": 22,
   "metadata": {},
   "outputs": [
    {
     "name": "stdout",
     "output_type": "stream",
     "text": [
      "treatment         0\n",
      "age               0\n",
      "blood_pressure    0\n",
      "gender            0\n",
      "blood_test        0\n",
      "family_history    0\n",
      "TestA             0\n",
      "TestB             0\n",
      "GeneC             0\n",
      "GeneD             0\n",
      "GeneE             0\n",
      "GeneF             0\n",
      "dtype: int64\n"
     ]
    }
   ],
   "source": [
    "#Check again for number of Missing value \n",
    "Missing_values = df.isnull().sum()\n",
    "print(Missing_values)"
   ]
  },
  {
   "cell_type": "markdown",
   "metadata": {},
   "source": [
    "# 2. Exploratory Data Analysis"
   ]
  },
  {
   "cell_type": "markdown",
   "metadata": {},
   "source": [
    "- To investigate the distribution of all features with respect to target feature(treatment) for a general understanding. "
   ]
  },
  {
   "cell_type": "code",
   "execution_count": 23,
   "metadata": {},
   "outputs": [
    {
     "data": {
      "text/plain": [
       "array([[<matplotlib.axes._subplots.AxesSubplot object at 0x1206f6910>,\n",
       "        <matplotlib.axes._subplots.AxesSubplot object at 0x10419c790>,\n",
       "        <matplotlib.axes._subplots.AxesSubplot object at 0x12061c130>],\n",
       "       [<matplotlib.axes._subplots.AxesSubplot object at 0x1207d6220>,\n",
       "        <matplotlib.axes._subplots.AxesSubplot object at 0x1041d86a0>,\n",
       "        <matplotlib.axes._subplots.AxesSubplot object at 0x104206a30>],\n",
       "       [<matplotlib.axes._subplots.AxesSubplot object at 0x104206b20>,\n",
       "        <matplotlib.axes._subplots.AxesSubplot object at 0x121174fd0>,\n",
       "        <matplotlib.axes._subplots.AxesSubplot object at 0x1211da760>]],\n",
       "      dtype=object)"
      ]
     },
     "execution_count": 23,
     "metadata": {},
     "output_type": "execute_result"
    },
    {
     "data": {
      "image/png": "[encoded data removed]",
      "text/plain": [
       "<Figure size 1296x864 with 9 Axes>"
      ]
     },
     "metadata": {
      "needs_background": "light"
     },
     "output_type": "display_data"
    }
   ],
   "source": [
    "#To investigate the histogram of each attribute. \n",
    "df.hist(bins=50,figsize=(18,12))"
   ]
  },
  {
   "cell_type": "markdown",
   "metadata": {},
   "source": [
    "### 2.1 Correlation between numerical attributes\n"
   ]
  },
  {
   "cell_type": "code",
   "execution_count": 24,
   "metadata": {},
   "outputs": [],
   "source": [
    "numeric_attribute = ['treatment', 'age', 'blood_pressure', 'TestA', 'TestB', 'GeneD', 'GeneE', 'GeneF']\n"
   ]
  },
  {
   "cell_type": "code",
   "execution_count": 25,
   "metadata": {},
   "outputs": [
    {
     "data": {
      "text/html": [
       "<style  type=\"text/css\" >\n",
       "    #T_116a8662_772d_11eb_8067_c4b301ca0a25row0_col0 {\n",
       "            background-color:  #081d58;\n",
       "            color:  #f1f1f1;\n",
       "        }    #T_116a8662_772d_11eb_8067_c4b301ca0a25row0_col1 {\n",
       "            background-color:  #ffffd9;\n",
       "            color:  #000000;\n",
       "        }    #T_116a8662_772d_11eb_8067_c4b301ca0a25row0_col2 {\n",
       "            background-color:  #eff9b5;\n",
       "            color:  #000000;\n",
       "        }    #T_116a8662_772d_11eb_8067_c4b301ca0a25row0_col3 {\n",
       "            background-color:  #ffffd9;\n",
       "            color:  #000000;\n",
       "        }    #T_116a8662_772d_11eb_8067_c4b301ca0a25row0_col4 {\n",
       "            background-color:  #ffffd9;\n",
       "            color:  #000000;\n",
       "        }    #T_116a8662_772d_11eb_8067_c4b301ca0a25row0_col5 {\n",
       "            background-color:  #ffffd9;\n",
       "            color:  #000000;\n",
       "        }    #T_116a8662_772d_11eb_8067_c4b301ca0a25row0_col6 {\n",
       "            background-color:  #ffffd9;\n",
       "            color:  #000000;\n",
       "        }    #T_116a8662_772d_11eb_8067_c4b301ca0a25row0_col7 {\n",
       "            background-color:  #ffffd9;\n",
       "            color:  #000000;\n",
       "        }    #T_116a8662_772d_11eb_8067_c4b301ca0a25row1_col0 {\n",
       "            background-color:  #ffffd9;\n",
       "            color:  #000000;\n",
       "        }    #T_116a8662_772d_11eb_8067_c4b301ca0a25row1_col1 {\n",
       "            background-color:  #081d58;\n",
       "            color:  #f1f1f1;\n",
       "        }    #T_116a8662_772d_11eb_8067_c4b301ca0a25row1_col2 {\n",
       "            background-color:  #ffffd9;\n",
       "            color:  #000000;\n",
       "        }    #T_116a8662_772d_11eb_8067_c4b301ca0a25row1_col3 {\n",
       "            background-color:  #152772;\n",
       "            color:  #f1f1f1;\n",
       "        }    #T_116a8662_772d_11eb_8067_c4b301ca0a25row1_col4 {\n",
       "            background-color:  #f6fbc5;\n",
       "            color:  #000000;\n",
       "        }    #T_116a8662_772d_11eb_8067_c4b301ca0a25row1_col5 {\n",
       "            background-color:  #fdfed5;\n",
       "            color:  #000000;\n",
       "        }    #T_116a8662_772d_11eb_8067_c4b301ca0a25row1_col6 {\n",
       "            background-color:  #f5fbc2;\n",
       "            color:  #000000;\n",
       "        }    #T_116a8662_772d_11eb_8067_c4b301ca0a25row1_col7 {\n",
       "            background-color:  #ffffd9;\n",
       "            color:  #000000;\n",
       "        }    #T_116a8662_772d_11eb_8067_c4b301ca0a25row2_col0 {\n",
       "            background-color:  #d0edb3;\n",
       "            color:  #000000;\n",
       "        }    #T_116a8662_772d_11eb_8067_c4b301ca0a25row2_col1 {\n",
       "            background-color:  #eff9b5;\n",
       "            color:  #000000;\n",
       "        }    #T_116a8662_772d_11eb_8067_c4b301ca0a25row2_col2 {\n",
       "            background-color:  #081d58;\n",
       "            color:  #f1f1f1;\n",
       "        }    #T_116a8662_772d_11eb_8067_c4b301ca0a25row2_col3 {\n",
       "            background-color:  #eff9b6;\n",
       "            color:  #000000;\n",
       "        }    #T_116a8662_772d_11eb_8067_c4b301ca0a25row2_col4 {\n",
       "            background-color:  #f3fabd;\n",
       "            color:  #000000;\n",
       "        }    #T_116a8662_772d_11eb_8067_c4b301ca0a25row2_col5 {\n",
       "            background-color:  #fdfed4;\n",
       "            color:  #000000;\n",
       "        }    #T_116a8662_772d_11eb_8067_c4b301ca0a25row2_col6 {\n",
       "            background-color:  #f9fdcc;\n",
       "            color:  #000000;\n",
       "        }    #T_116a8662_772d_11eb_8067_c4b301ca0a25row2_col7 {\n",
       "            background-color:  #feffd6;\n",
       "            color:  #000000;\n",
       "        }    #T_116a8662_772d_11eb_8067_c4b301ca0a25row3_col0 {\n",
       "            background-color:  #feffd8;\n",
       "            color:  #000000;\n",
       "        }    #T_116a8662_772d_11eb_8067_c4b301ca0a25row3_col1 {\n",
       "            background-color:  #152772;\n",
       "            color:  #f1f1f1;\n",
       "        }    #T_116a8662_772d_11eb_8067_c4b301ca0a25row3_col2 {\n",
       "            background-color:  #ffffd9;\n",
       "            color:  #000000;\n",
       "        }    #T_116a8662_772d_11eb_8067_c4b301ca0a25row3_col3 {\n",
       "            background-color:  #081d58;\n",
       "            color:  #f1f1f1;\n",
       "        }    #T_116a8662_772d_11eb_8067_c4b301ca0a25row3_col4 {\n",
       "            background-color:  #f5fbc4;\n",
       "            color:  #000000;\n",
       "        }    #T_116a8662_772d_11eb_8067_c4b301ca0a25row3_col5 {\n",
       "            background-color:  #fdfed4;\n",
       "            color:  #000000;\n",
       "        }    #T_116a8662_772d_11eb_8067_c4b301ca0a25row3_col6 {\n",
       "            background-color:  #f5fbc2;\n",
       "            color:  #000000;\n",
       "        }    #T_116a8662_772d_11eb_8067_c4b301ca0a25row3_col7 {\n",
       "            background-color:  #ffffd9;\n",
       "            color:  #000000;\n",
       "        }    #T_116a8662_772d_11eb_8067_c4b301ca0a25row4_col0 {\n",
       "            background-color:  #f9fdcb;\n",
       "            color:  #000000;\n",
       "        }    #T_116a8662_772d_11eb_8067_c4b301ca0a25row4_col1 {\n",
       "            background-color:  #f0f9b7;\n",
       "            color:  #000000;\n",
       "        }    #T_116a8662_772d_11eb_8067_c4b301ca0a25row4_col2 {\n",
       "            background-color:  #fdfed4;\n",
       "            color:  #000000;\n",
       "        }    #T_116a8662_772d_11eb_8067_c4b301ca0a25row4_col3 {\n",
       "            background-color:  #f0f9b8;\n",
       "            color:  #000000;\n",
       "        }    #T_116a8662_772d_11eb_8067_c4b301ca0a25row4_col4 {\n",
       "            background-color:  #081d58;\n",
       "            color:  #f1f1f1;\n",
       "        }    #T_116a8662_772d_11eb_8067_c4b301ca0a25row4_col5 {\n",
       "            background-color:  #feffd8;\n",
       "            color:  #000000;\n",
       "        }    #T_116a8662_772d_11eb_8067_c4b301ca0a25row4_col6 {\n",
       "            background-color:  #fafdce;\n",
       "            color:  #000000;\n",
       "        }    #T_116a8662_772d_11eb_8067_c4b301ca0a25row4_col7 {\n",
       "            background-color:  #feffd6;\n",
       "            color:  #000000;\n",
       "        }    #T_116a8662_772d_11eb_8067_c4b301ca0a25row5_col0 {\n",
       "            background-color:  #eef8b3;\n",
       "            color:  #000000;\n",
       "        }    #T_116a8662_772d_11eb_8067_c4b301ca0a25row5_col1 {\n",
       "            background-color:  #ecf7b1;\n",
       "            color:  #000000;\n",
       "        }    #T_116a8662_772d_11eb_8067_c4b301ca0a25row5_col2 {\n",
       "            background-color:  #fdfed4;\n",
       "            color:  #000000;\n",
       "        }    #T_116a8662_772d_11eb_8067_c4b301ca0a25row5_col3 {\n",
       "            background-color:  #edf8b1;\n",
       "            color:  #000000;\n",
       "        }    #T_116a8662_772d_11eb_8067_c4b301ca0a25row5_col4 {\n",
       "            background-color:  #f4fbc0;\n",
       "            color:  #000000;\n",
       "        }    #T_116a8662_772d_11eb_8067_c4b301ca0a25row5_col5 {\n",
       "            background-color:  #081d58;\n",
       "            color:  #f1f1f1;\n",
       "        }    #T_116a8662_772d_11eb_8067_c4b301ca0a25row5_col6 {\n",
       "            background-color:  #f8fcca;\n",
       "            color:  #000000;\n",
       "        }    #T_116a8662_772d_11eb_8067_c4b301ca0a25row5_col7 {\n",
       "            background-color:  #fcfed1;\n",
       "            color:  #000000;\n",
       "        }    #T_116a8662_772d_11eb_8067_c4b301ca0a25row6_col0 {\n",
       "            background-color:  #f3fabf;\n",
       "            color:  #000000;\n",
       "        }    #T_116a8662_772d_11eb_8067_c4b301ca0a25row6_col1 {\n",
       "            background-color:  #e7f6b1;\n",
       "            color:  #000000;\n",
       "        }    #T_116a8662_772d_11eb_8067_c4b301ca0a25row6_col2 {\n",
       "            background-color:  #feffd8;\n",
       "            color:  #000000;\n",
       "        }    #T_116a8662_772d_11eb_8067_c4b301ca0a25row6_col3 {\n",
       "            background-color:  #e8f6b1;\n",
       "            color:  #000000;\n",
       "        }    #T_116a8662_772d_11eb_8067_c4b301ca0a25row6_col4 {\n",
       "            background-color:  #f5fbc2;\n",
       "            color:  #000000;\n",
       "        }    #T_116a8662_772d_11eb_8067_c4b301ca0a25row6_col5 {\n",
       "            background-color:  #feffd6;\n",
       "            color:  #000000;\n",
       "        }    #T_116a8662_772d_11eb_8067_c4b301ca0a25row6_col6 {\n",
       "            background-color:  #081d58;\n",
       "            color:  #f1f1f1;\n",
       "        }    #T_116a8662_772d_11eb_8067_c4b301ca0a25row6_col7 {\n",
       "            background-color:  #feffd6;\n",
       "            color:  #000000;\n",
       "        }    #T_116a8662_772d_11eb_8067_c4b301ca0a25row7_col0 {\n",
       "            background-color:  #f0f9b7;\n",
       "            color:  #000000;\n",
       "        }    #T_116a8662_772d_11eb_8067_c4b301ca0a25row7_col1 {\n",
       "            background-color:  #eff9b6;\n",
       "            color:  #000000;\n",
       "        }    #T_116a8662_772d_11eb_8067_c4b301ca0a25row7_col2 {\n",
       "            background-color:  #ffffd9;\n",
       "            color:  #000000;\n",
       "        }    #T_116a8662_772d_11eb_8067_c4b301ca0a25row7_col3 {\n",
       "            background-color:  #f0f9b8;\n",
       "            color:  #000000;\n",
       "        }    #T_116a8662_772d_11eb_8067_c4b301ca0a25row7_col4 {\n",
       "            background-color:  #f5fbc2;\n",
       "            color:  #000000;\n",
       "        }    #T_116a8662_772d_11eb_8067_c4b301ca0a25row7_col5 {\n",
       "            background-color:  #fdfed4;\n",
       "            color:  #000000;\n",
       "        }    #T_116a8662_772d_11eb_8067_c4b301ca0a25row7_col6 {\n",
       "            background-color:  #fafdce;\n",
       "            color:  #000000;\n",
       "        }    #T_116a8662_772d_11eb_8067_c4b301ca0a25row7_col7 {\n",
       "            background-color:  #081d58;\n",
       "            color:  #f1f1f1;\n",
       "        }</style><table id=\"T_116a8662_772d_11eb_8067_c4b301ca0a25\" ><thead>    <tr>        <th class=\"blank level0\" ></th>        <th class=\"col_heading level0 col0\" >treatment</th>        <th class=\"col_heading level0 col1\" >age</th>        <th class=\"col_heading level0 col2\" >blood_pressure</th>        <th class=\"col_heading level0 col3\" >TestA</th>        <th class=\"col_heading level0 col4\" >TestB</th>        <th class=\"col_heading level0 col5\" >GeneD</th>        <th class=\"col_heading level0 col6\" >GeneE</th>        <th class=\"col_heading level0 col7\" >GeneF</th>    </tr></thead><tbody>\n",
       "                <tr>\n",
       "                        <th id=\"T_116a8662_772d_11eb_8067_c4b301ca0a25level0_row0\" class=\"row_heading level0 row0\" >treatment</th>\n",
       "                        <td id=\"T_116a8662_772d_11eb_8067_c4b301ca0a25row0_col0\" class=\"data row0 col0\" >1.000000</td>\n",
       "                        <td id=\"T_116a8662_772d_11eb_8067_c4b301ca0a25row0_col1\" class=\"data row0 col1\" >-0.140788</td>\n",
       "                        <td id=\"T_116a8662_772d_11eb_8067_c4b301ca0a25row0_col2\" class=\"data row0 col2\" >0.109113</td>\n",
       "                        <td id=\"T_116a8662_772d_11eb_8067_c4b301ca0a25row0_col3\" class=\"data row0 col3\" >-0.131988</td>\n",
       "                        <td id=\"T_116a8662_772d_11eb_8067_c4b301ca0a25row0_col4\" class=\"data row0 col4\" >-0.087565</td>\n",
       "                        <td id=\"T_116a8662_772d_11eb_8067_c4b301ca0a25row0_col5\" class=\"data row0 col5\" >-0.006741</td>\n",
       "                        <td id=\"T_116a8662_772d_11eb_8067_c4b301ca0a25row0_col6\" class=\"data row0 col6\" >-0.046960</td>\n",
       "                        <td id=\"T_116a8662_772d_11eb_8067_c4b301ca0a25row0_col7\" class=\"data row0 col7\" >-0.016503</td>\n",
       "            </tr>\n",
       "            <tr>\n",
       "                        <th id=\"T_116a8662_772d_11eb_8067_c4b301ca0a25level0_row1\" class=\"row_heading level0 row1\" >age</th>\n",
       "                        <td id=\"T_116a8662_772d_11eb_8067_c4b301ca0a25row1_col0\" class=\"data row1 col0\" >-0.140788</td>\n",
       "                        <td id=\"T_116a8662_772d_11eb_8067_c4b301ca0a25row1_col1\" class=\"data row1 col1\" >1.000000</td>\n",
       "                        <td id=\"T_116a8662_772d_11eb_8067_c4b301ca0a25row1_col2\" class=\"data row1 col2\" >-0.007385</td>\n",
       "                        <td id=\"T_116a8662_772d_11eb_8067_c4b301ca0a25row1_col3\" class=\"data row1 col3\" >0.937268</td>\n",
       "                        <td id=\"T_116a8662_772d_11eb_8067_c4b301ca0a25row1_col4\" class=\"data row1 col4\" >-0.016912</td>\n",
       "                        <td id=\"T_116a8662_772d_11eb_8067_c4b301ca0a25row1_col5\" class=\"data row1 col5\" >0.008545</td>\n",
       "                        <td id=\"T_116a8662_772d_11eb_8067_c4b301ca0a25row1_col6\" class=\"data row1 col6\" >0.027627</td>\n",
       "                        <td id=\"T_116a8662_772d_11eb_8067_c4b301ca0a25row1_col7\" class=\"data row1 col7\" >-0.012634</td>\n",
       "            </tr>\n",
       "            <tr>\n",
       "                        <th id=\"T_116a8662_772d_11eb_8067_c4b301ca0a25level0_row2\" class=\"row_heading level0 row2\" >blood_pressure</th>\n",
       "                        <td id=\"T_116a8662_772d_11eb_8067_c4b301ca0a25row2_col0\" class=\"data row2 col0\" >0.109113</td>\n",
       "                        <td id=\"T_116a8662_772d_11eb_8067_c4b301ca0a25row2_col1\" class=\"data row2 col1\" >-0.007385</td>\n",
       "                        <td id=\"T_116a8662_772d_11eb_8067_c4b301ca0a25row2_col2\" class=\"data row2 col2\" >1.000000</td>\n",
       "                        <td id=\"T_116a8662_772d_11eb_8067_c4b301ca0a25row2_col3\" class=\"data row2 col3\" >-0.007389</td>\n",
       "                        <td id=\"T_116a8662_772d_11eb_8067_c4b301ca0a25row2_col4\" class=\"data row2 col4\" >0.009860</td>\n",
       "                        <td id=\"T_116a8662_772d_11eb_8067_c4b301ca0a25row2_col5\" class=\"data row2 col5\" >0.010710</td>\n",
       "                        <td id=\"T_116a8662_772d_11eb_8067_c4b301ca0a25row2_col6\" class=\"data row2 col6\" >-0.002443</td>\n",
       "                        <td id=\"T_116a8662_772d_11eb_8067_c4b301ca0a25row2_col7\" class=\"data row2 col7\" >-0.008529</td>\n",
       "            </tr>\n",
       "            <tr>\n",
       "                        <th id=\"T_116a8662_772d_11eb_8067_c4b301ca0a25level0_row3\" class=\"row_heading level0 row3\" >TestA</th>\n",
       "                        <td id=\"T_116a8662_772d_11eb_8067_c4b301ca0a25row3_col0\" class=\"data row3 col0\" >-0.131988</td>\n",
       "                        <td id=\"T_116a8662_772d_11eb_8067_c4b301ca0a25row3_col1\" class=\"data row3 col1\" >0.937268</td>\n",
       "                        <td id=\"T_116a8662_772d_11eb_8067_c4b301ca0a25row3_col2\" class=\"data row3 col2\" >-0.007389</td>\n",
       "                        <td id=\"T_116a8662_772d_11eb_8067_c4b301ca0a25row3_col3\" class=\"data row3 col3\" >1.000000</td>\n",
       "                        <td id=\"T_116a8662_772d_11eb_8067_c4b301ca0a25row3_col4\" class=\"data row3 col4\" >-0.013121</td>\n",
       "                        <td id=\"T_116a8662_772d_11eb_8067_c4b301ca0a25row3_col5\" class=\"data row3 col5\" >0.012030</td>\n",
       "                        <td id=\"T_116a8662_772d_11eb_8067_c4b301ca0a25row3_col6\" class=\"data row3 col6\" >0.028920</td>\n",
       "                        <td id=\"T_116a8662_772d_11eb_8067_c4b301ca0a25row3_col7\" class=\"data row3 col7\" >-0.015040</td>\n",
       "            </tr>\n",
       "            <tr>\n",
       "                        <th id=\"T_116a8662_772d_11eb_8067_c4b301ca0a25level0_row4\" class=\"row_heading level0 row4\" >TestB</th>\n",
       "                        <td id=\"T_116a8662_772d_11eb_8067_c4b301ca0a25row4_col0\" class=\"data row4 col0\" >-0.087565</td>\n",
       "                        <td id=\"T_116a8662_772d_11eb_8067_c4b301ca0a25row4_col1\" class=\"data row4 col1\" >-0.016912</td>\n",
       "                        <td id=\"T_116a8662_772d_11eb_8067_c4b301ca0a25row4_col2\" class=\"data row4 col2\" >0.009860</td>\n",
       "                        <td id=\"T_116a8662_772d_11eb_8067_c4b301ca0a25row4_col3\" class=\"data row4 col3\" >-0.013121</td>\n",
       "                        <td id=\"T_116a8662_772d_11eb_8067_c4b301ca0a25row4_col4\" class=\"data row4 col4\" >1.000000</td>\n",
       "                        <td id=\"T_116a8662_772d_11eb_8067_c4b301ca0a25row4_col5\" class=\"data row4 col5\" >-0.000496</td>\n",
       "                        <td id=\"T_116a8662_772d_11eb_8067_c4b301ca0a25row4_col6\" class=\"data row4 col6\" >-0.008852</td>\n",
       "                        <td id=\"T_116a8662_772d_11eb_8067_c4b301ca0a25row4_col7\" class=\"data row4 col7\" >-0.007488</td>\n",
       "            </tr>\n",
       "            <tr>\n",
       "                        <th id=\"T_116a8662_772d_11eb_8067_c4b301ca0a25level0_row5\" class=\"row_heading level0 row5\" >GeneD</th>\n",
       "                        <td id=\"T_116a8662_772d_11eb_8067_c4b301ca0a25row5_col0\" class=\"data row5 col0\" >-0.006741</td>\n",
       "                        <td id=\"T_116a8662_772d_11eb_8067_c4b301ca0a25row5_col1\" class=\"data row5 col1\" >0.008545</td>\n",
       "                        <td id=\"T_116a8662_772d_11eb_8067_c4b301ca0a25row5_col2\" class=\"data row5 col2\" >0.010710</td>\n",
       "                        <td id=\"T_116a8662_772d_11eb_8067_c4b301ca0a25row5_col3\" class=\"data row5 col3\" >0.012030</td>\n",
       "                        <td id=\"T_116a8662_772d_11eb_8067_c4b301ca0a25row5_col4\" class=\"data row5 col4\" >-0.000496</td>\n",
       "                        <td id=\"T_116a8662_772d_11eb_8067_c4b301ca0a25row5_col5\" class=\"data row5 col5\" >1.000000</td>\n",
       "                        <td id=\"T_116a8662_772d_11eb_8067_c4b301ca0a25row5_col6\" class=\"data row5 col6\" >0.003983</td>\n",
       "                        <td id=\"T_116a8662_772d_11eb_8067_c4b301ca0a25row5_col7\" class=\"data row5 col7\" >0.009215</td>\n",
       "            </tr>\n",
       "            <tr>\n",
       "                        <th id=\"T_116a8662_772d_11eb_8067_c4b301ca0a25level0_row6\" class=\"row_heading level0 row6\" >GeneE</th>\n",
       "                        <td id=\"T_116a8662_772d_11eb_8067_c4b301ca0a25row6_col0\" class=\"data row6 col0\" >-0.046960</td>\n",
       "                        <td id=\"T_116a8662_772d_11eb_8067_c4b301ca0a25row6_col1\" class=\"data row6 col1\" >0.027627</td>\n",
       "                        <td id=\"T_116a8662_772d_11eb_8067_c4b301ca0a25row6_col2\" class=\"data row6 col2\" >-0.002443</td>\n",
       "                        <td id=\"T_116a8662_772d_11eb_8067_c4b301ca0a25row6_col3\" class=\"data row6 col3\" >0.028920</td>\n",
       "                        <td id=\"T_116a8662_772d_11eb_8067_c4b301ca0a25row6_col4\" class=\"data row6 col4\" >-0.008852</td>\n",
       "                        <td id=\"T_116a8662_772d_11eb_8067_c4b301ca0a25row6_col5\" class=\"data row6 col5\" >0.003983</td>\n",
       "                        <td id=\"T_116a8662_772d_11eb_8067_c4b301ca0a25row6_col6\" class=\"data row6 col6\" >1.000000</td>\n",
       "                        <td id=\"T_116a8662_772d_11eb_8067_c4b301ca0a25row6_col7\" class=\"data row6 col7\" >-0.006165</td>\n",
       "            </tr>\n",
       "            <tr>\n",
       "                        <th id=\"T_116a8662_772d_11eb_8067_c4b301ca0a25level0_row7\" class=\"row_heading level0 row7\" >GeneF</th>\n",
       "                        <td id=\"T_116a8662_772d_11eb_8067_c4b301ca0a25row7_col0\" class=\"data row7 col0\" >-0.016503</td>\n",
       "                        <td id=\"T_116a8662_772d_11eb_8067_c4b301ca0a25row7_col1\" class=\"data row7 col1\" >-0.012634</td>\n",
       "                        <td id=\"T_116a8662_772d_11eb_8067_c4b301ca0a25row7_col2\" class=\"data row7 col2\" >-0.008529</td>\n",
       "                        <td id=\"T_116a8662_772d_11eb_8067_c4b301ca0a25row7_col3\" class=\"data row7 col3\" >-0.015040</td>\n",
       "                        <td id=\"T_116a8662_772d_11eb_8067_c4b301ca0a25row7_col4\" class=\"data row7 col4\" >-0.007488</td>\n",
       "                        <td id=\"T_116a8662_772d_11eb_8067_c4b301ca0a25row7_col5\" class=\"data row7 col5\" >0.009215</td>\n",
       "                        <td id=\"T_116a8662_772d_11eb_8067_c4b301ca0a25row7_col6\" class=\"data row7 col6\" >-0.006165</td>\n",
       "                        <td id=\"T_116a8662_772d_11eb_8067_c4b301ca0a25row7_col7\" class=\"data row7 col7\" >1.000000</td>\n",
       "            </tr>\n",
       "    </tbody></table>"
      ],
      "text/plain": [
       "<pandas.io.formats.style.Styler at 0x120fee910>"
      ]
     },
     "execution_count": 25,
     "metadata": {},
     "output_type": "execute_result"
    }
   ],
   "source": [
    "#Plot correlation matrix\n",
    "corr_numeric = df[numeric_attribute].corr()\n",
    "corr_numeric.style.background_gradient(cmap='YlGnBu')"
   ]
  },
  {
   "cell_type": "markdown",
   "metadata": {},
   "source": [
    "- Notice that numerical attributes Test A & age have strong/higher realtionship (corr = 0.937)"
   ]
  },
  {
   "cell_type": "code",
   "execution_count": null,
   "metadata": {},
   "outputs": [],
   "source": []
  },
  {
   "cell_type": "markdown",
   "metadata": {},
   "source": [
    "### 2.2 Age, Gender, Treatment"
   ]
  },
  {
   "cell_type": "code",
   "execution_count": 26,
   "metadata": {},
   "outputs": [
    {
     "data": {
      "text/plain": [
       "<seaborn.axisgrid.FacetGrid at 0x1041198e0>"
      ]
     },
     "execution_count": 26,
     "metadata": {},
     "output_type": "execute_result"
    },
    {
     "data": {
      "image/png": "[encoded data removed]",
      "text/plain": [
       "<Figure size 812.875x360 with 2 Axes>"
      ]
     },
     "metadata": {
      "needs_background": "light"
     },
     "output_type": "display_data"
    }
   ],
   "source": [
    "# Age+Gender & Treatment\n",
    "sns.displot(x='age', hue='gender', col='treatment',data=df, kde=True)"
   ]
  },
  {
   "cell_type": "markdown",
   "metadata": {},
   "source": [
    "- Notice that the treatment efficiently on the age of 57 and 60\n",
    "- There is clear turning point of treatment from 1 to 0 between the age of 63 and 64."
   ]
  },
  {
   "cell_type": "code",
   "execution_count": 27,
   "metadata": {
    "scrolled": true
   },
   "outputs": [
    {
     "data": {
      "text/plain": [
       "<seaborn.axisgrid.FacetGrid at 0x12a8dd550>"
      ]
     },
     "execution_count": 27,
     "metadata": {},
     "output_type": "execute_result"
    },
    {
     "data": {
      "image/png": "[encoded data removed]",
      "text/plain": [
       "<Figure size 417.875x360 with 1 Axes>"
      ]
     },
     "metadata": {
      "needs_background": "light"
     },
     "output_type": "display_data"
    }
   ],
   "source": [
    "# Age & Treatment (displot)\n",
    "sns.displot(x='age', hue='treatment',data=df, kde=True)\n"
   ]
  },
  {
   "cell_type": "code",
   "execution_count": 28,
   "metadata": {},
   "outputs": [
    {
     "data": {
      "text/plain": [
       "<matplotlib.axes._subplots.AxesSubplot at 0x12ed43b50>"
      ]
     },
     "execution_count": 28,
     "metadata": {},
     "output_type": "execute_result"
    },
    {
     "data": {
      "image/png": "[encoded data removed]",
      "text/plain": [
       "<Figure size 432x288 with 1 Axes>"
      ]
     },
     "metadata": {
      "needs_background": "light"
     },
     "output_type": "display_data"
    }
   ],
   "source": [
    "# Age & Treatment (countplot)\n",
    "sns.countplot(x='age', hue='treatment',data=df)\n"
   ]
  },
  {
   "cell_type": "code",
   "execution_count": null,
   "metadata": {},
   "outputs": [],
   "source": []
  },
  {
   "cell_type": "markdown",
   "metadata": {},
   "source": [
    "### 2.3 Gender & Treatment"
   ]
  },
  {
   "cell_type": "code",
   "execution_count": 29,
   "metadata": {},
   "outputs": [
    {
     "name": "stdout",
     "output_type": "stream",
     "text": [
      "Treatment = 1: ==========\n",
      "female        2746\n",
      "non-female     599\n",
      "Name: gender, dtype: int64\n",
      "Treatment = 0: ==========\n",
      "non-female    1716\n",
      "female         970\n",
      "Name: gender, dtype: int64\n"
     ]
    }
   ],
   "source": [
    "#To see the relationship between gender (M/F) and treatment (0/1)\n",
    "df_treatment_1 = df[df['treatment'] ==1]\n",
    "print('Treatment = 1: ==========')\n",
    "print(df_treatment_1['gender'].value_counts())\n",
    "df_treatment_0 = df[df['treatment'] ==0]\n",
    "print('Treatment = 0: ==========')\n",
    "print(df_treatment_0['gender'].value_counts())"
   ]
  },
  {
   "cell_type": "markdown",
   "metadata": {},
   "source": [
    "- Notice that Male is around 40% of dataset while Female is 60% of dataset"
   ]
  },
  {
   "cell_type": "code",
   "execution_count": 30,
   "metadata": {},
   "outputs": [
    {
     "name": "stdout",
     "output_type": "stream",
     "text": [
      "(6031, 12)\n",
      "female        3716\n",
      "non-female    2315\n",
      "Name: gender, dtype: int64\n"
     ]
    },
    {
     "data": {
      "text/plain": [
       "<seaborn.axisgrid.FacetGrid at 0x11db0ef70>"
      ]
     },
     "execution_count": 30,
     "metadata": {},
     "output_type": "execute_result"
    },
    {
     "data": {
      "image/png": "[encoded data removed]",
      "text/plain": [
       "<Figure size 360x360 with 1 Axes>"
      ]
     },
     "metadata": {
      "needs_background": "light"
     },
     "output_type": "display_data"
    }
   ],
   "source": [
    "#Overall gender statistics\n",
    "print(df.shape)\n",
    "print(df['gender'].value_counts())\n",
    "sns.catplot(x=\"gender\", data =df,kind=\"count\")"
   ]
  },
  {
   "cell_type": "markdown",
   "metadata": {},
   "source": []
  },
  {
   "cell_type": "markdown",
   "metadata": {},
   "source": [
    "- There is a significant treatment on female rather than male. "
   ]
  },
  {
   "cell_type": "code",
   "execution_count": 31,
   "metadata": {},
   "outputs": [
    {
     "data": {
      "text/plain": [
       "<seaborn.axisgrid.FacetGrid at 0x12efc7940>"
      ]
     },
     "execution_count": 31,
     "metadata": {},
     "output_type": "execute_result"
    },
    {
     "data": {
      "image/png": "[encoded data removed]",
      "text/plain": [
       "<Figure size 452.875x360 with 1 Axes>"
      ]
     },
     "metadata": {
      "needs_background": "light"
     },
     "output_type": "display_data"
    }
   ],
   "source": [
    "#Statistics of gender based on treatment classification\n",
    "sns.catplot(x='treatment', hue='gender', data=df,kind='count')"
   ]
  },
  {
   "cell_type": "markdown",
   "metadata": {},
   "source": [
    "### 2.4 Gene C & Treatment"
   ]
  },
  {
   "cell_type": "code",
   "execution_count": 32,
   "metadata": {},
   "outputs": [
    {
     "data": {
      "text/plain": [
       "<seaborn.axisgrid.FacetGrid at 0x12ef05550>"
      ]
     },
     "execution_count": 32,
     "metadata": {},
     "output_type": "execute_result"
    },
    {
     "data": {
      "image/png": "[encoded data removed]",
      "text/plain": [
       "<Figure size 445.75x360 with 1 Axes>"
      ]
     },
     "metadata": {
      "needs_background": "light"
     },
     "output_type": "display_data"
    }
   ],
   "source": [
    "#Statistics of Gene C based on treatment classification\n",
    "sns.catplot(x='treatment', hue='GeneC', data=df,kind='count')"
   ]
  },
  {
   "cell_type": "code",
   "execution_count": null,
   "metadata": {},
   "outputs": [],
   "source": []
  },
  {
   "cell_type": "code",
   "execution_count": null,
   "metadata": {},
   "outputs": [],
   "source": []
  },
  {
   "cell_type": "code",
   "execution_count": null,
   "metadata": {},
   "outputs": [],
   "source": []
  },
  {
   "cell_type": "markdown",
   "metadata": {},
   "source": [
    "# 3. Data Preprocessing"
   ]
  },
  {
   "cell_type": "markdown",
   "metadata": {},
   "source": [
    "- In order to prepare data for predictive modeling, we need to change caterogircal variables into numbers. \n"
   ]
  },
  {
   "cell_type": "code",
   "execution_count": 33,
   "metadata": {},
   "outputs": [
    {
     "data": {
      "text/plain": [
       "(6031, 12)"
      ]
     },
     "execution_count": 33,
     "metadata": {},
     "output_type": "execute_result"
    }
   ],
   "source": [
    "df.shape"
   ]
  },
  {
   "cell_type": "code",
   "execution_count": 34,
   "metadata": {},
   "outputs": [
    {
     "name": "stdout",
     "output_type": "stream",
     "text": [
      "female        3716\n",
      "non-female    2315\n",
      "Name: gender, dtype: int64\n",
      "negative    5522\n",
      "positive     509\n",
      "Name: blood_test, dtype: int64\n",
      "False    5948\n",
      "True       83\n",
      "Name: family_history, dtype: int64\n",
      "not active    3299\n",
      "active        2732\n",
      "Name: GeneC, dtype: int64\n"
     ]
    }
   ],
   "source": [
    "#Look through each categorical value and counts\n",
    "print(df.gender.value_counts())\n",
    "print(df.blood_test.value_counts())\n",
    "print(df.family_history.value_counts())\n",
    "print(df.GeneC.value_counts())\n"
   ]
  },
  {
   "cell_type": "markdown",
   "metadata": {},
   "source": [
    "## 3.1 One-Hot Vectorization"
   ]
  },
  {
   "cell_type": "code",
   "execution_count": 35,
   "metadata": {},
   "outputs": [],
   "source": [
    "from sklearn.preprocessing import OneHotEncoder\n",
    "from sklearn.preprocessing import StandardScaler\n",
    "\n",
    "gender_encode, blood_test_encode, family_history_encode, GeneC_encode = OneHotEncoder(sparse=False), OneHotEncoder(sparse=False), OneHotEncoder(sparse=False), OneHotEncoder(sparse=False)\n",
    "\n",
    "gender_hot = gender_encode.fit_transform(df[['gender']])\n",
    "blood_test_hot = blood_test_encode.fit_transform(df[['blood_test']])\n",
    "family_history_hot = family_history_encode.fit_transform(df[['family_history']])\n",
    "GeneC_hot = GeneC_encode.fit_transform(df[['GeneC']])\n",
    "\n",
    "\n",
    "#Reference: Brownlee, J. (2019, August 14). How to one hot encode sequence data in python. Retrieved February 08, 2021, from https://machinelearningmastery.com/how-to-one-hot-encode-sequence-data-in-python/\n",
    "\n"
   ]
  },
  {
   "cell_type": "code",
   "execution_count": 36,
   "metadata": {},
   "outputs": [
    {
     "name": "stdout",
     "output_type": "stream",
     "text": [
      "['non-female' 'female' 'female' 'female' 'non-female' 'non-female'\n",
      " 'non-female' 'non-female' 'non-female' 'non-female' 'female' 'female'\n",
      " 'female' 'female' 'female']\n",
      "[1 0 0 0 1 1 1 1 1 1 0 0 0 0 0]\n",
      "['negative' 'negative' 'positive' 'negative' 'negative' 'negative'\n",
      " 'negative' 'negative' 'negative' 'negative' 'negative' 'negative'\n",
      " 'negative' 'negative' 'negative']\n",
      "[0 0 1 0 0 0 0 0 0 0 0 0 0 0 0]\n",
      "[False False False False False False False False False False False False\n",
      " False False False]\n",
      "[0 0 0 0 0 0 0 0 0 0 0 0 0 0 0]\n",
      "['not active' 'active' 'not active' 'not active' 'not active' 'active'\n",
      " 'not active' 'active' 'not active' 'not active' 'active' 'active'\n",
      " 'not active' 'not active' 'not active']\n",
      "[1 0 1 1 1 0 1 0 1 1 0 0 1 1 1]\n"
     ]
    }
   ],
   "source": [
    "from numpy import array\n",
    "from numpy import argmax\n",
    "from sklearn.preprocessing import LabelEncoder\n",
    "from sklearn.preprocessing import OneHotEncoder\n",
    "\n",
    "def change_to_OneHotEncoder(name):\n",
    "    \n",
    "    data = df[name]\n",
    "    values = array(data)\n",
    "    print(values[0:15])\n",
    "\n",
    "    # integer encode\n",
    "    label_encoder = LabelEncoder()\n",
    "    integer_encoded = label_encoder.fit_transform(values)\n",
    "    print(integer_encoded[0:15])\n",
    "\n",
    "    # binary encode\n",
    "    onehot_encoder = OneHotEncoder(sparse=False)\n",
    "    integer_encoded = integer_encoded.reshape(len(integer_encoded), 1)\n",
    "    onehot_encoded = onehot_encoder.fit_transform(integer_encoded)\n",
    "\n",
    "    #print(onehot_encoded[0:5])\n",
    "    onehot_encoded_df = pd.DataFrame(onehot_encoded)\n",
    "    return onehot_encoded_df\n",
    "\n",
    "gender_df = change_to_OneHotEncoder('gender')\n",
    "gender_df.columns = ['female', 'male']\n",
    "#gender_df.head(10)\n",
    "\n",
    "blood_test_df = change_to_OneHotEncoder('blood_test')\n",
    "blood_test_df.columns = ['bt_negative', 'bt_positive']\n",
    "\n",
    "family_history_df = change_to_OneHotEncoder('family_history')\n",
    "family_history_df.columns = ['fh_False', 'fh_True']\n",
    "\n",
    "GeneC_df = change_to_OneHotEncoder('GeneC')\n",
    "GeneC_df.columns = ['C_not active', 'C_active']\n",
    "\n",
    "#GeneC"
   ]
  },
  {
   "cell_type": "markdown",
   "metadata": {},
   "source": [
    "## 3.2 Create new dataframe 'df_new'"
   ]
  },
  {
   "cell_type": "code",
   "execution_count": 37,
   "metadata": {},
   "outputs": [
    {
     "data": {
      "text/html": [
       "<div>\n",
       "<style scoped>\n",
       "    .dataframe tbody tr th:only-of-type {\n",
       "        vertical-align: middle;\n",
       "    }\n",
       "\n",
       "    .dataframe tbody tr th {\n",
       "        vertical-align: top;\n",
       "    }\n",
       "\n",
       "    .dataframe thead th {\n",
       "        text-align: right;\n",
       "    }\n",
       "</style>\n",
       "<table border=\"1\" class=\"dataframe\">\n",
       "  <thead>\n",
       "    <tr style=\"text-align: right;\">\n",
       "      <th></th>\n",
       "      <th>treatment</th>\n",
       "      <th>age</th>\n",
       "      <th>blood_pressure</th>\n",
       "      <th>TestA</th>\n",
       "      <th>TestB</th>\n",
       "      <th>GeneD</th>\n",
       "      <th>GeneE</th>\n",
       "      <th>GeneF</th>\n",
       "    </tr>\n",
       "  </thead>\n",
       "  <tbody>\n",
       "    <tr>\n",
       "      <th>0</th>\n",
       "      <td>0</td>\n",
       "      <td>64</td>\n",
       "      <td>103.820809</td>\n",
       "      <td>4.334376</td>\n",
       "      <td>0.324374</td>\n",
       "      <td>1</td>\n",
       "      <td>1</td>\n",
       "      <td>0</td>\n",
       "    </tr>\n",
       "    <tr>\n",
       "      <th>1</th>\n",
       "      <td>0</td>\n",
       "      <td>52</td>\n",
       "      <td>107.071369</td>\n",
       "      <td>0.361847</td>\n",
       "      <td>-0.213014</td>\n",
       "      <td>1</td>\n",
       "      <td>0</td>\n",
       "      <td>0</td>\n",
       "    </tr>\n",
       "    <tr>\n",
       "      <th>2</th>\n",
       "      <td>1</td>\n",
       "      <td>55</td>\n",
       "      <td>113.116130</td>\n",
       "      <td>3.611842</td>\n",
       "      <td>-0.071740</td>\n",
       "      <td>0</td>\n",
       "      <td>0</td>\n",
       "      <td>1</td>\n",
       "    </tr>\n",
       "    <tr>\n",
       "      <th>3</th>\n",
       "      <td>0</td>\n",
       "      <td>58</td>\n",
       "      <td>131.135933</td>\n",
       "      <td>2.787207</td>\n",
       "      <td>0.195470</td>\n",
       "      <td>0</td>\n",
       "      <td>1</td>\n",
       "      <td>1</td>\n",
       "    </tr>\n",
       "    <tr>\n",
       "      <th>4</th>\n",
       "      <td>0</td>\n",
       "      <td>58</td>\n",
       "      <td>102.094300</td>\n",
       "      <td>3.283889</td>\n",
       "      <td>-0.203806</td>\n",
       "      <td>1</td>\n",
       "      <td>0</td>\n",
       "      <td>1</td>\n",
       "    </tr>\n",
       "    <tr>\n",
       "      <th>...</th>\n",
       "      <td>...</td>\n",
       "      <td>...</td>\n",
       "      <td>...</td>\n",
       "      <td>...</td>\n",
       "      <td>...</td>\n",
       "      <td>...</td>\n",
       "      <td>...</td>\n",
       "      <td>...</td>\n",
       "    </tr>\n",
       "    <tr>\n",
       "      <th>6026</th>\n",
       "      <td>0</td>\n",
       "      <td>55</td>\n",
       "      <td>99.173749</td>\n",
       "      <td>1.470279</td>\n",
       "      <td>-0.017893</td>\n",
       "      <td>0</td>\n",
       "      <td>1</td>\n",
       "      <td>1</td>\n",
       "    </tr>\n",
       "    <tr>\n",
       "      <th>6027</th>\n",
       "      <td>1</td>\n",
       "      <td>60</td>\n",
       "      <td>102.274615</td>\n",
       "      <td>4.017737</td>\n",
       "      <td>0.348200</td>\n",
       "      <td>0</td>\n",
       "      <td>0</td>\n",
       "      <td>1</td>\n",
       "    </tr>\n",
       "    <tr>\n",
       "      <th>6028</th>\n",
       "      <td>0</td>\n",
       "      <td>60</td>\n",
       "      <td>86.844244</td>\n",
       "      <td>3.001425</td>\n",
       "      <td>0.274537</td>\n",
       "      <td>1</td>\n",
       "      <td>0</td>\n",
       "      <td>0</td>\n",
       "    </tr>\n",
       "    <tr>\n",
       "      <th>6029</th>\n",
       "      <td>1</td>\n",
       "      <td>56</td>\n",
       "      <td>99.640132</td>\n",
       "      <td>2.442280</td>\n",
       "      <td>-0.062665</td>\n",
       "      <td>0</td>\n",
       "      <td>1</td>\n",
       "      <td>1</td>\n",
       "    </tr>\n",
       "    <tr>\n",
       "      <th>6030</th>\n",
       "      <td>0</td>\n",
       "      <td>53</td>\n",
       "      <td>83.356142</td>\n",
       "      <td>0.235244</td>\n",
       "      <td>-0.222358</td>\n",
       "      <td>1</td>\n",
       "      <td>0</td>\n",
       "      <td>0</td>\n",
       "    </tr>\n",
       "  </tbody>\n",
       "</table>\n",
       "<p>6031 rows × 8 columns</p>\n",
       "</div>"
      ],
      "text/plain": [
       "      treatment  age  blood_pressure     TestA     TestB  GeneD  GeneE  GeneF\n",
       "0             0   64      103.820809  4.334376  0.324374      1      1      0\n",
       "1             0   52      107.071369  0.361847 -0.213014      1      0      0\n",
       "2             1   55      113.116130  3.611842 -0.071740      0      0      1\n",
       "3             0   58      131.135933  2.787207  0.195470      0      1      1\n",
       "4             0   58      102.094300  3.283889 -0.203806      1      0      1\n",
       "...         ...  ...             ...       ...       ...    ...    ...    ...\n",
       "6026          0   55       99.173749  1.470279 -0.017893      0      1      1\n",
       "6027          1   60      102.274615  4.017737  0.348200      0      0      1\n",
       "6028          0   60       86.844244  3.001425  0.274537      1      0      0\n",
       "6029          1   56       99.640132  2.442280 -0.062665      0      1      1\n",
       "6030          0   53       83.356142  0.235244 -0.222358      1      0      0\n",
       "\n",
       "[6031 rows x 8 columns]"
      ]
     },
     "execution_count": 37,
     "metadata": {},
     "output_type": "execute_result"
    }
   ],
   "source": [
    "#Continuous Data\n",
    "numeric_attribute = ['treatment', 'age', 'blood_pressure', 'TestA', 'TestB', 'GeneD', 'GeneE', 'GeneF']\n",
    "numeric_df = df[numeric_attribute]\n",
    "\n",
    "numeric_df.shape\n",
    "\n",
    "numeric_df = numeric_df.reset_index(drop=True)\n",
    "numeric_df\n"
   ]
  },
  {
   "cell_type": "code",
   "execution_count": 38,
   "metadata": {},
   "outputs": [
    {
     "data": {
      "text/html": [
       "<div>\n",
       "<style scoped>\n",
       "    .dataframe tbody tr th:only-of-type {\n",
       "        vertical-align: middle;\n",
       "    }\n",
       "\n",
       "    .dataframe tbody tr th {\n",
       "        vertical-align: top;\n",
       "    }\n",
       "\n",
       "    .dataframe thead th {\n",
       "        text-align: right;\n",
       "    }\n",
       "</style>\n",
       "<table border=\"1\" class=\"dataframe\">\n",
       "  <thead>\n",
       "    <tr style=\"text-align: right;\">\n",
       "      <th></th>\n",
       "      <th>treatment</th>\n",
       "      <th>age</th>\n",
       "      <th>blood_pressure</th>\n",
       "      <th>TestA</th>\n",
       "      <th>TestB</th>\n",
       "      <th>GeneD</th>\n",
       "      <th>GeneE</th>\n",
       "      <th>GeneF</th>\n",
       "      <th>female</th>\n",
       "      <th>male</th>\n",
       "      <th>bt_negative</th>\n",
       "      <th>bt_positive</th>\n",
       "      <th>fh_False</th>\n",
       "      <th>fh_True</th>\n",
       "      <th>C_not active</th>\n",
       "      <th>C_active</th>\n",
       "    </tr>\n",
       "  </thead>\n",
       "  <tbody>\n",
       "    <tr>\n",
       "      <th>0</th>\n",
       "      <td>0</td>\n",
       "      <td>64</td>\n",
       "      <td>103.820809</td>\n",
       "      <td>4.334376</td>\n",
       "      <td>0.324374</td>\n",
       "      <td>1</td>\n",
       "      <td>1</td>\n",
       "      <td>0</td>\n",
       "      <td>0.0</td>\n",
       "      <td>1.0</td>\n",
       "      <td>1.0</td>\n",
       "      <td>0.0</td>\n",
       "      <td>1.0</td>\n",
       "      <td>0.0</td>\n",
       "      <td>0.0</td>\n",
       "      <td>1.0</td>\n",
       "    </tr>\n",
       "    <tr>\n",
       "      <th>1</th>\n",
       "      <td>0</td>\n",
       "      <td>52</td>\n",
       "      <td>107.071369</td>\n",
       "      <td>0.361847</td>\n",
       "      <td>-0.213014</td>\n",
       "      <td>1</td>\n",
       "      <td>0</td>\n",
       "      <td>0</td>\n",
       "      <td>1.0</td>\n",
       "      <td>0.0</td>\n",
       "      <td>1.0</td>\n",
       "      <td>0.0</td>\n",
       "      <td>1.0</td>\n",
       "      <td>0.0</td>\n",
       "      <td>1.0</td>\n",
       "      <td>0.0</td>\n",
       "    </tr>\n",
       "    <tr>\n",
       "      <th>2</th>\n",
       "      <td>1</td>\n",
       "      <td>55</td>\n",
       "      <td>113.116130</td>\n",
       "      <td>3.611842</td>\n",
       "      <td>-0.071740</td>\n",
       "      <td>0</td>\n",
       "      <td>0</td>\n",
       "      <td>1</td>\n",
       "      <td>1.0</td>\n",
       "      <td>0.0</td>\n",
       "      <td>0.0</td>\n",
       "      <td>1.0</td>\n",
       "      <td>1.0</td>\n",
       "      <td>0.0</td>\n",
       "      <td>0.0</td>\n",
       "      <td>1.0</td>\n",
       "    </tr>\n",
       "    <tr>\n",
       "      <th>3</th>\n",
       "      <td>0</td>\n",
       "      <td>58</td>\n",
       "      <td>131.135933</td>\n",
       "      <td>2.787207</td>\n",
       "      <td>0.195470</td>\n",
       "      <td>0</td>\n",
       "      <td>1</td>\n",
       "      <td>1</td>\n",
       "      <td>1.0</td>\n",
       "      <td>0.0</td>\n",
       "      <td>1.0</td>\n",
       "      <td>0.0</td>\n",
       "      <td>1.0</td>\n",
       "      <td>0.0</td>\n",
       "      <td>0.0</td>\n",
       "      <td>1.0</td>\n",
       "    </tr>\n",
       "    <tr>\n",
       "      <th>4</th>\n",
       "      <td>0</td>\n",
       "      <td>58</td>\n",
       "      <td>102.094300</td>\n",
       "      <td>3.283889</td>\n",
       "      <td>-0.203806</td>\n",
       "      <td>1</td>\n",
       "      <td>0</td>\n",
       "      <td>1</td>\n",
       "      <td>0.0</td>\n",
       "      <td>1.0</td>\n",
       "      <td>1.0</td>\n",
       "      <td>0.0</td>\n",
       "      <td>1.0</td>\n",
       "      <td>0.0</td>\n",
       "      <td>0.0</td>\n",
       "      <td>1.0</td>\n",
       "    </tr>\n",
       "    <tr>\n",
       "      <th>...</th>\n",
       "      <td>...</td>\n",
       "      <td>...</td>\n",
       "      <td>...</td>\n",
       "      <td>...</td>\n",
       "      <td>...</td>\n",
       "      <td>...</td>\n",
       "      <td>...</td>\n",
       "      <td>...</td>\n",
       "      <td>...</td>\n",
       "      <td>...</td>\n",
       "      <td>...</td>\n",
       "      <td>...</td>\n",
       "      <td>...</td>\n",
       "      <td>...</td>\n",
       "      <td>...</td>\n",
       "      <td>...</td>\n",
       "    </tr>\n",
       "    <tr>\n",
       "      <th>6026</th>\n",
       "      <td>0</td>\n",
       "      <td>55</td>\n",
       "      <td>99.173749</td>\n",
       "      <td>1.470279</td>\n",
       "      <td>-0.017893</td>\n",
       "      <td>0</td>\n",
       "      <td>1</td>\n",
       "      <td>1</td>\n",
       "      <td>0.0</td>\n",
       "      <td>1.0</td>\n",
       "      <td>1.0</td>\n",
       "      <td>0.0</td>\n",
       "      <td>1.0</td>\n",
       "      <td>0.0</td>\n",
       "      <td>0.0</td>\n",
       "      <td>1.0</td>\n",
       "    </tr>\n",
       "    <tr>\n",
       "      <th>6027</th>\n",
       "      <td>1</td>\n",
       "      <td>60</td>\n",
       "      <td>102.274615</td>\n",
       "      <td>4.017737</td>\n",
       "      <td>0.348200</td>\n",
       "      <td>0</td>\n",
       "      <td>0</td>\n",
       "      <td>1</td>\n",
       "      <td>1.0</td>\n",
       "      <td>0.0</td>\n",
       "      <td>1.0</td>\n",
       "      <td>0.0</td>\n",
       "      <td>1.0</td>\n",
       "      <td>0.0</td>\n",
       "      <td>1.0</td>\n",
       "      <td>0.0</td>\n",
       "    </tr>\n",
       "    <tr>\n",
       "      <th>6028</th>\n",
       "      <td>0</td>\n",
       "      <td>60</td>\n",
       "      <td>86.844244</td>\n",
       "      <td>3.001425</td>\n",
       "      <td>0.274537</td>\n",
       "      <td>1</td>\n",
       "      <td>0</td>\n",
       "      <td>0</td>\n",
       "      <td>1.0</td>\n",
       "      <td>0.0</td>\n",
       "      <td>1.0</td>\n",
       "      <td>0.0</td>\n",
       "      <td>1.0</td>\n",
       "      <td>0.0</td>\n",
       "      <td>0.0</td>\n",
       "      <td>1.0</td>\n",
       "    </tr>\n",
       "    <tr>\n",
       "      <th>6029</th>\n",
       "      <td>1</td>\n",
       "      <td>56</td>\n",
       "      <td>99.640132</td>\n",
       "      <td>2.442280</td>\n",
       "      <td>-0.062665</td>\n",
       "      <td>0</td>\n",
       "      <td>1</td>\n",
       "      <td>1</td>\n",
       "      <td>1.0</td>\n",
       "      <td>0.0</td>\n",
       "      <td>0.0</td>\n",
       "      <td>1.0</td>\n",
       "      <td>1.0</td>\n",
       "      <td>0.0</td>\n",
       "      <td>1.0</td>\n",
       "      <td>0.0</td>\n",
       "    </tr>\n",
       "    <tr>\n",
       "      <th>6030</th>\n",
       "      <td>0</td>\n",
       "      <td>53</td>\n",
       "      <td>83.356142</td>\n",
       "      <td>0.235244</td>\n",
       "      <td>-0.222358</td>\n",
       "      <td>1</td>\n",
       "      <td>0</td>\n",
       "      <td>0</td>\n",
       "      <td>1.0</td>\n",
       "      <td>0.0</td>\n",
       "      <td>1.0</td>\n",
       "      <td>0.0</td>\n",
       "      <td>1.0</td>\n",
       "      <td>0.0</td>\n",
       "      <td>1.0</td>\n",
       "      <td>0.0</td>\n",
       "    </tr>\n",
       "  </tbody>\n",
       "</table>\n",
       "<p>6031 rows × 16 columns</p>\n",
       "</div>"
      ],
      "text/plain": [
       "      treatment  age  blood_pressure     TestA     TestB  GeneD  GeneE  GeneF  \\\n",
       "0             0   64      103.820809  4.334376  0.324374      1      1      0   \n",
       "1             0   52      107.071369  0.361847 -0.213014      1      0      0   \n",
       "2             1   55      113.116130  3.611842 -0.071740      0      0      1   \n",
       "3             0   58      131.135933  2.787207  0.195470      0      1      1   \n",
       "4             0   58      102.094300  3.283889 -0.203806      1      0      1   \n",
       "...         ...  ...             ...       ...       ...    ...    ...    ...   \n",
       "6026          0   55       99.173749  1.470279 -0.017893      0      1      1   \n",
       "6027          1   60      102.274615  4.017737  0.348200      0      0      1   \n",
       "6028          0   60       86.844244  3.001425  0.274537      1      0      0   \n",
       "6029          1   56       99.640132  2.442280 -0.062665      0      1      1   \n",
       "6030          0   53       83.356142  0.235244 -0.222358      1      0      0   \n",
       "\n",
       "      female  male  bt_negative  bt_positive  fh_False  fh_True  C_not active  \\\n",
       "0        0.0   1.0          1.0          0.0       1.0      0.0           0.0   \n",
       "1        1.0   0.0          1.0          0.0       1.0      0.0           1.0   \n",
       "2        1.0   0.0          0.0          1.0       1.0      0.0           0.0   \n",
       "3        1.0   0.0          1.0          0.0       1.0      0.0           0.0   \n",
       "4        0.0   1.0          1.0          0.0       1.0      0.0           0.0   \n",
       "...      ...   ...          ...          ...       ...      ...           ...   \n",
       "6026     0.0   1.0          1.0          0.0       1.0      0.0           0.0   \n",
       "6027     1.0   0.0          1.0          0.0       1.0      0.0           1.0   \n",
       "6028     1.0   0.0          1.0          0.0       1.0      0.0           0.0   \n",
       "6029     1.0   0.0          0.0          1.0       1.0      0.0           1.0   \n",
       "6030     1.0   0.0          1.0          0.0       1.0      0.0           1.0   \n",
       "\n",
       "      C_active  \n",
       "0          1.0  \n",
       "1          0.0  \n",
       "2          1.0  \n",
       "3          1.0  \n",
       "4          1.0  \n",
       "...        ...  \n",
       "6026       1.0  \n",
       "6027       0.0  \n",
       "6028       1.0  \n",
       "6029       0.0  \n",
       "6030       0.0  \n",
       "\n",
       "[6031 rows x 16 columns]"
      ]
     },
     "execution_count": 38,
     "metadata": {},
     "output_type": "execute_result"
    }
   ],
   "source": [
    "df_new = pd.concat([numeric_df, gender_df, blood_test_df, family_history_df, GeneC_df], axis=1)\n",
    "\n",
    "df_new\n"
   ]
  },
  {
   "cell_type": "code",
   "execution_count": 39,
   "metadata": {},
   "outputs": [
    {
     "name": "stdout",
     "output_type": "stream",
     "text": [
      "treatment         0\n",
      "age               0\n",
      "blood_pressure    0\n",
      "TestA             0\n",
      "TestB             0\n",
      "GeneD             0\n",
      "GeneE             0\n",
      "GeneF             0\n",
      "female            0\n",
      "male              0\n",
      "bt_negative       0\n",
      "bt_positive       0\n",
      "fh_False          0\n",
      "fh_True           0\n",
      "C_not active      0\n",
      "C_active          0\n",
      "dtype: int64\n"
     ]
    }
   ],
   "source": [
    "#Double check if there is NULL value in new dataframe\n",
    "NULL = df_new.isnull().sum()\n",
    "print(NULL)"
   ]
  },
  {
   "cell_type": "markdown",
   "metadata": {},
   "source": [
    "# 4. Understanding of features"
   ]
  },
  {
   "cell_type": "code",
   "execution_count": 40,
   "metadata": {
    "scrolled": true
   },
   "outputs": [
    {
     "data": {
      "text/html": [
       "<style  type=\"text/css\" >\n",
       "    #T_139cbba8_772d_11eb_8067_c4b301ca0a25row0_col0 {\n",
       "            background-color:  #081d58;\n",
       "            color:  #f1f1f1;\n",
       "        }    #T_139cbba8_772d_11eb_8067_c4b301ca0a25row0_col1 {\n",
       "            background-color:  #ffffd9;\n",
       "            color:  #000000;\n",
       "        }    #T_139cbba8_772d_11eb_8067_c4b301ca0a25row0_col2 {\n",
       "            background-color:  #edf8b2;\n",
       "            color:  #000000;\n",
       "        }    #T_139cbba8_772d_11eb_8067_c4b301ca0a25row0_col3 {\n",
       "            background-color:  #ffffd9;\n",
       "            color:  #000000;\n",
       "        }    #T_139cbba8_772d_11eb_8067_c4b301ca0a25row0_col4 {\n",
       "            background-color:  #ffffd9;\n",
       "            color:  #000000;\n",
       "        }    #T_139cbba8_772d_11eb_8067_c4b301ca0a25row0_col5 {\n",
       "            background-color:  #feffd6;\n",
       "            color:  #000000;\n",
       "        }    #T_139cbba8_772d_11eb_8067_c4b301ca0a25row0_col6 {\n",
       "            background-color:  #ffffd9;\n",
       "            color:  #000000;\n",
       "        }    #T_139cbba8_772d_11eb_8067_c4b301ca0a25row0_col7 {\n",
       "            background-color:  #feffd6;\n",
       "            color:  #000000;\n",
       "        }    #T_139cbba8_772d_11eb_8067_c4b301ca0a25row0_col8 {\n",
       "            background-color:  #2163aa;\n",
       "            color:  #f1f1f1;\n",
       "        }    #T_139cbba8_772d_11eb_8067_c4b301ca0a25row0_col9 {\n",
       "            background-color:  #c0e6b5;\n",
       "            color:  #000000;\n",
       "        }    #T_139cbba8_772d_11eb_8067_c4b301ca0a25row0_col10 {\n",
       "            background-color:  #3db2c4;\n",
       "            color:  #000000;\n",
       "        }    #T_139cbba8_772d_11eb_8067_c4b301ca0a25row0_col11 {\n",
       "            background-color:  #48b9c3;\n",
       "            color:  #000000;\n",
       "        }    #T_139cbba8_772d_11eb_8067_c4b301ca0a25row0_col12 {\n",
       "            background-color:  #4ebbc2;\n",
       "            color:  #000000;\n",
       "        }    #T_139cbba8_772d_11eb_8067_c4b301ca0a25row0_col13 {\n",
       "            background-color:  #3aaec3;\n",
       "            color:  #000000;\n",
       "        }    #T_139cbba8_772d_11eb_8067_c4b301ca0a25row0_col14 {\n",
       "            background-color:  #42b6c4;\n",
       "            color:  #000000;\n",
       "        }    #T_139cbba8_772d_11eb_8067_c4b301ca0a25row0_col15 {\n",
       "            background-color:  #40b5c4;\n",
       "            color:  #000000;\n",
       "        }    #T_139cbba8_772d_11eb_8067_c4b301ca0a25row1_col0 {\n",
       "            background-color:  #cfecb3;\n",
       "            color:  #000000;\n",
       "        }    #T_139cbba8_772d_11eb_8067_c4b301ca0a25row1_col1 {\n",
       "            background-color:  #081d58;\n",
       "            color:  #f1f1f1;\n",
       "        }    #T_139cbba8_772d_11eb_8067_c4b301ca0a25row1_col2 {\n",
       "            background-color:  #feffd6;\n",
       "            color:  #000000;\n",
       "        }    #T_139cbba8_772d_11eb_8067_c4b301ca0a25row1_col3 {\n",
       "            background-color:  #152772;\n",
       "            color:  #f1f1f1;\n",
       "        }    #T_139cbba8_772d_11eb_8067_c4b301ca0a25row1_col4 {\n",
       "            background-color:  #f6fbc5;\n",
       "            color:  #000000;\n",
       "        }    #T_139cbba8_772d_11eb_8067_c4b301ca0a25row1_col5 {\n",
       "            background-color:  #fcfed1;\n",
       "            color:  #000000;\n",
       "        }    #T_139cbba8_772d_11eb_8067_c4b301ca0a25row1_col6 {\n",
       "            background-color:  #f5fbc2;\n",
       "            color:  #000000;\n",
       "        }    #T_139cbba8_772d_11eb_8067_c4b301ca0a25row1_col7 {\n",
       "            background-color:  #fdfed5;\n",
       "            color:  #000000;\n",
       "        }    #T_139cbba8_772d_11eb_8067_c4b301ca0a25row1_col8 {\n",
       "            background-color:  #40b5c4;\n",
       "            color:  #000000;\n",
       "        }    #T_139cbba8_772d_11eb_8067_c4b301ca0a25row1_col9 {\n",
       "            background-color:  #42b6c4;\n",
       "            color:  #000000;\n",
       "        }    #T_139cbba8_772d_11eb_8067_c4b301ca0a25row1_col10 {\n",
       "            background-color:  #40b5c4;\n",
       "            color:  #000000;\n",
       "        }    #T_139cbba8_772d_11eb_8067_c4b301ca0a25row1_col11 {\n",
       "            background-color:  #42b6c4;\n",
       "            color:  #000000;\n",
       "        }    #T_139cbba8_772d_11eb_8067_c4b301ca0a25row1_col12 {\n",
       "            background-color:  #3fb4c4;\n",
       "            color:  #000000;\n",
       "        }    #T_139cbba8_772d_11eb_8067_c4b301ca0a25row1_col13 {\n",
       "            background-color:  #44b7c4;\n",
       "            color:  #000000;\n",
       "        }    #T_139cbba8_772d_11eb_8067_c4b301ca0a25row1_col14 {\n",
       "            background-color:  #42b6c4;\n",
       "            color:  #000000;\n",
       "        }    #T_139cbba8_772d_11eb_8067_c4b301ca0a25row1_col15 {\n",
       "            background-color:  #40b5c4;\n",
       "            color:  #000000;\n",
       "        }    #T_139cbba8_772d_11eb_8067_c4b301ca0a25row2_col0 {\n",
       "            background-color:  #76cabc;\n",
       "            color:  #000000;\n",
       "        }    #T_139cbba8_772d_11eb_8067_c4b301ca0a25row2_col1 {\n",
       "            background-color:  #eff9b5;\n",
       "            color:  #000000;\n",
       "        }    #T_139cbba8_772d_11eb_8067_c4b301ca0a25row2_col2 {\n",
       "            background-color:  #081d58;\n",
       "            color:  #f1f1f1;\n",
       "        }    #T_139cbba8_772d_11eb_8067_c4b301ca0a25row2_col3 {\n",
       "            background-color:  #eff9b6;\n",
       "            color:  #000000;\n",
       "        }    #T_139cbba8_772d_11eb_8067_c4b301ca0a25row2_col4 {\n",
       "            background-color:  #f3fabd;\n",
       "            color:  #000000;\n",
       "        }    #T_139cbba8_772d_11eb_8067_c4b301ca0a25row2_col5 {\n",
       "            background-color:  #fcfed1;\n",
       "            color:  #000000;\n",
       "        }    #T_139cbba8_772d_11eb_8067_c4b301ca0a25row2_col6 {\n",
       "            background-color:  #f9fdcc;\n",
       "            color:  #000000;\n",
       "        }    #T_139cbba8_772d_11eb_8067_c4b301ca0a25row2_col7 {\n",
       "            background-color:  #fdfed4;\n",
       "            color:  #000000;\n",
       "        }    #T_139cbba8_772d_11eb_8067_c4b301ca0a25row2_col8 {\n",
       "            background-color:  #42b6c4;\n",
       "            color:  #000000;\n",
       "        }    #T_139cbba8_772d_11eb_8067_c4b301ca0a25row2_col9 {\n",
       "            background-color:  #40b5c4;\n",
       "            color:  #000000;\n",
       "        }    #T_139cbba8_772d_11eb_8067_c4b301ca0a25row2_col10 {\n",
       "            background-color:  #46b8c3;\n",
       "            color:  #000000;\n",
       "        }    #T_139cbba8_772d_11eb_8067_c4b301ca0a25row2_col11 {\n",
       "            background-color:  #3eb3c4;\n",
       "            color:  #000000;\n",
       "        }    #T_139cbba8_772d_11eb_8067_c4b301ca0a25row2_col12 {\n",
       "            background-color:  #44b7c4;\n",
       "            color:  #000000;\n",
       "        }    #T_139cbba8_772d_11eb_8067_c4b301ca0a25row2_col13 {\n",
       "            background-color:  #3fb4c4;\n",
       "            color:  #000000;\n",
       "        }    #T_139cbba8_772d_11eb_8067_c4b301ca0a25row2_col14 {\n",
       "            background-color:  #3fb4c4;\n",
       "            color:  #000000;\n",
       "        }    #T_139cbba8_772d_11eb_8067_c4b301ca0a25row2_col15 {\n",
       "            background-color:  #44b7c4;\n",
       "            color:  #000000;\n",
       "        }    #T_139cbba8_772d_11eb_8067_c4b301ca0a25row3_col0 {\n",
       "            background-color:  #ceecb3;\n",
       "            color:  #000000;\n",
       "        }    #T_139cbba8_772d_11eb_8067_c4b301ca0a25row3_col1 {\n",
       "            background-color:  #152772;\n",
       "            color:  #f1f1f1;\n",
       "        }    #T_139cbba8_772d_11eb_8067_c4b301ca0a25row3_col2 {\n",
       "            background-color:  #feffd6;\n",
       "            color:  #000000;\n",
       "        }    #T_139cbba8_772d_11eb_8067_c4b301ca0a25row3_col3 {\n",
       "            background-color:  #081d58;\n",
       "            color:  #f1f1f1;\n",
       "        }    #T_139cbba8_772d_11eb_8067_c4b301ca0a25row3_col4 {\n",
       "            background-color:  #f5fbc4;\n",
       "            color:  #000000;\n",
       "        }    #T_139cbba8_772d_11eb_8067_c4b301ca0a25row3_col5 {\n",
       "            background-color:  #fbfdd0;\n",
       "            color:  #000000;\n",
       "        }    #T_139cbba8_772d_11eb_8067_c4b301ca0a25row3_col6 {\n",
       "            background-color:  #f5fbc2;\n",
       "            color:  #000000;\n",
       "        }    #T_139cbba8_772d_11eb_8067_c4b301ca0a25row3_col7 {\n",
       "            background-color:  #fdfed5;\n",
       "            color:  #000000;\n",
       "        }    #T_139cbba8_772d_11eb_8067_c4b301ca0a25row3_col8 {\n",
       "            background-color:  #40b5c4;\n",
       "            color:  #000000;\n",
       "        }    #T_139cbba8_772d_11eb_8067_c4b301ca0a25row3_col9 {\n",
       "            background-color:  #42b6c4;\n",
       "            color:  #000000;\n",
       "        }    #T_139cbba8_772d_11eb_8067_c4b301ca0a25row3_col10 {\n",
       "            background-color:  #40b5c4;\n",
       "            color:  #000000;\n",
       "        }    #T_139cbba8_772d_11eb_8067_c4b301ca0a25row3_col11 {\n",
       "            background-color:  #42b6c4;\n",
       "            color:  #000000;\n",
       "        }    #T_139cbba8_772d_11eb_8067_c4b301ca0a25row3_col12 {\n",
       "            background-color:  #3fb4c4;\n",
       "            color:  #000000;\n",
       "        }    #T_139cbba8_772d_11eb_8067_c4b301ca0a25row3_col13 {\n",
       "            background-color:  #44b7c4;\n",
       "            color:  #000000;\n",
       "        }    #T_139cbba8_772d_11eb_8067_c4b301ca0a25row3_col14 {\n",
       "            background-color:  #40b5c4;\n",
       "            color:  #000000;\n",
       "        }    #T_139cbba8_772d_11eb_8067_c4b301ca0a25row3_col15 {\n",
       "            background-color:  #42b6c4;\n",
       "            color:  #000000;\n",
       "        }    #T_139cbba8_772d_11eb_8067_c4b301ca0a25row4_col0 {\n",
       "            background-color:  #c2e7b4;\n",
       "            color:  #000000;\n",
       "        }    #T_139cbba8_772d_11eb_8067_c4b301ca0a25row4_col1 {\n",
       "            background-color:  #f0f9b7;\n",
       "            color:  #000000;\n",
       "        }    #T_139cbba8_772d_11eb_8067_c4b301ca0a25row4_col2 {\n",
       "            background-color:  #fcfed1;\n",
       "            color:  #000000;\n",
       "        }    #T_139cbba8_772d_11eb_8067_c4b301ca0a25row4_col3 {\n",
       "            background-color:  #f0f9b8;\n",
       "            color:  #000000;\n",
       "        }    #T_139cbba8_772d_11eb_8067_c4b301ca0a25row4_col4 {\n",
       "            background-color:  #081d58;\n",
       "            color:  #f1f1f1;\n",
       "        }    #T_139cbba8_772d_11eb_8067_c4b301ca0a25row4_col5 {\n",
       "            background-color:  #fdfed5;\n",
       "            color:  #000000;\n",
       "        }    #T_139cbba8_772d_11eb_8067_c4b301ca0a25row4_col6 {\n",
       "            background-color:  #fafdce;\n",
       "            color:  #000000;\n",
       "        }    #T_139cbba8_772d_11eb_8067_c4b301ca0a25row4_col7 {\n",
       "            background-color:  #fcfed3;\n",
       "            color:  #000000;\n",
       "        }    #T_139cbba8_772d_11eb_8067_c4b301ca0a25row4_col8 {\n",
       "            background-color:  #42b6c4;\n",
       "            color:  #000000;\n",
       "        }    #T_139cbba8_772d_11eb_8067_c4b301ca0a25row4_col9 {\n",
       "            background-color:  #40b5c4;\n",
       "            color:  #000000;\n",
       "        }    #T_139cbba8_772d_11eb_8067_c4b301ca0a25row4_col10 {\n",
       "            background-color:  #48b9c3;\n",
       "            color:  #000000;\n",
       "        }    #T_139cbba8_772d_11eb_8067_c4b301ca0a25row4_col11 {\n",
       "            background-color:  #3db2c4;\n",
       "            color:  #000000;\n",
       "        }    #T_139cbba8_772d_11eb_8067_c4b301ca0a25row4_col12 {\n",
       "            background-color:  #40b5c4;\n",
       "            color:  #000000;\n",
       "        }    #T_139cbba8_772d_11eb_8067_c4b301ca0a25row4_col13 {\n",
       "            background-color:  #42b6c4;\n",
       "            color:  #000000;\n",
       "        }    #T_139cbba8_772d_11eb_8067_c4b301ca0a25row4_col14 {\n",
       "            background-color:  #44b7c4;\n",
       "            color:  #000000;\n",
       "        }    #T_139cbba8_772d_11eb_8067_c4b301ca0a25row4_col15 {\n",
       "            background-color:  #3fb4c4;\n",
       "            color:  #000000;\n",
       "        }    #T_139cbba8_772d_11eb_8067_c4b301ca0a25row5_col0 {\n",
       "            background-color:  #a2dbb8;\n",
       "            color:  #000000;\n",
       "        }    #T_139cbba8_772d_11eb_8067_c4b301ca0a25row5_col1 {\n",
       "            background-color:  #ecf7b1;\n",
       "            color:  #000000;\n",
       "        }    #T_139cbba8_772d_11eb_8067_c4b301ca0a25row5_col2 {\n",
       "            background-color:  #fbfdd0;\n",
       "            color:  #000000;\n",
       "        }    #T_139cbba8_772d_11eb_8067_c4b301ca0a25row5_col3 {\n",
       "            background-color:  #edf8b1;\n",
       "            color:  #000000;\n",
       "        }    #T_139cbba8_772d_11eb_8067_c4b301ca0a25row5_col4 {\n",
       "            background-color:  #f4fbc0;\n",
       "            color:  #000000;\n",
       "        }    #T_139cbba8_772d_11eb_8067_c4b301ca0a25row5_col5 {\n",
       "            background-color:  #081d58;\n",
       "            color:  #f1f1f1;\n",
       "        }    #T_139cbba8_772d_11eb_8067_c4b301ca0a25row5_col6 {\n",
       "            background-color:  #f8fcca;\n",
       "            color:  #000000;\n",
       "        }    #T_139cbba8_772d_11eb_8067_c4b301ca0a25row5_col7 {\n",
       "            background-color:  #fafdce;\n",
       "            color:  #000000;\n",
       "        }    #T_139cbba8_772d_11eb_8067_c4b301ca0a25row5_col8 {\n",
       "            background-color:  #3fb4c4;\n",
       "            color:  #000000;\n",
       "        }    #T_139cbba8_772d_11eb_8067_c4b301ca0a25row5_col9 {\n",
       "            background-color:  #44b7c4;\n",
       "            color:  #000000;\n",
       "        }    #T_139cbba8_772d_11eb_8067_c4b301ca0a25row5_col10 {\n",
       "            background-color:  #3eb3c4;\n",
       "            color:  #000000;\n",
       "        }    #T_139cbba8_772d_11eb_8067_c4b301ca0a25row5_col11 {\n",
       "            background-color:  #46b8c3;\n",
       "            color:  #000000;\n",
       "        }    #T_139cbba8_772d_11eb_8067_c4b301ca0a25row5_col12 {\n",
       "            background-color:  #44b7c4;\n",
       "            color:  #000000;\n",
       "        }    #T_139cbba8_772d_11eb_8067_c4b301ca0a25row5_col13 {\n",
       "            background-color:  #3fb4c4;\n",
       "            color:  #000000;\n",
       "        }    #T_139cbba8_772d_11eb_8067_c4b301ca0a25row5_col14 {\n",
       "            background-color:  #40b5c4;\n",
       "            color:  #000000;\n",
       "        }    #T_139cbba8_772d_11eb_8067_c4b301ca0a25row5_col15 {\n",
       "            background-color:  #42b6c4;\n",
       "            color:  #000000;\n",
       "        }    #T_139cbba8_772d_11eb_8067_c4b301ca0a25row6_col0 {\n",
       "            background-color:  #b2e1b6;\n",
       "            color:  #000000;\n",
       "        }    #T_139cbba8_772d_11eb_8067_c4b301ca0a25row6_col1 {\n",
       "            background-color:  #e7f6b1;\n",
       "            color:  #000000;\n",
       "        }    #T_139cbba8_772d_11eb_8067_c4b301ca0a25row6_col2 {\n",
       "            background-color:  #fdfed5;\n",
       "            color:  #000000;\n",
       "        }    #T_139cbba8_772d_11eb_8067_c4b301ca0a25row6_col3 {\n",
       "            background-color:  #e8f6b1;\n",
       "            color:  #000000;\n",
       "        }    #T_139cbba8_772d_11eb_8067_c4b301ca0a25row6_col4 {\n",
       "            background-color:  #f5fbc2;\n",
       "            color:  #000000;\n",
       "        }    #T_139cbba8_772d_11eb_8067_c4b301ca0a25row6_col5 {\n",
       "            background-color:  #fcfed3;\n",
       "            color:  #000000;\n",
       "        }    #T_139cbba8_772d_11eb_8067_c4b301ca0a25row6_col6 {\n",
       "            background-color:  #081d58;\n",
       "            color:  #f1f1f1;\n",
       "        }    #T_139cbba8_772d_11eb_8067_c4b301ca0a25row6_col7 {\n",
       "            background-color:  #fcfed3;\n",
       "            color:  #000000;\n",
       "        }    #T_139cbba8_772d_11eb_8067_c4b301ca0a25row6_col8 {\n",
       "            background-color:  #40b5c4;\n",
       "            color:  #000000;\n",
       "        }    #T_139cbba8_772d_11eb_8067_c4b301ca0a25row6_col9 {\n",
       "            background-color:  #42b6c4;\n",
       "            color:  #000000;\n",
       "        }    #T_139cbba8_772d_11eb_8067_c4b301ca0a25row6_col10 {\n",
       "            background-color:  #44b7c4;\n",
       "            color:  #000000;\n",
       "        }    #T_139cbba8_772d_11eb_8067_c4b301ca0a25row6_col11 {\n",
       "            background-color:  #3fb4c4;\n",
       "            color:  #000000;\n",
       "        }    #T_139cbba8_772d_11eb_8067_c4b301ca0a25row6_col12 {\n",
       "            background-color:  #3fb4c4;\n",
       "            color:  #000000;\n",
       "        }    #T_139cbba8_772d_11eb_8067_c4b301ca0a25row6_col13 {\n",
       "            background-color:  #44b7c4;\n",
       "            color:  #000000;\n",
       "        }    #T_139cbba8_772d_11eb_8067_c4b301ca0a25row6_col14 {\n",
       "            background-color:  #42b6c4;\n",
       "            color:  #000000;\n",
       "        }    #T_139cbba8_772d_11eb_8067_c4b301ca0a25row6_col15 {\n",
       "            background-color:  #40b5c4;\n",
       "            color:  #000000;\n",
       "        }    #T_139cbba8_772d_11eb_8067_c4b301ca0a25row7_col0 {\n",
       "            background-color:  #a7dcb7;\n",
       "            color:  #000000;\n",
       "        }    #T_139cbba8_772d_11eb_8067_c4b301ca0a25row7_col1 {\n",
       "            background-color:  #eff9b6;\n",
       "            color:  #000000;\n",
       "        }    #T_139cbba8_772d_11eb_8067_c4b301ca0a25row7_col2 {\n",
       "            background-color:  #feffd6;\n",
       "            color:  #000000;\n",
       "        }    #T_139cbba8_772d_11eb_8067_c4b301ca0a25row7_col3 {\n",
       "            background-color:  #f0f9b8;\n",
       "            color:  #000000;\n",
       "        }    #T_139cbba8_772d_11eb_8067_c4b301ca0a25row7_col4 {\n",
       "            background-color:  #f5fbc2;\n",
       "            color:  #000000;\n",
       "        }    #T_139cbba8_772d_11eb_8067_c4b301ca0a25row7_col5 {\n",
       "            background-color:  #fcfed1;\n",
       "            color:  #000000;\n",
       "        }    #T_139cbba8_772d_11eb_8067_c4b301ca0a25row7_col6 {\n",
       "            background-color:  #fafdce;\n",
       "            color:  #000000;\n",
       "        }    #T_139cbba8_772d_11eb_8067_c4b301ca0a25row7_col7 {\n",
       "            background-color:  #081d58;\n",
       "            color:  #f1f1f1;\n",
       "        }    #T_139cbba8_772d_11eb_8067_c4b301ca0a25row7_col8 {\n",
       "            background-color:  #40b5c4;\n",
       "            color:  #000000;\n",
       "        }    #T_139cbba8_772d_11eb_8067_c4b301ca0a25row7_col9 {\n",
       "            background-color:  #42b6c4;\n",
       "            color:  #000000;\n",
       "        }    #T_139cbba8_772d_11eb_8067_c4b301ca0a25row7_col10 {\n",
       "            background-color:  #40b5c4;\n",
       "            color:  #000000;\n",
       "        }    #T_139cbba8_772d_11eb_8067_c4b301ca0a25row7_col11 {\n",
       "            background-color:  #42b6c4;\n",
       "            color:  #000000;\n",
       "        }    #T_139cbba8_772d_11eb_8067_c4b301ca0a25row7_col12 {\n",
       "            background-color:  #48b9c3;\n",
       "            color:  #000000;\n",
       "        }    #T_139cbba8_772d_11eb_8067_c4b301ca0a25row7_col13 {\n",
       "            background-color:  #3db2c4;\n",
       "            color:  #000000;\n",
       "        }    #T_139cbba8_772d_11eb_8067_c4b301ca0a25row7_col14 {\n",
       "            background-color:  #42b6c4;\n",
       "            color:  #000000;\n",
       "        }    #T_139cbba8_772d_11eb_8067_c4b301ca0a25row7_col15 {\n",
       "            background-color:  #40b5c4;\n",
       "            color:  #000000;\n",
       "        }    #T_139cbba8_772d_11eb_8067_c4b301ca0a25row8_col0 {\n",
       "            background-color:  #1e8bbd;\n",
       "            color:  #000000;\n",
       "        }    #T_139cbba8_772d_11eb_8067_c4b301ca0a25row8_col1 {\n",
       "            background-color:  #edf8b1;\n",
       "            color:  #000000;\n",
       "        }    #T_139cbba8_772d_11eb_8067_c4b301ca0a25row8_col2 {\n",
       "            background-color:  #feffd6;\n",
       "            color:  #000000;\n",
       "        }    #T_139cbba8_772d_11eb_8067_c4b301ca0a25row8_col3 {\n",
       "            background-color:  #eef8b3;\n",
       "            color:  #000000;\n",
       "        }    #T_139cbba8_772d_11eb_8067_c4b301ca0a25row8_col4 {\n",
       "            background-color:  #f4fbc1;\n",
       "            color:  #000000;\n",
       "        }    #T_139cbba8_772d_11eb_8067_c4b301ca0a25row8_col5 {\n",
       "            background-color:  #fbfdd0;\n",
       "            color:  #000000;\n",
       "        }    #T_139cbba8_772d_11eb_8067_c4b301ca0a25row8_col6 {\n",
       "            background-color:  #f8fcca;\n",
       "            color:  #000000;\n",
       "        }    #T_139cbba8_772d_11eb_8067_c4b301ca0a25row8_col7 {\n",
       "            background-color:  #fbfdd0;\n",
       "            color:  #000000;\n",
       "        }    #T_139cbba8_772d_11eb_8067_c4b301ca0a25row8_col8 {\n",
       "            background-color:  #081d58;\n",
       "            color:  #f1f1f1;\n",
       "        }    #T_139cbba8_772d_11eb_8067_c4b301ca0a25row8_col9 {\n",
       "            background-color:  #ffffd9;\n",
       "            color:  #000000;\n",
       "        }    #T_139cbba8_772d_11eb_8067_c4b301ca0a25row8_col10 {\n",
       "            background-color:  #42b6c4;\n",
       "            color:  #000000;\n",
       "        }    #T_139cbba8_772d_11eb_8067_c4b301ca0a25row8_col11 {\n",
       "            background-color:  #40b5c4;\n",
       "            color:  #000000;\n",
       "        }    #T_139cbba8_772d_11eb_8067_c4b301ca0a25row8_col12 {\n",
       "            background-color:  #3eb3c4;\n",
       "            color:  #000000;\n",
       "        }    #T_139cbba8_772d_11eb_8067_c4b301ca0a25row8_col13 {\n",
       "            background-color:  #46b8c3;\n",
       "            color:  #000000;\n",
       "        }    #T_139cbba8_772d_11eb_8067_c4b301ca0a25row8_col14 {\n",
       "            background-color:  #42b6c4;\n",
       "            color:  #000000;\n",
       "        }    #T_139cbba8_772d_11eb_8067_c4b301ca0a25row8_col15 {\n",
       "            background-color:  #40b5c4;\n",
       "            color:  #000000;\n",
       "        }    #T_139cbba8_772d_11eb_8067_c4b301ca0a25row9_col0 {\n",
       "            background-color:  #ffffd9;\n",
       "            color:  #000000;\n",
       "        }    #T_139cbba8_772d_11eb_8067_c4b301ca0a25row9_col1 {\n",
       "            background-color:  #eef8b3;\n",
       "            color:  #000000;\n",
       "        }    #T_139cbba8_772d_11eb_8067_c4b301ca0a25row9_col2 {\n",
       "            background-color:  #fcfed1;\n",
       "            color:  #000000;\n",
       "        }    #T_139cbba8_772d_11eb_8067_c4b301ca0a25row9_col3 {\n",
       "            background-color:  #eff9b5;\n",
       "            color:  #000000;\n",
       "        }    #T_139cbba8_772d_11eb_8067_c4b301ca0a25row9_col4 {\n",
       "            background-color:  #f3fabf;\n",
       "            color:  #000000;\n",
       "        }    #T_139cbba8_772d_11eb_8067_c4b301ca0a25row9_col5 {\n",
       "            background-color:  #feffd8;\n",
       "            color:  #000000;\n",
       "        }    #T_139cbba8_772d_11eb_8067_c4b301ca0a25row9_col6 {\n",
       "            background-color:  #f9fdcc;\n",
       "            color:  #000000;\n",
       "        }    #T_139cbba8_772d_11eb_8067_c4b301ca0a25row9_col7 {\n",
       "            background-color:  #fcfed3;\n",
       "            color:  #000000;\n",
       "        }    #T_139cbba8_772d_11eb_8067_c4b301ca0a25row9_col8 {\n",
       "            background-color:  #ffffd9;\n",
       "            color:  #000000;\n",
       "        }    #T_139cbba8_772d_11eb_8067_c4b301ca0a25row9_col9 {\n",
       "            background-color:  #081d58;\n",
       "            color:  #f1f1f1;\n",
       "        }    #T_139cbba8_772d_11eb_8067_c4b301ca0a25row9_col10 {\n",
       "            background-color:  #40b5c4;\n",
       "            color:  #000000;\n",
       "        }    #T_139cbba8_772d_11eb_8067_c4b301ca0a25row9_col11 {\n",
       "            background-color:  #42b6c4;\n",
       "            color:  #000000;\n",
       "        }    #T_139cbba8_772d_11eb_8067_c4b301ca0a25row9_col12 {\n",
       "            background-color:  #46b8c3;\n",
       "            color:  #000000;\n",
       "        }    #T_139cbba8_772d_11eb_8067_c4b301ca0a25row9_col13 {\n",
       "            background-color:  #3eb3c4;\n",
       "            color:  #000000;\n",
       "        }    #T_139cbba8_772d_11eb_8067_c4b301ca0a25row9_col14 {\n",
       "            background-color:  #40b5c4;\n",
       "            color:  #000000;\n",
       "        }    #T_139cbba8_772d_11eb_8067_c4b301ca0a25row9_col15 {\n",
       "            background-color:  #42b6c4;\n",
       "            color:  #000000;\n",
       "        }    #T_139cbba8_772d_11eb_8067_c4b301ca0a25row10_col0 {\n",
       "            background-color:  #95d5b9;\n",
       "            color:  #000000;\n",
       "        }    #T_139cbba8_772d_11eb_8067_c4b301ca0a25row10_col1 {\n",
       "            background-color:  #edf8b1;\n",
       "            color:  #000000;\n",
       "        }    #T_139cbba8_772d_11eb_8067_c4b301ca0a25row10_col2 {\n",
       "            background-color:  #ffffd9;\n",
       "            color:  #000000;\n",
       "        }    #T_139cbba8_772d_11eb_8067_c4b301ca0a25row10_col3 {\n",
       "            background-color:  #edf8b2;\n",
       "            color:  #000000;\n",
       "        }    #T_139cbba8_772d_11eb_8067_c4b301ca0a25row10_col4 {\n",
       "            background-color:  #f8fcc9;\n",
       "            color:  #000000;\n",
       "        }    #T_139cbba8_772d_11eb_8067_c4b301ca0a25row10_col5 {\n",
       "            background-color:  #fafdcf;\n",
       "            color:  #000000;\n",
       "        }    #T_139cbba8_772d_11eb_8067_c4b301ca0a25row10_col6 {\n",
       "            background-color:  #fbfdd0;\n",
       "            color:  #000000;\n",
       "        }    #T_139cbba8_772d_11eb_8067_c4b301ca0a25row10_col7 {\n",
       "            background-color:  #fbfdd0;\n",
       "            color:  #000000;\n",
       "        }    #T_139cbba8_772d_11eb_8067_c4b301ca0a25row10_col8 {\n",
       "            background-color:  #42b6c4;\n",
       "            color:  #000000;\n",
       "        }    #T_139cbba8_772d_11eb_8067_c4b301ca0a25row10_col9 {\n",
       "            background-color:  #40b5c4;\n",
       "            color:  #000000;\n",
       "        }    #T_139cbba8_772d_11eb_8067_c4b301ca0a25row10_col10 {\n",
       "            background-color:  #081d58;\n",
       "            color:  #f1f1f1;\n",
       "        }    #T_139cbba8_772d_11eb_8067_c4b301ca0a25row10_col11 {\n",
       "            background-color:  #ffffd9;\n",
       "            color:  #000000;\n",
       "        }    #T_139cbba8_772d_11eb_8067_c4b301ca0a25row10_col12 {\n",
       "            background-color:  #42b6c4;\n",
       "            color:  #000000;\n",
       "        }    #T_139cbba8_772d_11eb_8067_c4b301ca0a25row10_col13 {\n",
       "            background-color:  #40b5c4;\n",
       "            color:  #000000;\n",
       "        }    #T_139cbba8_772d_11eb_8067_c4b301ca0a25row10_col14 {\n",
       "            background-color:  #46b8c3;\n",
       "            color:  #000000;\n",
       "        }    #T_139cbba8_772d_11eb_8067_c4b301ca0a25row10_col15 {\n",
       "            background-color:  #3eb3c4;\n",
       "            color:  #000000;\n",
       "        }    #T_139cbba8_772d_11eb_8067_c4b301ca0a25row11_col0 {\n",
       "            background-color:  #abdeb7;\n",
       "            color:  #000000;\n",
       "        }    #T_139cbba8_772d_11eb_8067_c4b301ca0a25row11_col1 {\n",
       "            background-color:  #eef8b3;\n",
       "            color:  #000000;\n",
       "        }    #T_139cbba8_772d_11eb_8067_c4b301ca0a25row11_col2 {\n",
       "            background-color:  #fafdcf;\n",
       "            color:  #000000;\n",
       "        }    #T_139cbba8_772d_11eb_8067_c4b301ca0a25row11_col3 {\n",
       "            background-color:  #eff9b6;\n",
       "            color:  #000000;\n",
       "        }    #T_139cbba8_772d_11eb_8067_c4b301ca0a25row11_col4 {\n",
       "            background-color:  #f0f9b7;\n",
       "            color:  #000000;\n",
       "        }    #T_139cbba8_772d_11eb_8067_c4b301ca0a25row11_col5 {\n",
       "            background-color:  #ffffd9;\n",
       "            color:  #000000;\n",
       "        }    #T_139cbba8_772d_11eb_8067_c4b301ca0a25row11_col6 {\n",
       "            background-color:  #f7fcc6;\n",
       "            color:  #000000;\n",
       "        }    #T_139cbba8_772d_11eb_8067_c4b301ca0a25row11_col7 {\n",
       "            background-color:  #fcfed1;\n",
       "            color:  #000000;\n",
       "        }    #T_139cbba8_772d_11eb_8067_c4b301ca0a25row11_col8 {\n",
       "            background-color:  #40b5c4;\n",
       "            color:  #000000;\n",
       "        }    #T_139cbba8_772d_11eb_8067_c4b301ca0a25row11_col9 {\n",
       "            background-color:  #42b6c4;\n",
       "            color:  #000000;\n",
       "        }    #T_139cbba8_772d_11eb_8067_c4b301ca0a25row11_col10 {\n",
       "            background-color:  #ffffd9;\n",
       "            color:  #000000;\n",
       "        }    #T_139cbba8_772d_11eb_8067_c4b301ca0a25row11_col11 {\n",
       "            background-color:  #081d58;\n",
       "            color:  #f1f1f1;\n",
       "        }    #T_139cbba8_772d_11eb_8067_c4b301ca0a25row11_col12 {\n",
       "            background-color:  #40b5c4;\n",
       "            color:  #000000;\n",
       "        }    #T_139cbba8_772d_11eb_8067_c4b301ca0a25row11_col13 {\n",
       "            background-color:  #42b6c4;\n",
       "            color:  #000000;\n",
       "        }    #T_139cbba8_772d_11eb_8067_c4b301ca0a25row11_col14 {\n",
       "            background-color:  #3eb3c4;\n",
       "            color:  #000000;\n",
       "        }    #T_139cbba8_772d_11eb_8067_c4b301ca0a25row11_col15 {\n",
       "            background-color:  #46b8c3;\n",
       "            color:  #000000;\n",
       "        }    #T_139cbba8_772d_11eb_8067_c4b301ca0a25row12_col0 {\n",
       "            background-color:  #b2e1b6;\n",
       "            color:  #000000;\n",
       "        }    #T_139cbba8_772d_11eb_8067_c4b301ca0a25row12_col1 {\n",
       "            background-color:  #eaf7b1;\n",
       "            color:  #000000;\n",
       "        }    #T_139cbba8_772d_11eb_8067_c4b301ca0a25row12_col2 {\n",
       "            background-color:  #feffd8;\n",
       "            color:  #000000;\n",
       "        }    #T_139cbba8_772d_11eb_8067_c4b301ca0a25row12_col3 {\n",
       "            background-color:  #edf8b1;\n",
       "            color:  #000000;\n",
       "        }    #T_139cbba8_772d_11eb_8067_c4b301ca0a25row12_col4 {\n",
       "            background-color:  #f3fabf;\n",
       "            color:  #000000;\n",
       "        }    #T_139cbba8_772d_11eb_8067_c4b301ca0a25row12_col5 {\n",
       "            background-color:  #ffffd9;\n",
       "            color:  #000000;\n",
       "        }    #T_139cbba8_772d_11eb_8067_c4b301ca0a25row12_col6 {\n",
       "            background-color:  #f8fcc9;\n",
       "            color:  #000000;\n",
       "        }    #T_139cbba8_772d_11eb_8067_c4b301ca0a25row12_col7 {\n",
       "            background-color:  #ffffd9;\n",
       "            color:  #000000;\n",
       "        }    #T_139cbba8_772d_11eb_8067_c4b301ca0a25row12_col8 {\n",
       "            background-color:  #3eb3c4;\n",
       "            color:  #000000;\n",
       "        }    #T_139cbba8_772d_11eb_8067_c4b301ca0a25row12_col9 {\n",
       "            background-color:  #46b8c3;\n",
       "            color:  #000000;\n",
       "        }    #T_139cbba8_772d_11eb_8067_c4b301ca0a25row12_col10 {\n",
       "            background-color:  #42b6c4;\n",
       "            color:  #000000;\n",
       "        }    #T_139cbba8_772d_11eb_8067_c4b301ca0a25row12_col11 {\n",
       "            background-color:  #40b5c4;\n",
       "            color:  #000000;\n",
       "        }    #T_139cbba8_772d_11eb_8067_c4b301ca0a25row12_col12 {\n",
       "            background-color:  #081d58;\n",
       "            color:  #f1f1f1;\n",
       "        }    #T_139cbba8_772d_11eb_8067_c4b301ca0a25row12_col13 {\n",
       "            background-color:  #ffffd9;\n",
       "            color:  #000000;\n",
       "        }    #T_139cbba8_772d_11eb_8067_c4b301ca0a25row12_col14 {\n",
       "            background-color:  #42b6c4;\n",
       "            color:  #000000;\n",
       "        }    #T_139cbba8_772d_11eb_8067_c4b301ca0a25row12_col15 {\n",
       "            background-color:  #40b5c4;\n",
       "            color:  #000000;\n",
       "        }    #T_139cbba8_772d_11eb_8067_c4b301ca0a25row13_col0 {\n",
       "            background-color:  #8cd2ba;\n",
       "            color:  #000000;\n",
       "        }    #T_139cbba8_772d_11eb_8067_c4b301ca0a25row13_col1 {\n",
       "            background-color:  #eff9b6;\n",
       "            color:  #000000;\n",
       "        }    #T_139cbba8_772d_11eb_8067_c4b301ca0a25row13_col2 {\n",
       "            background-color:  #fbfdd0;\n",
       "            color:  #000000;\n",
       "        }    #T_139cbba8_772d_11eb_8067_c4b301ca0a25row13_col3 {\n",
       "            background-color:  #f0f9b7;\n",
       "            color:  #000000;\n",
       "        }    #T_139cbba8_772d_11eb_8067_c4b301ca0a25row13_col4 {\n",
       "            background-color:  #f4fbc1;\n",
       "            color:  #000000;\n",
       "        }    #T_139cbba8_772d_11eb_8067_c4b301ca0a25row13_col5 {\n",
       "            background-color:  #fbfdd0;\n",
       "            color:  #000000;\n",
       "        }    #T_139cbba8_772d_11eb_8067_c4b301ca0a25row13_col6 {\n",
       "            background-color:  #fafdce;\n",
       "            color:  #000000;\n",
       "        }    #T_139cbba8_772d_11eb_8067_c4b301ca0a25row13_col7 {\n",
       "            background-color:  #f8fcc9;\n",
       "            color:  #000000;\n",
       "        }    #T_139cbba8_772d_11eb_8067_c4b301ca0a25row13_col8 {\n",
       "            background-color:  #46b8c3;\n",
       "            color:  #000000;\n",
       "        }    #T_139cbba8_772d_11eb_8067_c4b301ca0a25row13_col9 {\n",
       "            background-color:  #3eb3c4;\n",
       "            color:  #000000;\n",
       "        }    #T_139cbba8_772d_11eb_8067_c4b301ca0a25row13_col10 {\n",
       "            background-color:  #40b5c4;\n",
       "            color:  #000000;\n",
       "        }    #T_139cbba8_772d_11eb_8067_c4b301ca0a25row13_col11 {\n",
       "            background-color:  #42b6c4;\n",
       "            color:  #000000;\n",
       "        }    #T_139cbba8_772d_11eb_8067_c4b301ca0a25row13_col12 {\n",
       "            background-color:  #ffffd9;\n",
       "            color:  #000000;\n",
       "        }    #T_139cbba8_772d_11eb_8067_c4b301ca0a25row13_col13 {\n",
       "            background-color:  #081d58;\n",
       "            color:  #f1f1f1;\n",
       "        }    #T_139cbba8_772d_11eb_8067_c4b301ca0a25row13_col14 {\n",
       "            background-color:  #40b5c4;\n",
       "            color:  #000000;\n",
       "        }    #T_139cbba8_772d_11eb_8067_c4b301ca0a25row13_col15 {\n",
       "            background-color:  #42b6c4;\n",
       "            color:  #000000;\n",
       "        }    #T_139cbba8_772d_11eb_8067_c4b301ca0a25row14_col0 {\n",
       "            background-color:  #a2dbb8;\n",
       "            color:  #000000;\n",
       "        }    #T_139cbba8_772d_11eb_8067_c4b301ca0a25row14_col1 {\n",
       "            background-color:  #eef8b3;\n",
       "            color:  #000000;\n",
       "        }    #T_139cbba8_772d_11eb_8067_c4b301ca0a25row14_col2 {\n",
       "            background-color:  #fcfed1;\n",
       "            color:  #000000;\n",
       "        }    #T_139cbba8_772d_11eb_8067_c4b301ca0a25row14_col3 {\n",
       "            background-color:  #eef8b3;\n",
       "            color:  #000000;\n",
       "        }    #T_139cbba8_772d_11eb_8067_c4b301ca0a25row14_col4 {\n",
       "            background-color:  #f5fbc4;\n",
       "            color:  #000000;\n",
       "        }    #T_139cbba8_772d_11eb_8067_c4b301ca0a25row14_col5 {\n",
       "            background-color:  #fcfed3;\n",
       "            color:  #000000;\n",
       "        }    #T_139cbba8_772d_11eb_8067_c4b301ca0a25row14_col6 {\n",
       "            background-color:  #f9fdcc;\n",
       "            color:  #000000;\n",
       "        }    #T_139cbba8_772d_11eb_8067_c4b301ca0a25row14_col7 {\n",
       "            background-color:  #fcfed3;\n",
       "            color:  #000000;\n",
       "        }    #T_139cbba8_772d_11eb_8067_c4b301ca0a25row14_col8 {\n",
       "            background-color:  #42b6c4;\n",
       "            color:  #000000;\n",
       "        }    #T_139cbba8_772d_11eb_8067_c4b301ca0a25row14_col9 {\n",
       "            background-color:  #40b5c4;\n",
       "            color:  #000000;\n",
       "        }    #T_139cbba8_772d_11eb_8067_c4b301ca0a25row14_col10 {\n",
       "            background-color:  #46b8c3;\n",
       "            color:  #000000;\n",
       "        }    #T_139cbba8_772d_11eb_8067_c4b301ca0a25row14_col11 {\n",
       "            background-color:  #3eb3c4;\n",
       "            color:  #000000;\n",
       "        }    #T_139cbba8_772d_11eb_8067_c4b301ca0a25row14_col12 {\n",
       "            background-color:  #42b6c4;\n",
       "            color:  #000000;\n",
       "        }    #T_139cbba8_772d_11eb_8067_c4b301ca0a25row14_col13 {\n",
       "            background-color:  #40b5c4;\n",
       "            color:  #000000;\n",
       "        }    #T_139cbba8_772d_11eb_8067_c4b301ca0a25row14_col14 {\n",
       "            background-color:  #081d58;\n",
       "            color:  #f1f1f1;\n",
       "        }    #T_139cbba8_772d_11eb_8067_c4b301ca0a25row14_col15 {\n",
       "            background-color:  #ffffd9;\n",
       "            color:  #000000;\n",
       "        }    #T_139cbba8_772d_11eb_8067_c4b301ca0a25row15_col0 {\n",
       "            background-color:  #9ed9b8;\n",
       "            color:  #000000;\n",
       "        }    #T_139cbba8_772d_11eb_8067_c4b301ca0a25row15_col1 {\n",
       "            background-color:  #edf8b1;\n",
       "            color:  #000000;\n",
       "        }    #T_139cbba8_772d_11eb_8067_c4b301ca0a25row15_col2 {\n",
       "            background-color:  #feffd6;\n",
       "            color:  #000000;\n",
       "        }    #T_139cbba8_772d_11eb_8067_c4b301ca0a25row15_col3 {\n",
       "            background-color:  #eff9b5;\n",
       "            color:  #000000;\n",
       "        }    #T_139cbba8_772d_11eb_8067_c4b301ca0a25row15_col4 {\n",
       "            background-color:  #f2fabc;\n",
       "            color:  #000000;\n",
       "        }    #T_139cbba8_772d_11eb_8067_c4b301ca0a25row15_col5 {\n",
       "            background-color:  #feffd6;\n",
       "            color:  #000000;\n",
       "        }    #T_139cbba8_772d_11eb_8067_c4b301ca0a25row15_col6 {\n",
       "            background-color:  #f8fcca;\n",
       "            color:  #000000;\n",
       "        }    #T_139cbba8_772d_11eb_8067_c4b301ca0a25row15_col7 {\n",
       "            background-color:  #fbfdd0;\n",
       "            color:  #000000;\n",
       "        }    #T_139cbba8_772d_11eb_8067_c4b301ca0a25row15_col8 {\n",
       "            background-color:  #40b5c4;\n",
       "            color:  #000000;\n",
       "        }    #T_139cbba8_772d_11eb_8067_c4b301ca0a25row15_col9 {\n",
       "            background-color:  #42b6c4;\n",
       "            color:  #000000;\n",
       "        }    #T_139cbba8_772d_11eb_8067_c4b301ca0a25row15_col10 {\n",
       "            background-color:  #3eb3c4;\n",
       "            color:  #000000;\n",
       "        }    #T_139cbba8_772d_11eb_8067_c4b301ca0a25row15_col11 {\n",
       "            background-color:  #46b8c3;\n",
       "            color:  #000000;\n",
       "        }    #T_139cbba8_772d_11eb_8067_c4b301ca0a25row15_col12 {\n",
       "            background-color:  #40b5c4;\n",
       "            color:  #000000;\n",
       "        }    #T_139cbba8_772d_11eb_8067_c4b301ca0a25row15_col13 {\n",
       "            background-color:  #42b6c4;\n",
       "            color:  #000000;\n",
       "        }    #T_139cbba8_772d_11eb_8067_c4b301ca0a25row15_col14 {\n",
       "            background-color:  #ffffd9;\n",
       "            color:  #000000;\n",
       "        }    #T_139cbba8_772d_11eb_8067_c4b301ca0a25row15_col15 {\n",
       "            background-color:  #081d58;\n",
       "            color:  #f1f1f1;\n",
       "        }</style><table id=\"T_139cbba8_772d_11eb_8067_c4b301ca0a25\" ><thead>    <tr>        <th class=\"blank level0\" ></th>        <th class=\"col_heading level0 col0\" >treatment</th>        <th class=\"col_heading level0 col1\" >age</th>        <th class=\"col_heading level0 col2\" >blood_pressure</th>        <th class=\"col_heading level0 col3\" >TestA</th>        <th class=\"col_heading level0 col4\" >TestB</th>        <th class=\"col_heading level0 col5\" >GeneD</th>        <th class=\"col_heading level0 col6\" >GeneE</th>        <th class=\"col_heading level0 col7\" >GeneF</th>        <th class=\"col_heading level0 col8\" >female</th>        <th class=\"col_heading level0 col9\" >male</th>        <th class=\"col_heading level0 col10\" >bt_negative</th>        <th class=\"col_heading level0 col11\" >bt_positive</th>        <th class=\"col_heading level0 col12\" >fh_False</th>        <th class=\"col_heading level0 col13\" >fh_True</th>        <th class=\"col_heading level0 col14\" >C_not active</th>        <th class=\"col_heading level0 col15\" >C_active</th>    </tr></thead><tbody>\n",
       "                <tr>\n",
       "                        <th id=\"T_139cbba8_772d_11eb_8067_c4b301ca0a25level0_row0\" class=\"row_heading level0 row0\" >treatment</th>\n",
       "                        <td id=\"T_139cbba8_772d_11eb_8067_c4b301ca0a25row0_col0\" class=\"data row0 col0\" >1.000000</td>\n",
       "                        <td id=\"T_139cbba8_772d_11eb_8067_c4b301ca0a25row0_col1\" class=\"data row0 col1\" >-0.140788</td>\n",
       "                        <td id=\"T_139cbba8_772d_11eb_8067_c4b301ca0a25row0_col2\" class=\"data row0 col2\" >0.109113</td>\n",
       "                        <td id=\"T_139cbba8_772d_11eb_8067_c4b301ca0a25row0_col3\" class=\"data row0 col3\" >-0.131988</td>\n",
       "                        <td id=\"T_139cbba8_772d_11eb_8067_c4b301ca0a25row0_col4\" class=\"data row0 col4\" >-0.087565</td>\n",
       "                        <td id=\"T_139cbba8_772d_11eb_8067_c4b301ca0a25row0_col5\" class=\"data row0 col5\" >-0.006741</td>\n",
       "                        <td id=\"T_139cbba8_772d_11eb_8067_c4b301ca0a25row0_col6\" class=\"data row0 col6\" >-0.046960</td>\n",
       "                        <td id=\"T_139cbba8_772d_11eb_8067_c4b301ca0a25row0_col7\" class=\"data row0 col7\" >-0.016503</td>\n",
       "                        <td id=\"T_139cbba8_772d_11eb_8067_c4b301ca0a25row0_col8\" class=\"data row0 col8\" >0.469896</td>\n",
       "                        <td id=\"T_139cbba8_772d_11eb_8067_c4b301ca0a25row0_col9\" class=\"data row0 col9\" >-0.469896</td>\n",
       "                        <td id=\"T_139cbba8_772d_11eb_8067_c4b301ca0a25row0_col10\" class=\"data row0 col10\" >0.029174</td>\n",
       "                        <td id=\"T_139cbba8_772d_11eb_8067_c4b301ca0a25row0_col11\" class=\"data row0 col11\" >-0.029174</td>\n",
       "                        <td id=\"T_139cbba8_772d_11eb_8067_c4b301ca0a25row0_col12\" class=\"data row0 col12\" >-0.048582</td>\n",
       "                        <td id=\"T_139cbba8_772d_11eb_8067_c4b301ca0a25row0_col13\" class=\"data row0 col13\" >0.048582</td>\n",
       "                        <td id=\"T_139cbba8_772d_11eb_8067_c4b301ca0a25row0_col14\" class=\"data row0 col14\" >-0.004866</td>\n",
       "                        <td id=\"T_139cbba8_772d_11eb_8067_c4b301ca0a25row0_col15\" class=\"data row0 col15\" >0.004866</td>\n",
       "            </tr>\n",
       "            <tr>\n",
       "                        <th id=\"T_139cbba8_772d_11eb_8067_c4b301ca0a25level0_row1\" class=\"row_heading level0 row1\" >age</th>\n",
       "                        <td id=\"T_139cbba8_772d_11eb_8067_c4b301ca0a25row1_col0\" class=\"data row1 col0\" >-0.140788</td>\n",
       "                        <td id=\"T_139cbba8_772d_11eb_8067_c4b301ca0a25row1_col1\" class=\"data row1 col1\" >1.000000</td>\n",
       "                        <td id=\"T_139cbba8_772d_11eb_8067_c4b301ca0a25row1_col2\" class=\"data row1 col2\" >-0.007385</td>\n",
       "                        <td id=\"T_139cbba8_772d_11eb_8067_c4b301ca0a25row1_col3\" class=\"data row1 col3\" >0.937268</td>\n",
       "                        <td id=\"T_139cbba8_772d_11eb_8067_c4b301ca0a25row1_col4\" class=\"data row1 col4\" >-0.016912</td>\n",
       "                        <td id=\"T_139cbba8_772d_11eb_8067_c4b301ca0a25row1_col5\" class=\"data row1 col5\" >0.008545</td>\n",
       "                        <td id=\"T_139cbba8_772d_11eb_8067_c4b301ca0a25row1_col6\" class=\"data row1 col6\" >0.027627</td>\n",
       "                        <td id=\"T_139cbba8_772d_11eb_8067_c4b301ca0a25row1_col7\" class=\"data row1 col7\" >-0.012634</td>\n",
       "                        <td id=\"T_139cbba8_772d_11eb_8067_c4b301ca0a25row1_col8\" class=\"data row1 col8\" >0.002663</td>\n",
       "                        <td id=\"T_139cbba8_772d_11eb_8067_c4b301ca0a25row1_col9\" class=\"data row1 col9\" >-0.002663</td>\n",
       "                        <td id=\"T_139cbba8_772d_11eb_8067_c4b301ca0a25row1_col10\" class=\"data row1 col10\" >0.005881</td>\n",
       "                        <td id=\"T_139cbba8_772d_11eb_8067_c4b301ca0a25row1_col11\" class=\"data row1 col11\" >-0.005881</td>\n",
       "                        <td id=\"T_139cbba8_772d_11eb_8067_c4b301ca0a25row1_col12\" class=\"data row1 col12\" >0.013585</td>\n",
       "                        <td id=\"T_139cbba8_772d_11eb_8067_c4b301ca0a25row1_col13\" class=\"data row1 col13\" >-0.013585</td>\n",
       "                        <td id=\"T_139cbba8_772d_11eb_8067_c4b301ca0a25row1_col14\" class=\"data row1 col14\" >-0.002878</td>\n",
       "                        <td id=\"T_139cbba8_772d_11eb_8067_c4b301ca0a25row1_col15\" class=\"data row1 col15\" >0.002878</td>\n",
       "            </tr>\n",
       "            <tr>\n",
       "                        <th id=\"T_139cbba8_772d_11eb_8067_c4b301ca0a25level0_row2\" class=\"row_heading level0 row2\" >blood_pressure</th>\n",
       "                        <td id=\"T_139cbba8_772d_11eb_8067_c4b301ca0a25row2_col0\" class=\"data row2 col0\" >0.109113</td>\n",
       "                        <td id=\"T_139cbba8_772d_11eb_8067_c4b301ca0a25row2_col1\" class=\"data row2 col1\" >-0.007385</td>\n",
       "                        <td id=\"T_139cbba8_772d_11eb_8067_c4b301ca0a25row2_col2\" class=\"data row2 col2\" >1.000000</td>\n",
       "                        <td id=\"T_139cbba8_772d_11eb_8067_c4b301ca0a25row2_col3\" class=\"data row2 col3\" >-0.007389</td>\n",
       "                        <td id=\"T_139cbba8_772d_11eb_8067_c4b301ca0a25row2_col4\" class=\"data row2 col4\" >0.009860</td>\n",
       "                        <td id=\"T_139cbba8_772d_11eb_8067_c4b301ca0a25row2_col5\" class=\"data row2 col5\" >0.010710</td>\n",
       "                        <td id=\"T_139cbba8_772d_11eb_8067_c4b301ca0a25row2_col6\" class=\"data row2 col6\" >-0.002443</td>\n",
       "                        <td id=\"T_139cbba8_772d_11eb_8067_c4b301ca0a25row2_col7\" class=\"data row2 col7\" >-0.008529</td>\n",
       "                        <td id=\"T_139cbba8_772d_11eb_8067_c4b301ca0a25row2_col8\" class=\"data row2 col8\" >-0.007461</td>\n",
       "                        <td id=\"T_139cbba8_772d_11eb_8067_c4b301ca0a25row2_col9\" class=\"data row2 col9\" >0.007461</td>\n",
       "                        <td id=\"T_139cbba8_772d_11eb_8067_c4b301ca0a25row2_col10\" class=\"data row2 col10\" >-0.017698</td>\n",
       "                        <td id=\"T_139cbba8_772d_11eb_8067_c4b301ca0a25row2_col11\" class=\"data row2 col11\" >0.017698</td>\n",
       "                        <td id=\"T_139cbba8_772d_11eb_8067_c4b301ca0a25row2_col12\" class=\"data row2 col12\" >-0.011225</td>\n",
       "                        <td id=\"T_139cbba8_772d_11eb_8067_c4b301ca0a25row2_col13\" class=\"data row2 col13\" >0.011225</td>\n",
       "                        <td id=\"T_139cbba8_772d_11eb_8067_c4b301ca0a25row2_col14\" class=\"data row2 col14\" >0.008906</td>\n",
       "                        <td id=\"T_139cbba8_772d_11eb_8067_c4b301ca0a25row2_col15\" class=\"data row2 col15\" >-0.008906</td>\n",
       "            </tr>\n",
       "            <tr>\n",
       "                        <th id=\"T_139cbba8_772d_11eb_8067_c4b301ca0a25level0_row3\" class=\"row_heading level0 row3\" >TestA</th>\n",
       "                        <td id=\"T_139cbba8_772d_11eb_8067_c4b301ca0a25row3_col0\" class=\"data row3 col0\" >-0.131988</td>\n",
       "                        <td id=\"T_139cbba8_772d_11eb_8067_c4b301ca0a25row3_col1\" class=\"data row3 col1\" >0.937268</td>\n",
       "                        <td id=\"T_139cbba8_772d_11eb_8067_c4b301ca0a25row3_col2\" class=\"data row3 col2\" >-0.007389</td>\n",
       "                        <td id=\"T_139cbba8_772d_11eb_8067_c4b301ca0a25row3_col3\" class=\"data row3 col3\" >1.000000</td>\n",
       "                        <td id=\"T_139cbba8_772d_11eb_8067_c4b301ca0a25row3_col4\" class=\"data row3 col4\" >-0.013121</td>\n",
       "                        <td id=\"T_139cbba8_772d_11eb_8067_c4b301ca0a25row3_col5\" class=\"data row3 col5\" >0.012030</td>\n",
       "                        <td id=\"T_139cbba8_772d_11eb_8067_c4b301ca0a25row3_col6\" class=\"data row3 col6\" >0.028920</td>\n",
       "                        <td id=\"T_139cbba8_772d_11eb_8067_c4b301ca0a25row3_col7\" class=\"data row3 col7\" >-0.015040</td>\n",
       "                        <td id=\"T_139cbba8_772d_11eb_8067_c4b301ca0a25row3_col8\" class=\"data row3 col8\" >0.001258</td>\n",
       "                        <td id=\"T_139cbba8_772d_11eb_8067_c4b301ca0a25row3_col9\" class=\"data row3 col9\" >-0.001258</td>\n",
       "                        <td id=\"T_139cbba8_772d_11eb_8067_c4b301ca0a25row3_col10\" class=\"data row3 col10\" >0.005342</td>\n",
       "                        <td id=\"T_139cbba8_772d_11eb_8067_c4b301ca0a25row3_col11\" class=\"data row3 col11\" >-0.005342</td>\n",
       "                        <td id=\"T_139cbba8_772d_11eb_8067_c4b301ca0a25row3_col12\" class=\"data row3 col12\" >0.010380</td>\n",
       "                        <td id=\"T_139cbba8_772d_11eb_8067_c4b301ca0a25row3_col13\" class=\"data row3 col13\" >-0.010380</td>\n",
       "                        <td id=\"T_139cbba8_772d_11eb_8067_c4b301ca0a25row3_col14\" class=\"data row3 col14\" >0.001002</td>\n",
       "                        <td id=\"T_139cbba8_772d_11eb_8067_c4b301ca0a25row3_col15\" class=\"data row3 col15\" >-0.001002</td>\n",
       "            </tr>\n",
       "            <tr>\n",
       "                        <th id=\"T_139cbba8_772d_11eb_8067_c4b301ca0a25level0_row4\" class=\"row_heading level0 row4\" >TestB</th>\n",
       "                        <td id=\"T_139cbba8_772d_11eb_8067_c4b301ca0a25row4_col0\" class=\"data row4 col0\" >-0.087565</td>\n",
       "                        <td id=\"T_139cbba8_772d_11eb_8067_c4b301ca0a25row4_col1\" class=\"data row4 col1\" >-0.016912</td>\n",
       "                        <td id=\"T_139cbba8_772d_11eb_8067_c4b301ca0a25row4_col2\" class=\"data row4 col2\" >0.009860</td>\n",
       "                        <td id=\"T_139cbba8_772d_11eb_8067_c4b301ca0a25row4_col3\" class=\"data row4 col3\" >-0.013121</td>\n",
       "                        <td id=\"T_139cbba8_772d_11eb_8067_c4b301ca0a25row4_col4\" class=\"data row4 col4\" >1.000000</td>\n",
       "                        <td id=\"T_139cbba8_772d_11eb_8067_c4b301ca0a25row4_col5\" class=\"data row4 col5\" >-0.000496</td>\n",
       "                        <td id=\"T_139cbba8_772d_11eb_8067_c4b301ca0a25row4_col6\" class=\"data row4 col6\" >-0.008852</td>\n",
       "                        <td id=\"T_139cbba8_772d_11eb_8067_c4b301ca0a25row4_col7\" class=\"data row4 col7\" >-0.007488</td>\n",
       "                        <td id=\"T_139cbba8_772d_11eb_8067_c4b301ca0a25row4_col8\" class=\"data row4 col8\" >-0.002995</td>\n",
       "                        <td id=\"T_139cbba8_772d_11eb_8067_c4b301ca0a25row4_col9\" class=\"data row4 col9\" >0.002995</td>\n",
       "                        <td id=\"T_139cbba8_772d_11eb_8067_c4b301ca0a25row4_col10\" class=\"data row4 col10\" >-0.030514</td>\n",
       "                        <td id=\"T_139cbba8_772d_11eb_8067_c4b301ca0a25row4_col11\" class=\"data row4 col11\" >0.030514</td>\n",
       "                        <td id=\"T_139cbba8_772d_11eb_8067_c4b301ca0a25row4_col12\" class=\"data row4 col12\" >0.003283</td>\n",
       "                        <td id=\"T_139cbba8_772d_11eb_8067_c4b301ca0a25row4_col13\" class=\"data row4 col13\" >-0.003283</td>\n",
       "                        <td id=\"T_139cbba8_772d_11eb_8067_c4b301ca0a25row4_col14\" class=\"data row4 col14\" >-0.011177</td>\n",
       "                        <td id=\"T_139cbba8_772d_11eb_8067_c4b301ca0a25row4_col15\" class=\"data row4 col15\" >0.011177</td>\n",
       "            </tr>\n",
       "            <tr>\n",
       "                        <th id=\"T_139cbba8_772d_11eb_8067_c4b301ca0a25level0_row5\" class=\"row_heading level0 row5\" >GeneD</th>\n",
       "                        <td id=\"T_139cbba8_772d_11eb_8067_c4b301ca0a25row5_col0\" class=\"data row5 col0\" >-0.006741</td>\n",
       "                        <td id=\"T_139cbba8_772d_11eb_8067_c4b301ca0a25row5_col1\" class=\"data row5 col1\" >0.008545</td>\n",
       "                        <td id=\"T_139cbba8_772d_11eb_8067_c4b301ca0a25row5_col2\" class=\"data row5 col2\" >0.010710</td>\n",
       "                        <td id=\"T_139cbba8_772d_11eb_8067_c4b301ca0a25row5_col3\" class=\"data row5 col3\" >0.012030</td>\n",
       "                        <td id=\"T_139cbba8_772d_11eb_8067_c4b301ca0a25row5_col4\" class=\"data row5 col4\" >-0.000496</td>\n",
       "                        <td id=\"T_139cbba8_772d_11eb_8067_c4b301ca0a25row5_col5\" class=\"data row5 col5\" >1.000000</td>\n",
       "                        <td id=\"T_139cbba8_772d_11eb_8067_c4b301ca0a25row5_col6\" class=\"data row5 col6\" >0.003983</td>\n",
       "                        <td id=\"T_139cbba8_772d_11eb_8067_c4b301ca0a25row5_col7\" class=\"data row5 col7\" >0.009215</td>\n",
       "                        <td id=\"T_139cbba8_772d_11eb_8067_c4b301ca0a25row5_col8\" class=\"data row5 col8\" >0.012019</td>\n",
       "                        <td id=\"T_139cbba8_772d_11eb_8067_c4b301ca0a25row5_col9\" class=\"data row5 col9\" >-0.012019</td>\n",
       "                        <td id=\"T_139cbba8_772d_11eb_8067_c4b301ca0a25row5_col10\" class=\"data row5 col10\" >0.016132</td>\n",
       "                        <td id=\"T_139cbba8_772d_11eb_8067_c4b301ca0a25row5_col11\" class=\"data row5 col11\" >-0.016132</td>\n",
       "                        <td id=\"T_139cbba8_772d_11eb_8067_c4b301ca0a25row5_col12\" class=\"data row5 col12\" >-0.015074</td>\n",
       "                        <td id=\"T_139cbba8_772d_11eb_8067_c4b301ca0a25row5_col13\" class=\"data row5 col13\" >0.015074</td>\n",
       "                        <td id=\"T_139cbba8_772d_11eb_8067_c4b301ca0a25row5_col14\" class=\"data row5 col14\" >0.007169</td>\n",
       "                        <td id=\"T_139cbba8_772d_11eb_8067_c4b301ca0a25row5_col15\" class=\"data row5 col15\" >-0.007169</td>\n",
       "            </tr>\n",
       "            <tr>\n",
       "                        <th id=\"T_139cbba8_772d_11eb_8067_c4b301ca0a25level0_row6\" class=\"row_heading level0 row6\" >GeneE</th>\n",
       "                        <td id=\"T_139cbba8_772d_11eb_8067_c4b301ca0a25row6_col0\" class=\"data row6 col0\" >-0.046960</td>\n",
       "                        <td id=\"T_139cbba8_772d_11eb_8067_c4b301ca0a25row6_col1\" class=\"data row6 col1\" >0.027627</td>\n",
       "                        <td id=\"T_139cbba8_772d_11eb_8067_c4b301ca0a25row6_col2\" class=\"data row6 col2\" >-0.002443</td>\n",
       "                        <td id=\"T_139cbba8_772d_11eb_8067_c4b301ca0a25row6_col3\" class=\"data row6 col3\" >0.028920</td>\n",
       "                        <td id=\"T_139cbba8_772d_11eb_8067_c4b301ca0a25row6_col4\" class=\"data row6 col4\" >-0.008852</td>\n",
       "                        <td id=\"T_139cbba8_772d_11eb_8067_c4b301ca0a25row6_col5\" class=\"data row6 col5\" >0.003983</td>\n",
       "                        <td id=\"T_139cbba8_772d_11eb_8067_c4b301ca0a25row6_col6\" class=\"data row6 col6\" >1.000000</td>\n",
       "                        <td id=\"T_139cbba8_772d_11eb_8067_c4b301ca0a25row6_col7\" class=\"data row6 col7\" >-0.006165</td>\n",
       "                        <td id=\"T_139cbba8_772d_11eb_8067_c4b301ca0a25row6_col8\" class=\"data row6 col8\" >0.005595</td>\n",
       "                        <td id=\"T_139cbba8_772d_11eb_8067_c4b301ca0a25row6_col9\" class=\"data row6 col9\" >-0.005595</td>\n",
       "                        <td id=\"T_139cbba8_772d_11eb_8067_c4b301ca0a25row6_col10\" class=\"data row6 col10\" >-0.015368</td>\n",
       "                        <td id=\"T_139cbba8_772d_11eb_8067_c4b301ca0a25row6_col11\" class=\"data row6 col11\" >0.015368</td>\n",
       "                        <td id=\"T_139cbba8_772d_11eb_8067_c4b301ca0a25row6_col12\" class=\"data row6 col12\" >0.009607</td>\n",
       "                        <td id=\"T_139cbba8_772d_11eb_8067_c4b301ca0a25row6_col13\" class=\"data row6 col13\" >-0.009607</td>\n",
       "                        <td id=\"T_139cbba8_772d_11eb_8067_c4b301ca0a25row6_col14\" class=\"data row6 col14\" >-0.004058</td>\n",
       "                        <td id=\"T_139cbba8_772d_11eb_8067_c4b301ca0a25row6_col15\" class=\"data row6 col15\" >0.004058</td>\n",
       "            </tr>\n",
       "            <tr>\n",
       "                        <th id=\"T_139cbba8_772d_11eb_8067_c4b301ca0a25level0_row7\" class=\"row_heading level0 row7\" >GeneF</th>\n",
       "                        <td id=\"T_139cbba8_772d_11eb_8067_c4b301ca0a25row7_col0\" class=\"data row7 col0\" >-0.016503</td>\n",
       "                        <td id=\"T_139cbba8_772d_11eb_8067_c4b301ca0a25row7_col1\" class=\"data row7 col1\" >-0.012634</td>\n",
       "                        <td id=\"T_139cbba8_772d_11eb_8067_c4b301ca0a25row7_col2\" class=\"data row7 col2\" >-0.008529</td>\n",
       "                        <td id=\"T_139cbba8_772d_11eb_8067_c4b301ca0a25row7_col3\" class=\"data row7 col3\" >-0.015040</td>\n",
       "                        <td id=\"T_139cbba8_772d_11eb_8067_c4b301ca0a25row7_col4\" class=\"data row7 col4\" >-0.007488</td>\n",
       "                        <td id=\"T_139cbba8_772d_11eb_8067_c4b301ca0a25row7_col5\" class=\"data row7 col5\" >0.009215</td>\n",
       "                        <td id=\"T_139cbba8_772d_11eb_8067_c4b301ca0a25row7_col6\" class=\"data row7 col6\" >-0.006165</td>\n",
       "                        <td id=\"T_139cbba8_772d_11eb_8067_c4b301ca0a25row7_col7\" class=\"data row7 col7\" >1.000000</td>\n",
       "                        <td id=\"T_139cbba8_772d_11eb_8067_c4b301ca0a25row7_col8\" class=\"data row7 col8\" >0.004251</td>\n",
       "                        <td id=\"T_139cbba8_772d_11eb_8067_c4b301ca0a25row7_col9\" class=\"data row7 col9\" >-0.004251</td>\n",
       "                        <td id=\"T_139cbba8_772d_11eb_8067_c4b301ca0a25row7_col10\" class=\"data row7 col10\" >0.001603</td>\n",
       "                        <td id=\"T_139cbba8_772d_11eb_8067_c4b301ca0a25row7_col11\" class=\"data row7 col11\" >-0.001603</td>\n",
       "                        <td id=\"T_139cbba8_772d_11eb_8067_c4b301ca0a25row7_col12\" class=\"data row7 col12\" >-0.027616</td>\n",
       "                        <td id=\"T_139cbba8_772d_11eb_8067_c4b301ca0a25row7_col13\" class=\"data row7 col13\" >0.027616</td>\n",
       "                        <td id=\"T_139cbba8_772d_11eb_8067_c4b301ca0a25row7_col14\" class=\"data row7 col14\" >-0.004114</td>\n",
       "                        <td id=\"T_139cbba8_772d_11eb_8067_c4b301ca0a25row7_col15\" class=\"data row7 col15\" >0.004114</td>\n",
       "            </tr>\n",
       "            <tr>\n",
       "                        <th id=\"T_139cbba8_772d_11eb_8067_c4b301ca0a25level0_row8\" class=\"row_heading level0 row8\" >female</th>\n",
       "                        <td id=\"T_139cbba8_772d_11eb_8067_c4b301ca0a25row8_col0\" class=\"data row8 col0\" >0.469896</td>\n",
       "                        <td id=\"T_139cbba8_772d_11eb_8067_c4b301ca0a25row8_col1\" class=\"data row8 col1\" >0.002663</td>\n",
       "                        <td id=\"T_139cbba8_772d_11eb_8067_c4b301ca0a25row8_col2\" class=\"data row8 col2\" >-0.007461</td>\n",
       "                        <td id=\"T_139cbba8_772d_11eb_8067_c4b301ca0a25row8_col3\" class=\"data row8 col3\" >0.001258</td>\n",
       "                        <td id=\"T_139cbba8_772d_11eb_8067_c4b301ca0a25row8_col4\" class=\"data row8 col4\" >-0.002995</td>\n",
       "                        <td id=\"T_139cbba8_772d_11eb_8067_c4b301ca0a25row8_col5\" class=\"data row8 col5\" >0.012019</td>\n",
       "                        <td id=\"T_139cbba8_772d_11eb_8067_c4b301ca0a25row8_col6\" class=\"data row8 col6\" >0.005595</td>\n",
       "                        <td id=\"T_139cbba8_772d_11eb_8067_c4b301ca0a25row8_col7\" class=\"data row8 col7\" >0.004251</td>\n",
       "                        <td id=\"T_139cbba8_772d_11eb_8067_c4b301ca0a25row8_col8\" class=\"data row8 col8\" >1.000000</td>\n",
       "                        <td id=\"T_139cbba8_772d_11eb_8067_c4b301ca0a25row8_col9\" class=\"data row8 col9\" >-1.000000</td>\n",
       "                        <td id=\"T_139cbba8_772d_11eb_8067_c4b301ca0a25row8_col10\" class=\"data row8 col10\" >-0.002919</td>\n",
       "                        <td id=\"T_139cbba8_772d_11eb_8067_c4b301ca0a25row8_col11\" class=\"data row8 col11\" >0.002919</td>\n",
       "                        <td id=\"T_139cbba8_772d_11eb_8067_c4b301ca0a25row8_col12\" class=\"data row8 col12\" >0.020897</td>\n",
       "                        <td id=\"T_139cbba8_772d_11eb_8067_c4b301ca0a25row8_col13\" class=\"data row8 col13\" >-0.020897</td>\n",
       "                        <td id=\"T_139cbba8_772d_11eb_8067_c4b301ca0a25row8_col14\" class=\"data row8 col14\" >-0.002275</td>\n",
       "                        <td id=\"T_139cbba8_772d_11eb_8067_c4b301ca0a25row8_col15\" class=\"data row8 col15\" >0.002275</td>\n",
       "            </tr>\n",
       "            <tr>\n",
       "                        <th id=\"T_139cbba8_772d_11eb_8067_c4b301ca0a25level0_row9\" class=\"row_heading level0 row9\" >male</th>\n",
       "                        <td id=\"T_139cbba8_772d_11eb_8067_c4b301ca0a25row9_col0\" class=\"data row9 col0\" >-0.469896</td>\n",
       "                        <td id=\"T_139cbba8_772d_11eb_8067_c4b301ca0a25row9_col1\" class=\"data row9 col1\" >-0.002663</td>\n",
       "                        <td id=\"T_139cbba8_772d_11eb_8067_c4b301ca0a25row9_col2\" class=\"data row9 col2\" >0.007461</td>\n",
       "                        <td id=\"T_139cbba8_772d_11eb_8067_c4b301ca0a25row9_col3\" class=\"data row9 col3\" >-0.001258</td>\n",
       "                        <td id=\"T_139cbba8_772d_11eb_8067_c4b301ca0a25row9_col4\" class=\"data row9 col4\" >0.002995</td>\n",
       "                        <td id=\"T_139cbba8_772d_11eb_8067_c4b301ca0a25row9_col5\" class=\"data row9 col5\" >-0.012019</td>\n",
       "                        <td id=\"T_139cbba8_772d_11eb_8067_c4b301ca0a25row9_col6\" class=\"data row9 col6\" >-0.005595</td>\n",
       "                        <td id=\"T_139cbba8_772d_11eb_8067_c4b301ca0a25row9_col7\" class=\"data row9 col7\" >-0.004251</td>\n",
       "                        <td id=\"T_139cbba8_772d_11eb_8067_c4b301ca0a25row9_col8\" class=\"data row9 col8\" >-1.000000</td>\n",
       "                        <td id=\"T_139cbba8_772d_11eb_8067_c4b301ca0a25row9_col9\" class=\"data row9 col9\" >1.000000</td>\n",
       "                        <td id=\"T_139cbba8_772d_11eb_8067_c4b301ca0a25row9_col10\" class=\"data row9 col10\" >0.002919</td>\n",
       "                        <td id=\"T_139cbba8_772d_11eb_8067_c4b301ca0a25row9_col11\" class=\"data row9 col11\" >-0.002919</td>\n",
       "                        <td id=\"T_139cbba8_772d_11eb_8067_c4b301ca0a25row9_col12\" class=\"data row9 col12\" >-0.020897</td>\n",
       "                        <td id=\"T_139cbba8_772d_11eb_8067_c4b301ca0a25row9_col13\" class=\"data row9 col13\" >0.020897</td>\n",
       "                        <td id=\"T_139cbba8_772d_11eb_8067_c4b301ca0a25row9_col14\" class=\"data row9 col14\" >0.002275</td>\n",
       "                        <td id=\"T_139cbba8_772d_11eb_8067_c4b301ca0a25row9_col15\" class=\"data row9 col15\" >-0.002275</td>\n",
       "            </tr>\n",
       "            <tr>\n",
       "                        <th id=\"T_139cbba8_772d_11eb_8067_c4b301ca0a25level0_row10\" class=\"row_heading level0 row10\" >bt_negative</th>\n",
       "                        <td id=\"T_139cbba8_772d_11eb_8067_c4b301ca0a25row10_col0\" class=\"data row10 col0\" >0.029174</td>\n",
       "                        <td id=\"T_139cbba8_772d_11eb_8067_c4b301ca0a25row10_col1\" class=\"data row10 col1\" >0.005881</td>\n",
       "                        <td id=\"T_139cbba8_772d_11eb_8067_c4b301ca0a25row10_col2\" class=\"data row10 col2\" >-0.017698</td>\n",
       "                        <td id=\"T_139cbba8_772d_11eb_8067_c4b301ca0a25row10_col3\" class=\"data row10 col3\" >0.005342</td>\n",
       "                        <td id=\"T_139cbba8_772d_11eb_8067_c4b301ca0a25row10_col4\" class=\"data row10 col4\" >-0.030514</td>\n",
       "                        <td id=\"T_139cbba8_772d_11eb_8067_c4b301ca0a25row10_col5\" class=\"data row10 col5\" >0.016132</td>\n",
       "                        <td id=\"T_139cbba8_772d_11eb_8067_c4b301ca0a25row10_col6\" class=\"data row10 col6\" >-0.015368</td>\n",
       "                        <td id=\"T_139cbba8_772d_11eb_8067_c4b301ca0a25row10_col7\" class=\"data row10 col7\" >0.001603</td>\n",
       "                        <td id=\"T_139cbba8_772d_11eb_8067_c4b301ca0a25row10_col8\" class=\"data row10 col8\" >-0.002919</td>\n",
       "                        <td id=\"T_139cbba8_772d_11eb_8067_c4b301ca0a25row10_col9\" class=\"data row10 col9\" >0.002919</td>\n",
       "                        <td id=\"T_139cbba8_772d_11eb_8067_c4b301ca0a25row10_col10\" class=\"data row10 col10\" >1.000000</td>\n",
       "                        <td id=\"T_139cbba8_772d_11eb_8067_c4b301ca0a25row10_col11\" class=\"data row10 col11\" >-1.000000</td>\n",
       "                        <td id=\"T_139cbba8_772d_11eb_8067_c4b301ca0a25row10_col12\" class=\"data row10 col12\" >-0.000025</td>\n",
       "                        <td id=\"T_139cbba8_772d_11eb_8067_c4b301ca0a25row10_col13\" class=\"data row10 col13\" >0.000025</td>\n",
       "                        <td id=\"T_139cbba8_772d_11eb_8067_c4b301ca0a25row10_col14\" class=\"data row10 col14\" >-0.023278</td>\n",
       "                        <td id=\"T_139cbba8_772d_11eb_8067_c4b301ca0a25row10_col15\" class=\"data row10 col15\" >0.023278</td>\n",
       "            </tr>\n",
       "            <tr>\n",
       "                        <th id=\"T_139cbba8_772d_11eb_8067_c4b301ca0a25level0_row11\" class=\"row_heading level0 row11\" >bt_positive</th>\n",
       "                        <td id=\"T_139cbba8_772d_11eb_8067_c4b301ca0a25row11_col0\" class=\"data row11 col0\" >-0.029174</td>\n",
       "                        <td id=\"T_139cbba8_772d_11eb_8067_c4b301ca0a25row11_col1\" class=\"data row11 col1\" >-0.005881</td>\n",
       "                        <td id=\"T_139cbba8_772d_11eb_8067_c4b301ca0a25row11_col2\" class=\"data row11 col2\" >0.017698</td>\n",
       "                        <td id=\"T_139cbba8_772d_11eb_8067_c4b301ca0a25row11_col3\" class=\"data row11 col3\" >-0.005342</td>\n",
       "                        <td id=\"T_139cbba8_772d_11eb_8067_c4b301ca0a25row11_col4\" class=\"data row11 col4\" >0.030514</td>\n",
       "                        <td id=\"T_139cbba8_772d_11eb_8067_c4b301ca0a25row11_col5\" class=\"data row11 col5\" >-0.016132</td>\n",
       "                        <td id=\"T_139cbba8_772d_11eb_8067_c4b301ca0a25row11_col6\" class=\"data row11 col6\" >0.015368</td>\n",
       "                        <td id=\"T_139cbba8_772d_11eb_8067_c4b301ca0a25row11_col7\" class=\"data row11 col7\" >-0.001603</td>\n",
       "                        <td id=\"T_139cbba8_772d_11eb_8067_c4b301ca0a25row11_col8\" class=\"data row11 col8\" >0.002919</td>\n",
       "                        <td id=\"T_139cbba8_772d_11eb_8067_c4b301ca0a25row11_col9\" class=\"data row11 col9\" >-0.002919</td>\n",
       "                        <td id=\"T_139cbba8_772d_11eb_8067_c4b301ca0a25row11_col10\" class=\"data row11 col10\" >-1.000000</td>\n",
       "                        <td id=\"T_139cbba8_772d_11eb_8067_c4b301ca0a25row11_col11\" class=\"data row11 col11\" >1.000000</td>\n",
       "                        <td id=\"T_139cbba8_772d_11eb_8067_c4b301ca0a25row11_col12\" class=\"data row11 col12\" >0.000025</td>\n",
       "                        <td id=\"T_139cbba8_772d_11eb_8067_c4b301ca0a25row11_col13\" class=\"data row11 col13\" >-0.000025</td>\n",
       "                        <td id=\"T_139cbba8_772d_11eb_8067_c4b301ca0a25row11_col14\" class=\"data row11 col14\" >0.023278</td>\n",
       "                        <td id=\"T_139cbba8_772d_11eb_8067_c4b301ca0a25row11_col15\" class=\"data row11 col15\" >-0.023278</td>\n",
       "            </tr>\n",
       "            <tr>\n",
       "                        <th id=\"T_139cbba8_772d_11eb_8067_c4b301ca0a25level0_row12\" class=\"row_heading level0 row12\" >fh_False</th>\n",
       "                        <td id=\"T_139cbba8_772d_11eb_8067_c4b301ca0a25row12_col0\" class=\"data row12 col0\" >-0.048582</td>\n",
       "                        <td id=\"T_139cbba8_772d_11eb_8067_c4b301ca0a25row12_col1\" class=\"data row12 col1\" >0.013585</td>\n",
       "                        <td id=\"T_139cbba8_772d_11eb_8067_c4b301ca0a25row12_col2\" class=\"data row12 col2\" >-0.011225</td>\n",
       "                        <td id=\"T_139cbba8_772d_11eb_8067_c4b301ca0a25row12_col3\" class=\"data row12 col3\" >0.010380</td>\n",
       "                        <td id=\"T_139cbba8_772d_11eb_8067_c4b301ca0a25row12_col4\" class=\"data row12 col4\" >0.003283</td>\n",
       "                        <td id=\"T_139cbba8_772d_11eb_8067_c4b301ca0a25row12_col5\" class=\"data row12 col5\" >-0.015074</td>\n",
       "                        <td id=\"T_139cbba8_772d_11eb_8067_c4b301ca0a25row12_col6\" class=\"data row12 col6\" >0.009607</td>\n",
       "                        <td id=\"T_139cbba8_772d_11eb_8067_c4b301ca0a25row12_col7\" class=\"data row12 col7\" >-0.027616</td>\n",
       "                        <td id=\"T_139cbba8_772d_11eb_8067_c4b301ca0a25row12_col8\" class=\"data row12 col8\" >0.020897</td>\n",
       "                        <td id=\"T_139cbba8_772d_11eb_8067_c4b301ca0a25row12_col9\" class=\"data row12 col9\" >-0.020897</td>\n",
       "                        <td id=\"T_139cbba8_772d_11eb_8067_c4b301ca0a25row12_col10\" class=\"data row12 col10\" >-0.000025</td>\n",
       "                        <td id=\"T_139cbba8_772d_11eb_8067_c4b301ca0a25row12_col11\" class=\"data row12 col11\" >0.000025</td>\n",
       "                        <td id=\"T_139cbba8_772d_11eb_8067_c4b301ca0a25row12_col12\" class=\"data row12 col12\" >1.000000</td>\n",
       "                        <td id=\"T_139cbba8_772d_11eb_8067_c4b301ca0a25row12_col13\" class=\"data row12 col13\" >-1.000000</td>\n",
       "                        <td id=\"T_139cbba8_772d_11eb_8067_c4b301ca0a25row12_col14\" class=\"data row12 col14\" >-0.006866</td>\n",
       "                        <td id=\"T_139cbba8_772d_11eb_8067_c4b301ca0a25row12_col15\" class=\"data row12 col15\" >0.006866</td>\n",
       "            </tr>\n",
       "            <tr>\n",
       "                        <th id=\"T_139cbba8_772d_11eb_8067_c4b301ca0a25level0_row13\" class=\"row_heading level0 row13\" >fh_True</th>\n",
       "                        <td id=\"T_139cbba8_772d_11eb_8067_c4b301ca0a25row13_col0\" class=\"data row13 col0\" >0.048582</td>\n",
       "                        <td id=\"T_139cbba8_772d_11eb_8067_c4b301ca0a25row13_col1\" class=\"data row13 col1\" >-0.013585</td>\n",
       "                        <td id=\"T_139cbba8_772d_11eb_8067_c4b301ca0a25row13_col2\" class=\"data row13 col2\" >0.011225</td>\n",
       "                        <td id=\"T_139cbba8_772d_11eb_8067_c4b301ca0a25row13_col3\" class=\"data row13 col3\" >-0.010380</td>\n",
       "                        <td id=\"T_139cbba8_772d_11eb_8067_c4b301ca0a25row13_col4\" class=\"data row13 col4\" >-0.003283</td>\n",
       "                        <td id=\"T_139cbba8_772d_11eb_8067_c4b301ca0a25row13_col5\" class=\"data row13 col5\" >0.015074</td>\n",
       "                        <td id=\"T_139cbba8_772d_11eb_8067_c4b301ca0a25row13_col6\" class=\"data row13 col6\" >-0.009607</td>\n",
       "                        <td id=\"T_139cbba8_772d_11eb_8067_c4b301ca0a25row13_col7\" class=\"data row13 col7\" >0.027616</td>\n",
       "                        <td id=\"T_139cbba8_772d_11eb_8067_c4b301ca0a25row13_col8\" class=\"data row13 col8\" >-0.020897</td>\n",
       "                        <td id=\"T_139cbba8_772d_11eb_8067_c4b301ca0a25row13_col9\" class=\"data row13 col9\" >0.020897</td>\n",
       "                        <td id=\"T_139cbba8_772d_11eb_8067_c4b301ca0a25row13_col10\" class=\"data row13 col10\" >0.000025</td>\n",
       "                        <td id=\"T_139cbba8_772d_11eb_8067_c4b301ca0a25row13_col11\" class=\"data row13 col11\" >-0.000025</td>\n",
       "                        <td id=\"T_139cbba8_772d_11eb_8067_c4b301ca0a25row13_col12\" class=\"data row13 col12\" >-1.000000</td>\n",
       "                        <td id=\"T_139cbba8_772d_11eb_8067_c4b301ca0a25row13_col13\" class=\"data row13 col13\" >1.000000</td>\n",
       "                        <td id=\"T_139cbba8_772d_11eb_8067_c4b301ca0a25row13_col14\" class=\"data row13 col14\" >0.006866</td>\n",
       "                        <td id=\"T_139cbba8_772d_11eb_8067_c4b301ca0a25row13_col15\" class=\"data row13 col15\" >-0.006866</td>\n",
       "            </tr>\n",
       "            <tr>\n",
       "                        <th id=\"T_139cbba8_772d_11eb_8067_c4b301ca0a25level0_row14\" class=\"row_heading level0 row14\" >C_not active</th>\n",
       "                        <td id=\"T_139cbba8_772d_11eb_8067_c4b301ca0a25row14_col0\" class=\"data row14 col0\" >-0.004866</td>\n",
       "                        <td id=\"T_139cbba8_772d_11eb_8067_c4b301ca0a25row14_col1\" class=\"data row14 col1\" >-0.002878</td>\n",
       "                        <td id=\"T_139cbba8_772d_11eb_8067_c4b301ca0a25row14_col2\" class=\"data row14 col2\" >0.008906</td>\n",
       "                        <td id=\"T_139cbba8_772d_11eb_8067_c4b301ca0a25row14_col3\" class=\"data row14 col3\" >0.001002</td>\n",
       "                        <td id=\"T_139cbba8_772d_11eb_8067_c4b301ca0a25row14_col4\" class=\"data row14 col4\" >-0.011177</td>\n",
       "                        <td id=\"T_139cbba8_772d_11eb_8067_c4b301ca0a25row14_col5\" class=\"data row14 col5\" >0.007169</td>\n",
       "                        <td id=\"T_139cbba8_772d_11eb_8067_c4b301ca0a25row14_col6\" class=\"data row14 col6\" >-0.004058</td>\n",
       "                        <td id=\"T_139cbba8_772d_11eb_8067_c4b301ca0a25row14_col7\" class=\"data row14 col7\" >-0.004114</td>\n",
       "                        <td id=\"T_139cbba8_772d_11eb_8067_c4b301ca0a25row14_col8\" class=\"data row14 col8\" >-0.002275</td>\n",
       "                        <td id=\"T_139cbba8_772d_11eb_8067_c4b301ca0a25row14_col9\" class=\"data row14 col9\" >0.002275</td>\n",
       "                        <td id=\"T_139cbba8_772d_11eb_8067_c4b301ca0a25row14_col10\" class=\"data row14 col10\" >-0.023278</td>\n",
       "                        <td id=\"T_139cbba8_772d_11eb_8067_c4b301ca0a25row14_col11\" class=\"data row14 col11\" >0.023278</td>\n",
       "                        <td id=\"T_139cbba8_772d_11eb_8067_c4b301ca0a25row14_col12\" class=\"data row14 col12\" >-0.006866</td>\n",
       "                        <td id=\"T_139cbba8_772d_11eb_8067_c4b301ca0a25row14_col13\" class=\"data row14 col13\" >0.006866</td>\n",
       "                        <td id=\"T_139cbba8_772d_11eb_8067_c4b301ca0a25row14_col14\" class=\"data row14 col14\" >1.000000</td>\n",
       "                        <td id=\"T_139cbba8_772d_11eb_8067_c4b301ca0a25row14_col15\" class=\"data row14 col15\" >-1.000000</td>\n",
       "            </tr>\n",
       "            <tr>\n",
       "                        <th id=\"T_139cbba8_772d_11eb_8067_c4b301ca0a25level0_row15\" class=\"row_heading level0 row15\" >C_active</th>\n",
       "                        <td id=\"T_139cbba8_772d_11eb_8067_c4b301ca0a25row15_col0\" class=\"data row15 col0\" >0.004866</td>\n",
       "                        <td id=\"T_139cbba8_772d_11eb_8067_c4b301ca0a25row15_col1\" class=\"data row15 col1\" >0.002878</td>\n",
       "                        <td id=\"T_139cbba8_772d_11eb_8067_c4b301ca0a25row15_col2\" class=\"data row15 col2\" >-0.008906</td>\n",
       "                        <td id=\"T_139cbba8_772d_11eb_8067_c4b301ca0a25row15_col3\" class=\"data row15 col3\" >-0.001002</td>\n",
       "                        <td id=\"T_139cbba8_772d_11eb_8067_c4b301ca0a25row15_col4\" class=\"data row15 col4\" >0.011177</td>\n",
       "                        <td id=\"T_139cbba8_772d_11eb_8067_c4b301ca0a25row15_col5\" class=\"data row15 col5\" >-0.007169</td>\n",
       "                        <td id=\"T_139cbba8_772d_11eb_8067_c4b301ca0a25row15_col6\" class=\"data row15 col6\" >0.004058</td>\n",
       "                        <td id=\"T_139cbba8_772d_11eb_8067_c4b301ca0a25row15_col7\" class=\"data row15 col7\" >0.004114</td>\n",
       "                        <td id=\"T_139cbba8_772d_11eb_8067_c4b301ca0a25row15_col8\" class=\"data row15 col8\" >0.002275</td>\n",
       "                        <td id=\"T_139cbba8_772d_11eb_8067_c4b301ca0a25row15_col9\" class=\"data row15 col9\" >-0.002275</td>\n",
       "                        <td id=\"T_139cbba8_772d_11eb_8067_c4b301ca0a25row15_col10\" class=\"data row15 col10\" >0.023278</td>\n",
       "                        <td id=\"T_139cbba8_772d_11eb_8067_c4b301ca0a25row15_col11\" class=\"data row15 col11\" >-0.023278</td>\n",
       "                        <td id=\"T_139cbba8_772d_11eb_8067_c4b301ca0a25row15_col12\" class=\"data row15 col12\" >0.006866</td>\n",
       "                        <td id=\"T_139cbba8_772d_11eb_8067_c4b301ca0a25row15_col13\" class=\"data row15 col13\" >-0.006866</td>\n",
       "                        <td id=\"T_139cbba8_772d_11eb_8067_c4b301ca0a25row15_col14\" class=\"data row15 col14\" >-1.000000</td>\n",
       "                        <td id=\"T_139cbba8_772d_11eb_8067_c4b301ca0a25row15_col15\" class=\"data row15 col15\" >1.000000</td>\n",
       "            </tr>\n",
       "    </tbody></table>"
      ],
      "text/plain": [
       "<pandas.io.formats.style.Styler at 0x12f2888e0>"
      ]
     },
     "execution_count": 40,
     "metadata": {},
     "output_type": "execute_result"
    }
   ],
   "source": [
    "#Plot correlation matrix\n",
    "corr = df_new.corr()\n",
    "corr.style.background_gradient(cmap='YlGnBu')"
   ]
  },
  {
   "cell_type": "markdown",
   "metadata": {},
   "source": [
    "- We can see that gender(male & female) has relateively high positive and negative relationship with treatment. \n",
    "- Compared to other attributes (except gender), age, blood_pressure, and Test A have relatively somewhat strong positive/negative correlation with treatment (corr is around 0.1).\n",
    "- We can visualized to determine the strong/weak relationship between features and target variable. \n",
    "- Interesting found that Test A and age have powerful correlation (corr = 0.9373)\n"
   ]
  },
  {
   "cell_type": "code",
   "execution_count": 41,
   "metadata": {},
   "outputs": [],
   "source": [
    "import numpy as np\n",
    "import pandas as pd\n",
    "import matplotlib.pyplot as plt\n",
    "import statsmodels.api as sm\n"
   ]
  },
  {
   "cell_type": "code",
   "execution_count": 42,
   "metadata": {},
   "outputs": [
    {
     "data": {
      "text/html": [
       "<table class=\"simpletable\">\n",
       "<caption>OLS Regression Results</caption>\n",
       "<tr>\n",
       "  <th>Dep. Variable:</th>        <td>treatment</td>    <th>  R-squared:         </th> <td>   0.268</td>\n",
       "</tr>\n",
       "<tr>\n",
       "  <th>Model:</th>                   <td>OLS</td>       <th>  Adj. R-squared:    </th> <td>   0.267</td>\n",
       "</tr>\n",
       "<tr>\n",
       "  <th>Method:</th>             <td>Least Squares</td>  <th>  F-statistic:       </th> <td>   200.5</td>\n",
       "</tr>\n",
       "<tr>\n",
       "  <th>Date:</th>             <td>Wed, 24 Feb 2021</td> <th>  Prob (F-statistic):</th>  <td>  0.00</td> \n",
       "</tr>\n",
       "<tr>\n",
       "  <th>Time:</th>                 <td>21:48:25</td>     <th>  Log-Likelihood:    </th> <td> -3399.6</td>\n",
       "</tr>\n",
       "<tr>\n",
       "  <th>No. Observations:</th>      <td>  6031</td>      <th>  AIC:               </th> <td>   6823.</td>\n",
       "</tr>\n",
       "<tr>\n",
       "  <th>Df Residuals:</th>          <td>  6019</td>      <th>  BIC:               </th> <td>   6904.</td>\n",
       "</tr>\n",
       "<tr>\n",
       "  <th>Df Model:</th>              <td>    11</td>      <th>                     </th>     <td> </td>   \n",
       "</tr>\n",
       "<tr>\n",
       "  <th>Covariance Type:</th>      <td>nonrobust</td>    <th>                     </th>     <td> </td>   \n",
       "</tr>\n",
       "</table>\n",
       "<table class=\"simpletable\">\n",
       "<tr>\n",
       "         <td></td>           <th>coef</th>     <th>std err</th>      <th>t</th>      <th>P>|t|</th>  <th>[0.025</th>    <th>0.975]</th>  \n",
       "</tr>\n",
       "<tr>\n",
       "  <th>const</th>          <td>    0.3368</td> <td>    0.054</td> <td>    6.243</td> <td> 0.000</td> <td>    0.231</td> <td>    0.443</td>\n",
       "</tr>\n",
       "<tr>\n",
       "  <th>age</th>            <td>   -0.0136</td> <td>    0.003</td> <td>   -4.671</td> <td> 0.000</td> <td>   -0.019</td> <td>   -0.008</td>\n",
       "</tr>\n",
       "<tr>\n",
       "  <th>blood_pressure</th> <td>    0.0042</td> <td>    0.000</td> <td>   10.179</td> <td> 0.000</td> <td>    0.003</td> <td>    0.005</td>\n",
       "</tr>\n",
       "<tr>\n",
       "  <th>TestA</th>          <td>    0.0012</td> <td>    0.005</td> <td>    0.226</td> <td> 0.821</td> <td>   -0.009</td> <td>    0.012</td>\n",
       "</tr>\n",
       "<tr>\n",
       "  <th>TestB</th>          <td>   -0.2583</td> <td>    0.032</td> <td>   -8.083</td> <td> 0.000</td> <td>   -0.321</td> <td>   -0.196</td>\n",
       "</tr>\n",
       "<tr>\n",
       "  <th>GeneD</th>          <td>   -0.0134</td> <td>    0.011</td> <td>   -1.213</td> <td> 0.225</td> <td>   -0.035</td> <td>    0.008</td>\n",
       "</tr>\n",
       "<tr>\n",
       "  <th>GeneE</th>          <td>   -0.0453</td> <td>    0.011</td> <td>   -4.110</td> <td> 0.000</td> <td>   -0.067</td> <td>   -0.024</td>\n",
       "</tr>\n",
       "<tr>\n",
       "  <th>GeneF</th>          <td>   -0.0218</td> <td>    0.011</td> <td>   -1.970</td> <td> 0.049</td> <td>   -0.043</td> <td>   -0.000</td>\n",
       "</tr>\n",
       "<tr>\n",
       "  <th>female</th>         <td>    0.4099</td> <td>    0.028</td> <td>   14.879</td> <td> 0.000</td> <td>    0.356</td> <td>    0.464</td>\n",
       "</tr>\n",
       "<tr>\n",
       "  <th>male</th>           <td>   -0.0731</td> <td>    0.028</td> <td>   -2.649</td> <td> 0.008</td> <td>   -0.127</td> <td>   -0.019</td>\n",
       "</tr>\n",
       "<tr>\n",
       "  <th>bt_negative</th>    <td>    0.1953</td> <td>    0.028</td> <td>    6.917</td> <td> 0.000</td> <td>    0.140</td> <td>    0.251</td>\n",
       "</tr>\n",
       "<tr>\n",
       "  <th>bt_positive</th>    <td>    0.1416</td> <td>    0.029</td> <td>    4.845</td> <td> 0.000</td> <td>    0.084</td> <td>    0.199</td>\n",
       "</tr>\n",
       "<tr>\n",
       "  <th>fh_False</th>       <td>    0.0503</td> <td>    0.033</td> <td>    1.509</td> <td> 0.131</td> <td>   -0.015</td> <td>    0.116</td>\n",
       "</tr>\n",
       "<tr>\n",
       "  <th>fh_True</th>        <td>    0.2865</td> <td>    0.038</td> <td>    7.517</td> <td> 0.000</td> <td>    0.212</td> <td>    0.361</td>\n",
       "</tr>\n",
       "<tr>\n",
       "  <th>C_not active</th>   <td>    0.1654</td> <td>    0.027</td> <td>    6.015</td> <td> 0.000</td> <td>    0.111</td> <td>    0.219</td>\n",
       "</tr>\n",
       "<tr>\n",
       "  <th>C_active</th>       <td>    0.1715</td> <td>    0.028</td> <td>    6.218</td> <td> 0.000</td> <td>    0.117</td> <td>    0.226</td>\n",
       "</tr>\n",
       "</table>\n",
       "<table class=\"simpletable\">\n",
       "<tr>\n",
       "  <th>Omnibus:</th>       <td>390.799</td> <th>  Durbin-Watson:     </th> <td>   2.016</td>\n",
       "</tr>\n",
       "<tr>\n",
       "  <th>Prob(Omnibus):</th> <td> 0.000</td>  <th>  Jarque-Bera (JB):  </th> <td> 199.189</td>\n",
       "</tr>\n",
       "<tr>\n",
       "  <th>Skew:</th>          <td>-0.275</td>  <th>  Prob(JB):          </th> <td>5.58e-44</td>\n",
       "</tr>\n",
       "<tr>\n",
       "  <th>Kurtosis:</th>      <td> 2.299</td>  <th>  Cond. No.          </th> <td>1.73e+18</td>\n",
       "</tr>\n",
       "</table><br/><br/>Warnings:<br/>[1] Standard Errors assume that the covariance matrix of the errors is correctly specified.<br/>[2] The smallest eigenvalue is 2.85e-29. This might indicate that there are<br/>strong multicollinearity problems or that the design matrix is singular."
      ],
      "text/plain": [
       "<class 'statsmodels.iolib.summary.Summary'>\n",
       "\"\"\"\n",
       "                            OLS Regression Results                            \n",
       "==============================================================================\n",
       "Dep. Variable:              treatment   R-squared:                       0.268\n",
       "Model:                            OLS   Adj. R-squared:                  0.267\n",
       "Method:                 Least Squares   F-statistic:                     200.5\n",
       "Date:                Wed, 24 Feb 2021   Prob (F-statistic):               0.00\n",
       "Time:                        21:48:25   Log-Likelihood:                -3399.6\n",
       "No. Observations:                6031   AIC:                             6823.\n",
       "Df Residuals:                    6019   BIC:                             6904.\n",
       "Df Model:                          11                                         \n",
       "Covariance Type:            nonrobust                                         \n",
       "==================================================================================\n",
       "                     coef    std err          t      P>|t|      [0.025      0.975]\n",
       "----------------------------------------------------------------------------------\n",
       "const              0.3368      0.054      6.243      0.000       0.231       0.443\n",
       "age               -0.0136      0.003     -4.671      0.000      -0.019      -0.008\n",
       "blood_pressure     0.0042      0.000     10.179      0.000       0.003       0.005\n",
       "TestA              0.0012      0.005      0.226      0.821      -0.009       0.012\n",
       "TestB             -0.2583      0.032     -8.083      0.000      -0.321      -0.196\n",
       "GeneD             -0.0134      0.011     -1.213      0.225      -0.035       0.008\n",
       "GeneE             -0.0453      0.011     -4.110      0.000      -0.067      -0.024\n",
       "GeneF             -0.0218      0.011     -1.970      0.049      -0.043      -0.000\n",
       "female             0.4099      0.028     14.879      0.000       0.356       0.464\n",
       "male              -0.0731      0.028     -2.649      0.008      -0.127      -0.019\n",
       "bt_negative        0.1953      0.028      6.917      0.000       0.140       0.251\n",
       "bt_positive        0.1416      0.029      4.845      0.000       0.084       0.199\n",
       "fh_False           0.0503      0.033      1.509      0.131      -0.015       0.116\n",
       "fh_True            0.2865      0.038      7.517      0.000       0.212       0.361\n",
       "C_not active       0.1654      0.027      6.015      0.000       0.111       0.219\n",
       "C_active           0.1715      0.028      6.218      0.000       0.117       0.226\n",
       "==============================================================================\n",
       "Omnibus:                      390.799   Durbin-Watson:                   2.016\n",
       "Prob(Omnibus):                  0.000   Jarque-Bera (JB):              199.189\n",
       "Skew:                          -0.275   Prob(JB):                     5.58e-44\n",
       "Kurtosis:                       2.299   Cond. No.                     1.73e+18\n",
       "==============================================================================\n",
       "\n",
       "Warnings:\n",
       "[1] Standard Errors assume that the covariance matrix of the errors is correctly specified.\n",
       "[2] The smallest eigenvalue is 2.85e-29. This might indicate that there are\n",
       "strong multicollinearity problems or that the design matrix is singular.\n",
       "\"\"\""
      ]
     },
     "execution_count": 42,
     "metadata": {},
     "output_type": "execute_result"
    }
   ],
   "source": [
    "target = df_new[['treatment']]\n",
    "features = df_new.drop(columns = ['treatment'])\n",
    "\n",
    "X_1 = sm.add_constant(features)\n",
    "X_1\n",
    "\n",
    "model = sm.OLS(target,X_1).fit()\n",
    "model.summary()\n",
    "\n",
    "#sm.Logit()\n",
    "\n"
   ]
  },
  {
   "cell_type": "markdown",
   "metadata": {},
   "source": [
    "#### Assume alpha is 0.05"
   ]
  },
  {
   "cell_type": "markdown",
   "metadata": {},
   "source": [
    "- Notice P-value of TestA and GeneD are greater than 0.05, which implies statistically insignifianct. P-value of rest attributes (0.0) is smaller than 0.05, which implies statistaically significant. "
   ]
  },
  {
   "cell_type": "code",
   "execution_count": 43,
   "metadata": {},
   "outputs": [
    {
     "name": "stdout",
     "output_type": "stream",
     "text": [
      "       features       VIF\n",
      "0         TestA  1.001373\n",
      "1         TestB  1.000430\n",
      "2         GeneD  1.000299\n",
      "3         GeneE  1.000974\n",
      "4         GeneF  1.000426\n",
      "5  C_not active  3.471710\n",
      "6      C_active  3.985301\n"
     ]
    }
   ],
   "source": [
    "from statsmodels.stats.outliers_influence import variance_inflation_factor\n",
    "\n",
    "# the independent variables set \n",
    "Indepent_var = df_new[['TestA', 'TestB', 'GeneD', 'GeneE', 'GeneF', 'C_not active', 'C_active']]\n",
    "\n",
    "\n",
    "# VIF dataframe \n",
    "vif_data = pd.DataFrame()\n",
    "vif_data['features'] = Indepent_var.columns\n",
    "\n",
    "# calculating VIF for each feature \n",
    "vif_data['VIF'] = [variance_inflation_factor(Indepent_var.values, i)\n",
    "                   for i in range(len(Indepent_var.columns))]\n",
    "\n",
    "print(vif_data)"
   ]
  },
  {
   "cell_type": "markdown",
   "metadata": {},
   "source": [
    "Based on Rule of Thumb (according to lecture note): \n",
    "\n",
    "- VIF > 5 demonstrates that it is a high multicollinearity which means highly correlated between features. Drop either one should do the trick. However, neither of these features has high multicollinearity. \n",
    "\n",
    "- VIF < 5 demonstrates that it is a low multicollinearity which means lower correlated in TestA, TestB, GeneD, GeneE, GeneF, C_not active, C_active. "
   ]
  },
  {
   "cell_type": "code",
   "execution_count": 44,
   "metadata": {},
   "outputs": [],
   "source": [
    "#log_reg.fit().params\n"
   ]
  },
  {
   "cell_type": "markdown",
   "metadata": {},
   "source": [
    "##  Feature Selection - Backward Elimination "
   ]
  },
  {
   "cell_type": "code",
   "execution_count": 45,
   "metadata": {},
   "outputs": [
    {
     "name": "stdout",
     "output_type": "stream",
     "text": [
      "['age', 'blood_pressure', 'TestB', 'GeneE', 'GeneF', 'female', 'male', 'bt_negative', 'bt_positive', 'fh_True', 'C_not active', 'C_active']\n"
     ]
    }
   ],
   "source": [
    "#Backward Elimination\n",
    "#Reference: https://www.kaggle.com/anerisavani/eda-and-price-prediction-of-used-vehicles\n",
    "cols = list(features.columns)\n",
    "p_max = 1\n",
    "i = 0\n",
    " \n",
    "while (len(cols)>0):\n",
    "    p= []\n",
    "    X_1 = features[cols]\n",
    "    X_1 = sm.add_constant(X_1)\n",
    "    model = sm.OLS(target,X_1).fit()\n",
    "    p = pd.Series(model.pvalues.values[1:],index = cols)      \n",
    "    p_max = max(p)\n",
    "    feature_with_p_max = p.idxmax()\n",
    "    if(p_max>0.05):\n",
    "        cols.remove(feature_with_p_max)\n",
    "    else:\n",
    "        break\n",
    "\n",
    "        \n",
    "selected_features = cols\n",
    "print(selected_features)\n",
    "\n",
    "#selected_features.summary()"
   ]
  },
  {
   "cell_type": "markdown",
   "metadata": {},
   "source": [
    "- Assume alpha is 0.05. \n",
    "\n",
    "- Notice that TestA, GeneD are greater than 0.05, which implies these two are statistically insignificant. So we drop TestA, GeneD variables and apply the rest of dataset into model. "
   ]
  },
  {
   "cell_type": "markdown",
   "metadata": {},
   "source": [
    "# Applying Logistic regression learning method"
   ]
  },
  {
   "cell_type": "markdown",
   "metadata": {},
   "source": [
    "## Split Data into Train and Test"
   ]
  },
  {
   "cell_type": "code",
   "execution_count": 46,
   "metadata": {},
   "outputs": [],
   "source": [
    "import sklearn\n",
    "from sklearn.linear_model import LogisticRegression\n",
    "from sklearn.linear_model import LogisticRegressionCV\n",
    "\n",
    "from sklearn.model_selection import train_test_split\n",
    "from sklearn import metrics\n",
    "from sklearn.metrics import roc_curve, auc\n",
    "from sklearn.metrics import accuracy_score, precision_score, recall_score, f1_score\n",
    "from sklearn.model_selection import cross_validate\n",
    "from sklearn.model_selection import cross_val_score\n",
    "\n"
   ]
  },
  {
   "cell_type": "code",
   "execution_count": 47,
   "metadata": {},
   "outputs": [
    {
     "name": "stdout",
     "output_type": "stream",
     "text": [
      "(3618, 13) (3618, 1)\n",
      "(1206, 13) (1206, 1)\n",
      "(1207, 13) (1207, 1)\n"
     ]
    }
   ],
   "source": [
    "y = df_new[['treatment']]\n",
    "X = df_new.drop(columns = ['treatment','TestA', 'GeneD'])\n",
    "\n",
    "\n",
    "#Split Training & Testing Set\n",
    "Xtrain, Xtest, ytrain, ytest = train_test_split(X, y, test_size=0.2, random_state=1)\n",
    "\n",
    "#Split Training Set again into Training & validation Set\n",
    "Xtrain, Xval, ytrain, yval = train_test_split(Xtrain, ytrain, test_size=0.25, random_state=1) # 0.25 x 0.8 = 0.2\n",
    "\n",
    "\n",
    "\n",
    "print(Xtrain.shape, ytrain.shape)\n",
    "print(Xval.shape, yval.shape)\n",
    "print(Xtest.shape, ytest.shape)"
   ]
  },
  {
   "cell_type": "markdown",
   "metadata": {},
   "source": [
    "### Add regularization to the model"
   ]
  },
  {
   "cell_type": "code",
   "execution_count": 48,
   "metadata": {},
   "outputs": [
    {
     "name": "stderr",
     "output_type": "stream",
     "text": [
      "/Users/Ellina/opt/anaconda3/lib/python3.8/site-packages/sklearn/utils/validation.py:73: DataConversionWarning: A column-vector y was passed when a 1d array was expected. Please change the shape of y to (n_samples, ), for example using ravel().\n",
      "  return f(**kwargs)\n",
      "/Users/Ellina/opt/anaconda3/lib/python3.8/site-packages/sklearn/linear_model/_logistic.py:762: ConvergenceWarning: lbfgs failed to converge (status=1):\n",
      "STOP: TOTAL NO. of ITERATIONS REACHED LIMIT.\n",
      "\n",
      "Increase the number of iterations (max_iter) or scale the data as shown in:\n",
      "    https://scikit-learn.org/stable/modules/preprocessing.html\n",
      "Please also refer to the documentation for alternative solver options:\n",
      "    https://scikit-learn.org/stable/modules/linear_model.html#logistic-regression\n",
      "  n_iter_i = _check_optimize_result(\n",
      "/Users/Ellina/opt/anaconda3/lib/python3.8/site-packages/sklearn/utils/validation.py:73: DataConversionWarning: A column-vector y was passed when a 1d array was expected. Please change the shape of y to (n_samples, ), for example using ravel().\n",
      "  return f(**kwargs)\n",
      "/Users/Ellina/opt/anaconda3/lib/python3.8/site-packages/sklearn/utils/validation.py:73: DataConversionWarning: A column-vector y was passed when a 1d array was expected. Please change the shape of y to (n_samples, ), for example using ravel().\n",
      "  return f(**kwargs)\n"
     ]
    }
   ],
   "source": [
    "#Reference: https://zhuanlan.zhihu.com/p/35182003\n",
    "\n",
    "logitreg_none = LogisticRegression(penalty='none')\n",
    "logitreg_none.fit(Xtrain,ytrain)\n",
    "y_predict_none = logitreg_none.predict(Xval)\n",
    "\n",
    "logitreg_l1 = LogisticRegression(penalty='l1', solver='liblinear', C=1, class_weight='balanced')\n",
    "logitreg_l1.fit(Xtrain,ytrain)\n",
    "y_predict_l1 = logitreg_l1.predict(Xval)\n",
    "\n",
    "logitreg_l2 = LogisticRegression(penalty='l2', solver='liblinear',C=1, class_weight='balanced')\n",
    "logitreg_l2.fit(Xtrain,ytrain)\n",
    "y_predict_l2 = logitreg_l2.predict(Xval)\n",
    "\n"
   ]
  },
  {
   "cell_type": "code",
   "execution_count": null,
   "metadata": {},
   "outputs": [],
   "source": []
  },
  {
   "cell_type": "markdown",
   "metadata": {},
   "source": [
    "### Model Accuracy, Precision, F1_score, AUC_ROC score"
   ]
  },
  {
   "cell_type": "code",
   "execution_count": 49,
   "metadata": {},
   "outputs": [
    {
     "name": "stdout",
     "output_type": "stream",
     "text": [
      "When penalty is None: ===============\n",
      "Logistic Regression Accuracy is:  0.7454394693200663\n",
      "Logistic Regression Precision is:  0.7452054794520548\n",
      "Logistic Regression F1 score is:  0.7799283154121863\n",
      "Logistic Regression AUC score is:  0.7371186746904229\n",
      "When penalty is l1: ===============\n",
      "Logistic Regression Accuracy is:  0.7479270315091211\n",
      "Logistic Regression Precision is:  0.7531556802244039\n",
      "Logistic Regression F1 score is:  0.7793904208998548\n",
      "Logistic Regression AUC score is:  0.7410976609731353\n",
      "When penalty is l2: ===============\n",
      "Logistic Regression Accuracy is:  0.746268656716418\n",
      "Logistic Regression Precision is:  0.7510489510489511\n",
      "Logistic Regression F1 score is:  0.7782608695652173\n",
      "Logistic Regression AUC_ROC score is:  0.7392492321376455\n"
     ]
    }
   ],
   "source": [
    "#Model accuracy+precision+F1+AUC (Penalty: NONE)\n",
    "accuracy_none = sklearn.metrics.accuracy_score(yval, y_predict_none)\n",
    "precision_none = sklearn.metrics.precision_score(yval, y_predict_none)\n",
    "F1_none = sklearn.metrics.f1_score(yval, y_predict_none)\n",
    "AUC_none = sklearn.metrics.roc_auc_score(yval, y_predict_none)\n",
    "print('When penalty is None: ===============')\n",
    "print('Logistic Regression Accuracy is: ', accuracy_none)\n",
    "print('Logistic Regression Precision is: ', precision_none)\n",
    "print('Logistic Regression F1 score is: ', F1_none)\n",
    "print('Logistic Regression AUC score is: ', AUC_none)\n",
    "\n",
    "#Model accuracy+precision+F1+AUC (Penalty: l1)\n",
    "accuracy_l1 = sklearn.metrics.accuracy_score(yval, y_predict_l1)\n",
    "precision_l1 = sklearn.metrics.precision_score(yval, y_predict_l1)\n",
    "F1_l1 = sklearn.metrics.f1_score(yval, y_predict_l1)\n",
    "AUC_l1 = sklearn.metrics.roc_auc_score(yval, y_predict_l1)\n",
    "print('When penalty is l1: ===============')\n",
    "print('Logistic Regression Accuracy is: ', accuracy_l1)\n",
    "print('Logistic Regression Precision is: ', precision_l1)\n",
    "print('Logistic Regression F1 score is: ', F1_l1)\n",
    "print('Logistic Regression AUC score is: ', AUC_l1)\n",
    "\n",
    "\n",
    "#Model accuracy+precision+F1+AUC (Penalty: l2)\n",
    "accuracy_l2 = sklearn.metrics.accuracy_score(yval, y_predict_l2)\n",
    "precision_l2 = sklearn.metrics.precision_score(yval, y_predict_l2)\n",
    "F1_l2 = sklearn.metrics.f1_score(yval, y_predict_l2)\n",
    "AUC_l2 = sklearn.metrics.roc_auc_score(yval, y_predict_l2)\n",
    "print('When penalty is l2: ===============')\n",
    "print('Logistic Regression Accuracy is: ', accuracy_l2)\n",
    "print('Logistic Regression Precision is: ', precision_l2)\n",
    "print('Logistic Regression F1 score is: ', F1_l2)\n",
    "print('Logistic Regression AUC_ROC score is: ', AUC_l2)\n",
    "\n"
   ]
  },
  {
   "cell_type": "code",
   "execution_count": 50,
   "metadata": {},
   "outputs": [],
   "source": [
    "#Confusion Matrix\n",
    "from sklearn.metrics import confusion_matrix\n",
    "import seaborn as sns\n",
    "from sklearn.metrics import classification_report\n",
    "#@Reference: https://medium.com/@oluwabukunmige/logistic-regression-in-scikit-learn-a-step-by-step-process-32f546241f32\n",
    "#@Reference: https://medium.com/datadriveninvestor/confusion-matric-tpr-fpr-fnr-tnr-precision-recall-f1-score-73efa162a25f"
   ]
  },
  {
   "cell_type": "markdown",
   "metadata": {},
   "source": [
    "#### Penalty with None"
   ]
  },
  {
   "cell_type": "code",
   "execution_count": 51,
   "metadata": {},
   "outputs": [
    {
     "data": {
      "text/plain": [
       "Text(30.5, 0.5, 'true')"
      ]
     },
     "execution_count": 51,
     "metadata": {},
     "output_type": "execute_result"
    },
    {
     "data": {
      "image/png": "[encoded data removed]",
      "text/plain": [
       "<Figure size 432x288 with 2 Axes>"
      ]
     },
     "metadata": {},
     "output_type": "display_data"
    },
    {
     "data": {
      "text/plain": [
       "<Figure size 504x288 with 0 Axes>"
      ]
     },
     "metadata": {},
     "output_type": "display_data"
    }
   ],
   "source": [
    "sns.set()\n",
    "f,ax=plt.subplots()\n",
    "confusion = confusion_matrix(yval,y_predict_none)\n",
    "confusion\n",
    "\n",
    "conf_matrix = pd.DataFrame(data=confusion,columns=['Predict:0','Predict:1'],index=['True:0','True:1'])\n",
    "plt.figure(figsize = (7,4))\n",
    "sns.heatmap(conf_matrix, annot = True,fmt = 'd',cmap = \"spring_r\", ax=ax)\n",
    "ax.set_title('confusion matrix') #标题\n",
    "ax.set_xlabel('predict') #x轴\n",
    "ax.set_ylabel('true') #y轴"
   ]
  },
  {
   "cell_type": "markdown",
   "metadata": {},
   "source": [
    "- The result shows us that we have 366+537 = 903 correct predictions and 128 + 175 = 303 incorrect prediction. "
   ]
  },
  {
   "cell_type": "code",
   "execution_count": 52,
   "metadata": {},
   "outputs": [
    {
     "name": "stdout",
     "output_type": "stream",
     "text": [
      "FN: 355 FP: 186\n",
      "TN: 121 TP: 544\n",
      "False positive rate: 0.606\n",
      "False negative rate: 0.395\n",
      "              precision    recall  f1-score   support\n",
      "\n",
      "           0       0.75      0.66      0.70       541\n",
      "           1       0.75      0.82      0.78       665\n",
      "\n",
      "    accuracy                           0.75      1206\n",
      "   macro avg       0.75      0.74      0.74      1206\n",
      "weighted avg       0.75      0.75      0.74      1206\n",
      "\n"
     ]
    }
   ],
   "source": [
    "TP=confusion[1,1] #TP = True Positive\n",
    "TN=confusion[1,0] #TN = True Negative\n",
    "FP=confusion[0,1] #FN = False Negative\n",
    "FN=confusion[0,0] #FP = False Positive\n",
    "\n",
    "print('FN:',FN, 'FP:', FP)\n",
    "print('TN:', TN, 'TP:',TP)\n",
    "print('False positive rate:', round(FP/(FP+TN+0.01), 3))\n",
    "print('False negative rate:', round(FN/(FN+TP+0.01), 3))\n",
    "\n",
    "from sklearn.metrics import classification_report\n",
    "print(classification_report(yval, y_predict_none, target_names=['0', '1']))\n"
   ]
  },
  {
   "cell_type": "markdown",
   "metadata": {},
   "source": [
    "#### Penalty with l1"
   ]
  },
  {
   "cell_type": "code",
   "execution_count": 53,
   "metadata": {},
   "outputs": [
    {
     "data": {
      "text/plain": [
       "Text(30.5, 0.5, 'true')"
      ]
     },
     "execution_count": 53,
     "metadata": {},
     "output_type": "execute_result"
    },
    {
     "data": {
      "image/png": "[encoded data removed]",
      "text/plain": [
       "<Figure size 432x288 with 2 Axes>"
      ]
     },
     "metadata": {},
     "output_type": "display_data"
    },
    {
     "data": {
      "text/plain": [
       "<Figure size 504x288 with 0 Axes>"
      ]
     },
     "metadata": {},
     "output_type": "display_data"
    }
   ],
   "source": [
    "\n",
    "sns.set()\n",
    "f,ax=plt.subplots()\n",
    "confusion = confusion_matrix(yval,y_predict_l1)\n",
    "confusion\n",
    "\n",
    "conf_matrix = pd.DataFrame(data=confusion,columns=['Predict:0','Predict:1'],index=['True:0','True:1'])\n",
    "plt.figure(figsize = (7,4))\n",
    "sns.heatmap(conf_matrix, annot = True,fmt = 'd',cmap = \"spring_r\", ax=ax)\n",
    "ax.set_title('confusion matrix') #标题\n",
    "ax.set_xlabel('predict') #x轴\n",
    "ax.set_ylabel('true') #y轴\n"
   ]
  },
  {
   "cell_type": "markdown",
   "metadata": {},
   "source": [
    "- The result shows us that we have 352+563 = 915 correct predictions and 136 + 156 = 292 incorrect prediction. "
   ]
  },
  {
   "cell_type": "code",
   "execution_count": 54,
   "metadata": {},
   "outputs": [
    {
     "name": "stdout",
     "output_type": "stream",
     "text": [
      "FN: 365 FP: 176\n",
      "TN: 128 TP: 537\n",
      "False positive rate: 0.579\n",
      "False negative rate: 0.405\n",
      "              precision    recall  f1-score   support\n",
      "\n",
      "           0       0.74      0.67      0.71       541\n",
      "           1       0.75      0.81      0.78       665\n",
      "\n",
      "    accuracy                           0.75      1206\n",
      "   macro avg       0.75      0.74      0.74      1206\n",
      "weighted avg       0.75      0.75      0.75      1206\n",
      "\n"
     ]
    }
   ],
   "source": [
    "TP=confusion[1,1] #TP = True Positive\n",
    "TN=confusion[1,0] #TN = True Negative\n",
    "FP=confusion[0,1] #FN = False Negative\n",
    "FN=confusion[0,0] #FP = False Positive\n",
    "\n",
    "print('FN:',FN, 'FP:', FP)\n",
    "print('TN:', TN, 'TP:',TP)\n",
    "print('False positive rate:', round(FP/(FP+TN+0.01), 3))\n",
    "print('False negative rate:', round(FN/(FN+TP+0.01), 3))\n",
    "\n",
    "from sklearn.metrics import classification_report\n",
    "print(classification_report(yval, y_predict_l1, target_names=['0', '1']))\n"
   ]
  },
  {
   "cell_type": "code",
   "execution_count": null,
   "metadata": {},
   "outputs": [],
   "source": []
  },
  {
   "cell_type": "markdown",
   "metadata": {},
   "source": [
    "#### Penalty with l2"
   ]
  },
  {
   "cell_type": "code",
   "execution_count": 55,
   "metadata": {},
   "outputs": [
    {
     "data": {
      "text/plain": [
       "Text(30.5, 0.5, 'true')"
      ]
     },
     "execution_count": 55,
     "metadata": {},
     "output_type": "execute_result"
    },
    {
     "data": {
      "image/png": "[encoded data removed]",
      "text/plain": [
       "<Figure size 432x288 with 2 Axes>"
      ]
     },
     "metadata": {},
     "output_type": "display_data"
    },
    {
     "data": {
      "text/plain": [
       "<Figure size 504x288 with 0 Axes>"
      ]
     },
     "metadata": {},
     "output_type": "display_data"
    }
   ],
   "source": [
    "sns.set()\n",
    "f,ax=plt.subplots()\n",
    "confusion = confusion_matrix(yval,y_predict_l2)\n",
    "confusion\n",
    "\n",
    "conf_matrix = pd.DataFrame(data=confusion,columns=['Predict:0','Predict:1'],index=['True:0','True:1'])\n",
    "plt.figure(figsize = (7,4))\n",
    "sns.heatmap(conf_matrix, annot = True,fmt = 'd',cmap = \"spring_r\", ax=ax)\n",
    "ax.set_title('confusion matrix') #标题\n",
    "ax.set_xlabel('predict') #x轴\n",
    "ax.set_ylabel('true') #y轴"
   ]
  },
  {
   "cell_type": "markdown",
   "metadata": {},
   "source": [
    "- The result shows us that we have 350+565 = 915 correct predictions and 134 + 158 = 292 incorrect prediction. "
   ]
  },
  {
   "cell_type": "code",
   "execution_count": 56,
   "metadata": {},
   "outputs": [
    {
     "name": "stdout",
     "output_type": "stream",
     "text": [
      "FN: 363 FP: 178\n",
      "TN: 128 TP: 537\n",
      "False positive rate: 0.582\n",
      "False negative rate: 0.403\n",
      "              precision    recall  f1-score   support\n",
      "\n",
      "           0       0.74      0.67      0.70       541\n",
      "           1       0.75      0.81      0.78       665\n",
      "\n",
      "    accuracy                           0.75      1206\n",
      "   macro avg       0.75      0.74      0.74      1206\n",
      "weighted avg       0.75      0.75      0.74      1206\n",
      "\n"
     ]
    }
   ],
   "source": [
    "TP=confusion[1,1] #TP = True Positive\n",
    "TN=confusion[1,0] #TN = True Negative\n",
    "FP=confusion[0,1] #FN = False Negative\n",
    "FN=confusion[0,0] #FP = False Positive\n",
    "\n",
    "print('FN:',FN, 'FP:', FP)\n",
    "print('TN:', TN, 'TP:',TP)\n",
    "print('False positive rate:', round(FP/(FP+TN+0.01), 3))\n",
    "print('False negative rate:', round(FN/(FN+TP+0.01), 3))\n",
    "\n",
    "from sklearn.metrics import classification_report\n",
    "print(classification_report(yval, y_predict_l2, target_names=['0', '1']))"
   ]
  },
  {
   "cell_type": "markdown",
   "metadata": {},
   "source": []
  },
  {
   "cell_type": "markdown",
   "metadata": {},
   "source": [
    "##  Choose Logistic Regression with penalty = l1"
   ]
  },
  {
   "cell_type": "code",
   "execution_count": 57,
   "metadata": {},
   "outputs": [
    {
     "name": "stderr",
     "output_type": "stream",
     "text": [
      "/Users/Ellina/opt/anaconda3/lib/python3.8/site-packages/sklearn/utils/validation.py:73: DataConversionWarning: A column-vector y was passed when a 1d array was expected. Please change the shape of y to (n_samples, ), for example using ravel().\n",
      "  return f(**kwargs)\n"
     ]
    }
   ],
   "source": [
    "#logitreg = LogisticRegression(penalty='l1', solver='liblinear', C=1, class_weight='balanced')\n",
    "logitreg = LogisticRegression(penalty='l1', solver='liblinear', C=1, class_weight='balanced')\n",
    "logitreg.fit(Xtest,ytest)\n",
    "y_predict = logitreg.predict(Xtest)"
   ]
  },
  {
   "cell_type": "code",
   "execution_count": 58,
   "metadata": {},
   "outputs": [
    {
     "name": "stdout",
     "output_type": "stream",
     "text": [
      "Logistic Regression Accuracy is:  0.7497928748964374\n",
      "Logistic Regression Precision is:  0.7722908093278463\n",
      "Logistic Regression F1 score is:  0.788515406162465\n",
      "Logistic Regression AUC_ROC score is:  0.7393323420409359\n"
     ]
    }
   ],
   "source": [
    "#Model accuracy+precision+F1+AUC (Penalty: None)\n",
    "accuracy = sklearn.metrics.accuracy_score(ytest, y_predict)\n",
    "precision = sklearn.metrics.precision_score(ytest, y_predict)\n",
    "F1 = sklearn.metrics.f1_score(ytest, y_predict)\n",
    "ROC_AUC = sklearn.metrics.roc_auc_score(ytest, y_predict)\n",
    "print('Logistic Regression Accuracy is: ', accuracy)\n",
    "print('Logistic Regression Precision is: ', precision)\n",
    "print('Logistic Regression F1 score is: ', F1)\n",
    "print('Logistic Regression AUC_ROC score is: ', ROC_AUC)"
   ]
  },
  {
   "cell_type": "code",
   "execution_count": 59,
   "metadata": {},
   "outputs": [
    {
     "data": {
      "text/plain": [
       "Text(30.5, 0.5, 'true')"
      ]
     },
     "execution_count": 59,
     "metadata": {},
     "output_type": "execute_result"
    },
    {
     "data": {
      "image/png": "[encoded data removed]",
      "text/plain": [
       "<Figure size 432x288 with 2 Axes>"
      ]
     },
     "metadata": {},
     "output_type": "display_data"
    },
    {
     "data": {
      "text/plain": [
       "<Figure size 504x288 with 0 Axes>"
      ]
     },
     "metadata": {},
     "output_type": "display_data"
    }
   ],
   "source": [
    "sns.set()\n",
    "f,ax=plt.subplots()\n",
    "confusion = confusion_matrix(ytest,y_predict)\n",
    "confusion\n",
    "\n",
    "conf_matrix = pd.DataFrame(data=confusion,columns=['Predict:0','Predict:1'],index=['True:0','True:1'])\n",
    "plt.figure(figsize = (7,4))\n",
    "sns.heatmap(conf_matrix, annot = True,fmt = 'd',cmap = \"spring_r\", ax=ax)\n",
    "ax.set_title('confusion matrix') \n",
    "ax.set_xlabel('predict') \n",
    "ax.set_ylabel('true') \n"
   ]
  },
  {
   "cell_type": "code",
   "execution_count": 60,
   "metadata": {},
   "outputs": [
    {
     "name": "stdout",
     "output_type": "stream",
     "text": [
      "FN: 342 FP: 166\n",
      "TN: 136 TP: 563\n",
      "False positive rate: 0.55\n",
      "False negative rate: 0.378\n",
      "              precision    recall  f1-score   support\n",
      "\n",
      "           0       0.72      0.67      0.69       508\n",
      "           1       0.77      0.81      0.79       699\n",
      "\n",
      "    accuracy                           0.75      1207\n",
      "   macro avg       0.74      0.74      0.74      1207\n",
      "weighted avg       0.75      0.75      0.75      1207\n",
      "\n"
     ]
    }
   ],
   "source": [
    "TP=confusion[1,1] #TP = True Positive\n",
    "TN=confusion[1,0] #TN = True Negative\n",
    "FP=confusion[0,1] #FN = False Negative\n",
    "FN=confusion[0,0] #FP = False Positive\n",
    "\n",
    "print('FN:',FN, 'FP:', FP)\n",
    "print('TN:', TN, 'TP:',TP)\n",
    "print('False positive rate:', round(FP/(FP+TN+0.01), 3))\n",
    "print('False negative rate:', round(FN/(FN+TP+0.01), 3))\n",
    "\n",
    "from sklearn.metrics import classification_report\n",
    "print(classification_report(ytest, y_predict, target_names=['0', '1']))\n",
    "\n"
   ]
  },
  {
   "cell_type": "code",
   "execution_count": 61,
   "metadata": {},
   "outputs": [
    {
     "name": "stdout",
     "output_type": "stream",
     "text": [
      "[[-0.06558465  0.02475505 -0.89604917 -0.37422495 -0.15781451  2.220635\n",
      "   0.          0.1287623   0.          0.          1.12119607  0.\n",
      "   0.00607656]]\n",
      "[[0.37373359 0.62626641]\n",
      " [0.46780212 0.53219788]\n",
      " [0.32316638 0.67683362]\n",
      " ...\n",
      " [0.62262985 0.37737015]\n",
      " [0.80868079 0.19131921]\n",
      " [0.26963646 0.73036354]]\n",
      "[0.2167521]\n"
     ]
    }
   ],
   "source": [
    "#identify and explain the most important relations between the variables and the expected outcome\n",
    "# >>>>> Describe some analysis of the coefficients given by the model.\n",
    "# ex. how the probability that the treatment is recommended changes with age? Or gender?\n",
    "print(logitreg.coef_)\n",
    "print(logitreg.predict_proba(Xtest)[:-1])\n",
    "print(logitreg.intercept_)"
   ]
  },
  {
   "cell_type": "code",
   "execution_count": 62,
   "metadata": {},
   "outputs": [
    {
     "name": "stdout",
     "output_type": "stream",
     "text": [
      "[0.62626641 0.53219788 0.67683362 ... 0.19131921 0.73036354 0.68603795]\n"
     ]
    }
   ],
   "source": [
    "#Reference: https://stackoverflow.com/questions/36681449/scikit-learn-return-value-of-logisticregression-predict-proba\n",
    "\n",
    "print(logitreg.predict_proba(Xtest)[:,1])"
   ]
  },
  {
   "cell_type": "code",
   "execution_count": 63,
   "metadata": {
    "scrolled": true
   },
   "outputs": [
    {
     "data": {
      "text/html": [
       "<table class=\"simpletable\">\n",
       "<caption>OLS Regression Results</caption>\n",
       "<tr>\n",
       "  <th>Dep. Variable:</th>        <td>treatment</td>    <th>  R-squared:         </th> <td>   0.268</td>\n",
       "</tr>\n",
       "<tr>\n",
       "  <th>Model:</th>                   <td>OLS</td>       <th>  Adj. R-squared:    </th> <td>   0.267</td>\n",
       "</tr>\n",
       "<tr>\n",
       "  <th>Method:</th>             <td>Least Squares</td>  <th>  F-statistic:       </th> <td>   244.9</td>\n",
       "</tr>\n",
       "<tr>\n",
       "  <th>Date:</th>             <td>Wed, 24 Feb 2021</td> <th>  Prob (F-statistic):</th>  <td>  0.00</td> \n",
       "</tr>\n",
       "<tr>\n",
       "  <th>Time:</th>                 <td>21:48:27</td>     <th>  Log-Likelihood:    </th> <td> -3400.3</td>\n",
       "</tr>\n",
       "<tr>\n",
       "  <th>No. Observations:</th>      <td>  6031</td>      <th>  AIC:               </th> <td>   6821.</td>\n",
       "</tr>\n",
       "<tr>\n",
       "  <th>Df Residuals:</th>          <td>  6021</td>      <th>  BIC:               </th> <td>   6888.</td>\n",
       "</tr>\n",
       "<tr>\n",
       "  <th>Df Model:</th>              <td>     9</td>      <th>                     </th>     <td> </td>   \n",
       "</tr>\n",
       "<tr>\n",
       "  <th>Covariance Type:</th>      <td>nonrobust</td>    <th>                     </th>     <td> </td>   \n",
       "</tr>\n",
       "</table>\n",
       "<table class=\"simpletable\">\n",
       "<tr>\n",
       "         <td></td>           <th>coef</th>     <th>std err</th>      <th>t</th>      <th>P>|t|</th>  <th>[0.025</th>    <th>0.975]</th>  \n",
       "</tr>\n",
       "<tr>\n",
       "  <th>const</th>          <td>    0.3241</td> <td>    0.026</td> <td>   12.351</td> <td> 0.000</td> <td>    0.273</td> <td>    0.376</td>\n",
       "</tr>\n",
       "<tr>\n",
       "  <th>age</th>            <td>   -0.0129</td> <td>    0.001</td> <td>  -12.796</td> <td> 0.000</td> <td>   -0.015</td> <td>   -0.011</td>\n",
       "</tr>\n",
       "<tr>\n",
       "  <th>blood_pressure</th> <td>    0.0042</td> <td>    0.000</td> <td>   10.166</td> <td> 0.000</td> <td>    0.003</td> <td>    0.005</td>\n",
       "</tr>\n",
       "<tr>\n",
       "  <th>TestB</th>          <td>   -0.2583</td> <td>    0.032</td> <td>   -8.082</td> <td> 0.000</td> <td>   -0.321</td> <td>   -0.196</td>\n",
       "</tr>\n",
       "<tr>\n",
       "  <th>GeneE</th>          <td>   -0.0453</td> <td>    0.011</td> <td>   -4.114</td> <td> 0.000</td> <td>   -0.067</td> <td>   -0.024</td>\n",
       "</tr>\n",
       "<tr>\n",
       "  <th>GeneF</th>          <td>   -0.0219</td> <td>    0.011</td> <td>   -1.984</td> <td> 0.047</td> <td>   -0.044</td> <td>   -0.000</td>\n",
       "</tr>\n",
       "<tr>\n",
       "  <th>female</th>         <td>    0.4035</td> <td>    0.014</td> <td>   28.380</td> <td> 0.000</td> <td>    0.376</td> <td>    0.431</td>\n",
       "</tr>\n",
       "<tr>\n",
       "  <th>male</th>           <td>   -0.0793</td> <td>    0.014</td> <td>   -5.532</td> <td> 0.000</td> <td>   -0.107</td> <td>   -0.051</td>\n",
       "</tr>\n",
       "<tr>\n",
       "  <th>bt_negative</th>    <td>    0.1887</td> <td>    0.016</td> <td>   12.158</td> <td> 0.000</td> <td>    0.158</td> <td>    0.219</td>\n",
       "</tr>\n",
       "<tr>\n",
       "  <th>bt_positive</th>    <td>    0.1354</td> <td>    0.017</td> <td>    7.842</td> <td> 0.000</td> <td>    0.102</td> <td>    0.169</td>\n",
       "</tr>\n",
       "<tr>\n",
       "  <th>fh_False</th>       <td>    0.0443</td> <td>    0.023</td> <td>    1.893</td> <td> 0.058</td> <td>   -0.002</td> <td>    0.090</td>\n",
       "</tr>\n",
       "<tr>\n",
       "  <th>fh_True</th>        <td>    0.2798</td> <td>    0.030</td> <td>    9.305</td> <td> 0.000</td> <td>    0.221</td> <td>    0.339</td>\n",
       "</tr>\n",
       "<tr>\n",
       "  <th>C_not active</th>   <td>    0.1590</td> <td>    0.014</td> <td>   11.158</td> <td> 0.000</td> <td>    0.131</td> <td>    0.187</td>\n",
       "</tr>\n",
       "<tr>\n",
       "  <th>C_active</th>       <td>    0.1651</td> <td>    0.014</td> <td>   11.621</td> <td> 0.000</td> <td>    0.137</td> <td>    0.193</td>\n",
       "</tr>\n",
       "</table>\n",
       "<table class=\"simpletable\">\n",
       "<tr>\n",
       "  <th>Omnibus:</th>       <td>390.641</td> <th>  Durbin-Watson:     </th> <td>   2.016</td>\n",
       "</tr>\n",
       "<tr>\n",
       "  <th>Prob(Omnibus):</th> <td> 0.000</td>  <th>  Jarque-Bera (JB):  </th> <td> 198.998</td>\n",
       "</tr>\n",
       "<tr>\n",
       "  <th>Skew:</th>          <td>-0.274</td>  <th>  Prob(JB):          </th> <td>6.14e-44</td>\n",
       "</tr>\n",
       "<tr>\n",
       "  <th>Kurtosis:</th>      <td> 2.299</td>  <th>  Cond. No.          </th> <td>2.76e+18</td>\n",
       "</tr>\n",
       "</table><br/><br/>Warnings:<br/>[1] Standard Errors assume that the covariance matrix of the errors is correctly specified.<br/>[2] The smallest eigenvalue is 1.11e-29. This might indicate that there are<br/>strong multicollinearity problems or that the design matrix is singular."
      ],
      "text/plain": [
       "<class 'statsmodels.iolib.summary.Summary'>\n",
       "\"\"\"\n",
       "                            OLS Regression Results                            \n",
       "==============================================================================\n",
       "Dep. Variable:              treatment   R-squared:                       0.268\n",
       "Model:                            OLS   Adj. R-squared:                  0.267\n",
       "Method:                 Least Squares   F-statistic:                     244.9\n",
       "Date:                Wed, 24 Feb 2021   Prob (F-statistic):               0.00\n",
       "Time:                        21:48:27   Log-Likelihood:                -3400.3\n",
       "No. Observations:                6031   AIC:                             6821.\n",
       "Df Residuals:                    6021   BIC:                             6888.\n",
       "Df Model:                           9                                         \n",
       "Covariance Type:            nonrobust                                         \n",
       "==================================================================================\n",
       "                     coef    std err          t      P>|t|      [0.025      0.975]\n",
       "----------------------------------------------------------------------------------\n",
       "const              0.3241      0.026     12.351      0.000       0.273       0.376\n",
       "age               -0.0129      0.001    -12.796      0.000      -0.015      -0.011\n",
       "blood_pressure     0.0042      0.000     10.166      0.000       0.003       0.005\n",
       "TestB             -0.2583      0.032     -8.082      0.000      -0.321      -0.196\n",
       "GeneE             -0.0453      0.011     -4.114      0.000      -0.067      -0.024\n",
       "GeneF             -0.0219      0.011     -1.984      0.047      -0.044      -0.000\n",
       "female             0.4035      0.014     28.380      0.000       0.376       0.431\n",
       "male              -0.0793      0.014     -5.532      0.000      -0.107      -0.051\n",
       "bt_negative        0.1887      0.016     12.158      0.000       0.158       0.219\n",
       "bt_positive        0.1354      0.017      7.842      0.000       0.102       0.169\n",
       "fh_False           0.0443      0.023      1.893      0.058      -0.002       0.090\n",
       "fh_True            0.2798      0.030      9.305      0.000       0.221       0.339\n",
       "C_not active       0.1590      0.014     11.158      0.000       0.131       0.187\n",
       "C_active           0.1651      0.014     11.621      0.000       0.137       0.193\n",
       "==============================================================================\n",
       "Omnibus:                      390.641   Durbin-Watson:                   2.016\n",
       "Prob(Omnibus):                  0.000   Jarque-Bera (JB):              198.998\n",
       "Skew:                          -0.274   Prob(JB):                     6.14e-44\n",
       "Kurtosis:                       2.299   Cond. No.                     2.76e+18\n",
       "==============================================================================\n",
       "\n",
       "Warnings:\n",
       "[1] Standard Errors assume that the covariance matrix of the errors is correctly specified.\n",
       "[2] The smallest eigenvalue is 1.11e-29. This might indicate that there are\n",
       "strong multicollinearity problems or that the design matrix is singular.\n",
       "\"\"\""
      ]
     },
     "execution_count": 63,
     "metadata": {},
     "output_type": "execute_result"
    }
   ],
   "source": [
    "#identify and explain the most important relations between the variables and the expected outcome\n",
    "# >>>>> Describe some analysis of the coefficients given by the model.\n",
    "# ex. how the probability that the treatment is recommended changes with age? Or gender?\n",
    "target = df_new[['treatment']]\n",
    "features = df_new.drop(columns = ['treatment','TestA', 'GeneD'])\n",
    "\n",
    "X_1 = sm.add_constant(features)\n",
    "X_1\n",
    "\n",
    "model = sm.OLS(target,X_1).fit()\n",
    "model.summary()"
   ]
  },
  {
   "cell_type": "code",
   "execution_count": 64,
   "metadata": {},
   "outputs": [],
   "source": [
    "#logitreg.fit_regularized().params\n",
    "#log_reg.fit().params"
   ]
  },
  {
   "cell_type": "code",
   "execution_count": 65,
   "metadata": {},
   "outputs": [],
   "source": [
    "#print(logitreg.intercept_, logitreg.coef_)\n",
    "#print(logitreg.coef_)\n",
    "#sm.Logit(y, X)"
   ]
  },
  {
   "cell_type": "code",
   "execution_count": 66,
   "metadata": {
    "scrolled": false
   },
   "outputs": [],
   "source": [
    "#import statsmodels.api as sm\n",
    "#logitreg = sm.Logit(y, X)\n",
    "#result = logitreg.fit()\n",
    "#print(result.summary())\n"
   ]
  },
  {
   "cell_type": "code",
   "execution_count": null,
   "metadata": {},
   "outputs": [],
   "source": []
  },
  {
   "cell_type": "code",
   "execution_count": 67,
   "metadata": {},
   "outputs": [],
   "source": [
    "#model.predict_proba(Xtest)"
   ]
  },
  {
   "cell_type": "code",
   "execution_count": null,
   "metadata": {},
   "outputs": [],
   "source": []
  }
 ],
 "metadata": {
  "kernelspec": {
   "display_name": "Python 3",
   "language": "python",
   "name": "python3"
  },
  "language_info": {
   "codemirror_mode": {
    "name": "ipython",
    "version": 3
   },
   "file_extension": ".py",
   "mimetype": "text/x-python",
   "name": "python",
   "nbconvert_exporter": "python",
   "pygments_lexer": "ipython3",
   "version": "3.6.15"
  }
 },
 "nbformat": 4,
 "nbformat_minor": 4
}
